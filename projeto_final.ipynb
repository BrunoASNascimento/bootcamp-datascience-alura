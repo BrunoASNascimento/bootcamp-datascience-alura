{
 "metadata": {
  "language_info": {
   "codemirror_mode": {
    "name": "ipython",
    "version": 3
   },
   "file_extension": ".py",
   "mimetype": "text/x-python",
   "name": "python",
   "nbconvert_exporter": "python",
   "pygments_lexer": "ipython3",
   "version": "3.9.2-final"
  },
  "orig_nbformat": 2,
  "kernelspec": {
   "name": "python392jvsc74a57bd08ace69b29abc0c46aa5959e22e0ef4ca877813e79a0ab7b6fcbcd708b2578fcf",
   "display_name": "Python 3.9.2 64-bit ('study-data': conda)"
  }
 },
 "nbformat": 4,
 "nbformat_minor": 2,
 "cells": [
  {
   "cell_type": "code",
   "execution_count": 1,
   "metadata": {},
   "outputs": [],
   "source": [
    "import pandas as pd\n",
    "import sweetviz"
   ]
  },
  {
   "cell_type": "code",
   "execution_count": 2,
   "metadata": {},
   "outputs": [
    {
     "output_type": "execute_result",
     "data": {
      "text/plain": [
       "   PATIENT_VISIT_IDENTIFIER  AGE_ABOVE65 AGE_PERCENTIL  GENDER  \\\n",
       "0                         0            1          60th       0   \n",
       "1                         0            1          60th       0   \n",
       "2                         0            1          60th       0   \n",
       "3                         0            1          60th       0   \n",
       "4                         0            1          60th       0   \n",
       "\n",
       "   DISEASE GROUPING 1  DISEASE GROUPING 2  DISEASE GROUPING 3  \\\n",
       "0                 0.0                 0.0                 0.0   \n",
       "1                 0.0                 0.0                 0.0   \n",
       "2                 0.0                 0.0                 0.0   \n",
       "3                 0.0                 0.0                 0.0   \n",
       "4                 0.0                 0.0                 0.0   \n",
       "\n",
       "   DISEASE GROUPING 4  DISEASE GROUPING 5  DISEASE GROUPING 6  ...  \\\n",
       "0                 0.0                 1.0                 1.0  ...   \n",
       "1                 0.0                 1.0                 1.0  ...   \n",
       "2                 0.0                 1.0                 1.0  ...   \n",
       "3                 0.0                 1.0                 1.0  ...   \n",
       "4                 0.0                 1.0                 1.0  ...   \n",
       "\n",
       "   TEMPERATURE_DIFF  OXYGEN_SATURATION_DIFF  BLOODPRESSURE_DIASTOLIC_DIFF_REL  \\\n",
       "0         -1.000000               -1.000000                         -1.000000   \n",
       "1         -1.000000               -1.000000                         -1.000000   \n",
       "2               NaN                     NaN                               NaN   \n",
       "3         -1.000000               -1.000000                               NaN   \n",
       "4         -0.238095               -0.818182                         -0.389967   \n",
       "\n",
       "   BLOODPRESSURE_SISTOLIC_DIFF_REL  HEART_RATE_DIFF_REL  \\\n",
       "0                        -1.000000            -1.000000   \n",
       "1                        -1.000000            -1.000000   \n",
       "2                              NaN                  NaN   \n",
       "3                              NaN                  NaN   \n",
       "4                         0.407558            -0.230462   \n",
       "\n",
       "   RESPIRATORY_RATE_DIFF_REL  TEMPERATURE_DIFF_REL  \\\n",
       "0                  -1.000000             -1.000000   \n",
       "1                  -1.000000             -1.000000   \n",
       "2                        NaN                   NaN   \n",
       "3                        NaN             -1.000000   \n",
       "4                   0.096774             -0.242282   \n",
       "\n",
       "   OXYGEN_SATURATION_DIFF_REL    WINDOW  ICU  \n",
       "0                   -1.000000       0-2    0  \n",
       "1                   -1.000000       2-4    0  \n",
       "2                         NaN       4-6    0  \n",
       "3                   -1.000000      6-12    0  \n",
       "4                   -0.814433  ABOVE_12    1  \n",
       "\n",
       "[5 rows x 231 columns]"
      ],
      "text/html": "<div>\n<style scoped>\n    .dataframe tbody tr th:only-of-type {\n        vertical-align: middle;\n    }\n\n    .dataframe tbody tr th {\n        vertical-align: top;\n    }\n\n    .dataframe thead th {\n        text-align: right;\n    }\n</style>\n<table border=\"1\" class=\"dataframe\">\n  <thead>\n    <tr style=\"text-align: right;\">\n      <th></th>\n      <th>PATIENT_VISIT_IDENTIFIER</th>\n      <th>AGE_ABOVE65</th>\n      <th>AGE_PERCENTIL</th>\n      <th>GENDER</th>\n      <th>DISEASE GROUPING 1</th>\n      <th>DISEASE GROUPING 2</th>\n      <th>DISEASE GROUPING 3</th>\n      <th>DISEASE GROUPING 4</th>\n      <th>DISEASE GROUPING 5</th>\n      <th>DISEASE GROUPING 6</th>\n      <th>...</th>\n      <th>TEMPERATURE_DIFF</th>\n      <th>OXYGEN_SATURATION_DIFF</th>\n      <th>BLOODPRESSURE_DIASTOLIC_DIFF_REL</th>\n      <th>BLOODPRESSURE_SISTOLIC_DIFF_REL</th>\n      <th>HEART_RATE_DIFF_REL</th>\n      <th>RESPIRATORY_RATE_DIFF_REL</th>\n      <th>TEMPERATURE_DIFF_REL</th>\n      <th>OXYGEN_SATURATION_DIFF_REL</th>\n      <th>WINDOW</th>\n      <th>ICU</th>\n    </tr>\n  </thead>\n  <tbody>\n    <tr>\n      <th>0</th>\n      <td>0</td>\n      <td>1</td>\n      <td>60th</td>\n      <td>0</td>\n      <td>0.0</td>\n      <td>0.0</td>\n      <td>0.0</td>\n      <td>0.0</td>\n      <td>1.0</td>\n      <td>1.0</td>\n      <td>...</td>\n      <td>-1.000000</td>\n      <td>-1.000000</td>\n      <td>-1.000000</td>\n      <td>-1.000000</td>\n      <td>-1.000000</td>\n      <td>-1.000000</td>\n      <td>-1.000000</td>\n      <td>-1.000000</td>\n      <td>0-2</td>\n      <td>0</td>\n    </tr>\n    <tr>\n      <th>1</th>\n      <td>0</td>\n      <td>1</td>\n      <td>60th</td>\n      <td>0</td>\n      <td>0.0</td>\n      <td>0.0</td>\n      <td>0.0</td>\n      <td>0.0</td>\n      <td>1.0</td>\n      <td>1.0</td>\n      <td>...</td>\n      <td>-1.000000</td>\n      <td>-1.000000</td>\n      <td>-1.000000</td>\n      <td>-1.000000</td>\n      <td>-1.000000</td>\n      <td>-1.000000</td>\n      <td>-1.000000</td>\n      <td>-1.000000</td>\n      <td>2-4</td>\n      <td>0</td>\n    </tr>\n    <tr>\n      <th>2</th>\n      <td>0</td>\n      <td>1</td>\n      <td>60th</td>\n      <td>0</td>\n      <td>0.0</td>\n      <td>0.0</td>\n      <td>0.0</td>\n      <td>0.0</td>\n      <td>1.0</td>\n      <td>1.0</td>\n      <td>...</td>\n      <td>NaN</td>\n      <td>NaN</td>\n      <td>NaN</td>\n      <td>NaN</td>\n      <td>NaN</td>\n      <td>NaN</td>\n      <td>NaN</td>\n      <td>NaN</td>\n      <td>4-6</td>\n      <td>0</td>\n    </tr>\n    <tr>\n      <th>3</th>\n      <td>0</td>\n      <td>1</td>\n      <td>60th</td>\n      <td>0</td>\n      <td>0.0</td>\n      <td>0.0</td>\n      <td>0.0</td>\n      <td>0.0</td>\n      <td>1.0</td>\n      <td>1.0</td>\n      <td>...</td>\n      <td>-1.000000</td>\n      <td>-1.000000</td>\n      <td>NaN</td>\n      <td>NaN</td>\n      <td>NaN</td>\n      <td>NaN</td>\n      <td>-1.000000</td>\n      <td>-1.000000</td>\n      <td>6-12</td>\n      <td>0</td>\n    </tr>\n    <tr>\n      <th>4</th>\n      <td>0</td>\n      <td>1</td>\n      <td>60th</td>\n      <td>0</td>\n      <td>0.0</td>\n      <td>0.0</td>\n      <td>0.0</td>\n      <td>0.0</td>\n      <td>1.0</td>\n      <td>1.0</td>\n      <td>...</td>\n      <td>-0.238095</td>\n      <td>-0.818182</td>\n      <td>-0.389967</td>\n      <td>0.407558</td>\n      <td>-0.230462</td>\n      <td>0.096774</td>\n      <td>-0.242282</td>\n      <td>-0.814433</td>\n      <td>ABOVE_12</td>\n      <td>1</td>\n    </tr>\n  </tbody>\n</table>\n<p>5 rows × 231 columns</p>\n</div>"
     },
     "metadata": {},
     "execution_count": 2
    }
   ],
   "source": [
    "df_sirio_libanes = pd.read_excel('data/Kaggle_Sirio_Libanes_ICU_Prediction.xlsx')\n",
    "df_sirio_libanes.head()"
   ]
  },
  {
   "cell_type": "code",
   "execution_count": 3,
   "metadata": {},
   "outputs": [
    {
     "output_type": "execute_result",
     "data": {
      "text/plain": [
       "      PATIENT_VISIT_IDENTIFIER  AGE_ABOVE65 AGE_PERCENTIL  GENDER  \\\n",
       "1920                       384            0          50th       1   \n",
       "1921                       384            0          50th       1   \n",
       "1922                       384            0          50th       1   \n",
       "1923                       384            0          50th       1   \n",
       "1924                       384            0          50th       1   \n",
       "\n",
       "      DISEASE GROUPING 1  DISEASE GROUPING 2  DISEASE GROUPING 3  \\\n",
       "1920                 0.0                 0.0                 0.0   \n",
       "1921                 0.0                 0.0                 0.0   \n",
       "1922                 0.0                 0.0                 0.0   \n",
       "1923                 0.0                 0.0                 0.0   \n",
       "1924                 0.0                 0.0                 1.0   \n",
       "\n",
       "      DISEASE GROUPING 4  DISEASE GROUPING 5  DISEASE GROUPING 6  ...  \\\n",
       "1920                 0.0                 0.0                 0.0  ...   \n",
       "1921                 0.0                 0.0                 0.0  ...   \n",
       "1922                 0.0                 0.0                 0.0  ...   \n",
       "1923                 0.0                 0.0                 0.0  ...   \n",
       "1924                 0.0                 0.0                 0.0  ...   \n",
       "\n",
       "      TEMPERATURE_DIFF  OXYGEN_SATURATION_DIFF  \\\n",
       "1920         -1.000000               -1.000000   \n",
       "1921         -1.000000               -1.000000   \n",
       "1922         -1.000000               -1.000000   \n",
       "1923         -1.000000               -1.000000   \n",
       "1924         -0.547619               -0.838384   \n",
       "\n",
       "      BLOODPRESSURE_DIASTOLIC_DIFF_REL  BLOODPRESSURE_SISTOLIC_DIFF_REL  \\\n",
       "1920                         -1.000000                        -1.000000   \n",
       "1921                         -1.000000                        -1.000000   \n",
       "1922                         -1.000000                        -1.000000   \n",
       "1923                         -1.000000                        -1.000000   \n",
       "1924                         -0.701863                        -0.585967   \n",
       "\n",
       "      HEART_RATE_DIFF_REL  RESPIRATORY_RATE_DIFF_REL  TEMPERATURE_DIFF_REL  \\\n",
       "1920            -1.000000                  -1.000000             -1.000000   \n",
       "1921            -1.000000                  -1.000000             -1.000000   \n",
       "1922            -1.000000                  -1.000000             -1.000000   \n",
       "1923            -1.000000                  -1.000000             -1.000000   \n",
       "1924            -0.763868                  -0.612903             -0.551337   \n",
       "\n",
       "      OXYGEN_SATURATION_DIFF_REL    WINDOW  ICU  \n",
       "1920                   -1.000000       0-2    0  \n",
       "1921                   -1.000000       2-4    0  \n",
       "1922                   -1.000000       4-6    0  \n",
       "1923                   -1.000000      6-12    0  \n",
       "1924                   -0.835052  ABOVE_12    0  \n",
       "\n",
       "[5 rows x 231 columns]"
      ],
      "text/html": "<div>\n<style scoped>\n    .dataframe tbody tr th:only-of-type {\n        vertical-align: middle;\n    }\n\n    .dataframe tbody tr th {\n        vertical-align: top;\n    }\n\n    .dataframe thead th {\n        text-align: right;\n    }\n</style>\n<table border=\"1\" class=\"dataframe\">\n  <thead>\n    <tr style=\"text-align: right;\">\n      <th></th>\n      <th>PATIENT_VISIT_IDENTIFIER</th>\n      <th>AGE_ABOVE65</th>\n      <th>AGE_PERCENTIL</th>\n      <th>GENDER</th>\n      <th>DISEASE GROUPING 1</th>\n      <th>DISEASE GROUPING 2</th>\n      <th>DISEASE GROUPING 3</th>\n      <th>DISEASE GROUPING 4</th>\n      <th>DISEASE GROUPING 5</th>\n      <th>DISEASE GROUPING 6</th>\n      <th>...</th>\n      <th>TEMPERATURE_DIFF</th>\n      <th>OXYGEN_SATURATION_DIFF</th>\n      <th>BLOODPRESSURE_DIASTOLIC_DIFF_REL</th>\n      <th>BLOODPRESSURE_SISTOLIC_DIFF_REL</th>\n      <th>HEART_RATE_DIFF_REL</th>\n      <th>RESPIRATORY_RATE_DIFF_REL</th>\n      <th>TEMPERATURE_DIFF_REL</th>\n      <th>OXYGEN_SATURATION_DIFF_REL</th>\n      <th>WINDOW</th>\n      <th>ICU</th>\n    </tr>\n  </thead>\n  <tbody>\n    <tr>\n      <th>1920</th>\n      <td>384</td>\n      <td>0</td>\n      <td>50th</td>\n      <td>1</td>\n      <td>0.0</td>\n      <td>0.0</td>\n      <td>0.0</td>\n      <td>0.0</td>\n      <td>0.0</td>\n      <td>0.0</td>\n      <td>...</td>\n      <td>-1.000000</td>\n      <td>-1.000000</td>\n      <td>-1.000000</td>\n      <td>-1.000000</td>\n      <td>-1.000000</td>\n      <td>-1.000000</td>\n      <td>-1.000000</td>\n      <td>-1.000000</td>\n      <td>0-2</td>\n      <td>0</td>\n    </tr>\n    <tr>\n      <th>1921</th>\n      <td>384</td>\n      <td>0</td>\n      <td>50th</td>\n      <td>1</td>\n      <td>0.0</td>\n      <td>0.0</td>\n      <td>0.0</td>\n      <td>0.0</td>\n      <td>0.0</td>\n      <td>0.0</td>\n      <td>...</td>\n      <td>-1.000000</td>\n      <td>-1.000000</td>\n      <td>-1.000000</td>\n      <td>-1.000000</td>\n      <td>-1.000000</td>\n      <td>-1.000000</td>\n      <td>-1.000000</td>\n      <td>-1.000000</td>\n      <td>2-4</td>\n      <td>0</td>\n    </tr>\n    <tr>\n      <th>1922</th>\n      <td>384</td>\n      <td>0</td>\n      <td>50th</td>\n      <td>1</td>\n      <td>0.0</td>\n      <td>0.0</td>\n      <td>0.0</td>\n      <td>0.0</td>\n      <td>0.0</td>\n      <td>0.0</td>\n      <td>...</td>\n      <td>-1.000000</td>\n      <td>-1.000000</td>\n      <td>-1.000000</td>\n      <td>-1.000000</td>\n      <td>-1.000000</td>\n      <td>-1.000000</td>\n      <td>-1.000000</td>\n      <td>-1.000000</td>\n      <td>4-6</td>\n      <td>0</td>\n    </tr>\n    <tr>\n      <th>1923</th>\n      <td>384</td>\n      <td>0</td>\n      <td>50th</td>\n      <td>1</td>\n      <td>0.0</td>\n      <td>0.0</td>\n      <td>0.0</td>\n      <td>0.0</td>\n      <td>0.0</td>\n      <td>0.0</td>\n      <td>...</td>\n      <td>-1.000000</td>\n      <td>-1.000000</td>\n      <td>-1.000000</td>\n      <td>-1.000000</td>\n      <td>-1.000000</td>\n      <td>-1.000000</td>\n      <td>-1.000000</td>\n      <td>-1.000000</td>\n      <td>6-12</td>\n      <td>0</td>\n    </tr>\n    <tr>\n      <th>1924</th>\n      <td>384</td>\n      <td>0</td>\n      <td>50th</td>\n      <td>1</td>\n      <td>0.0</td>\n      <td>0.0</td>\n      <td>1.0</td>\n      <td>0.0</td>\n      <td>0.0</td>\n      <td>0.0</td>\n      <td>...</td>\n      <td>-0.547619</td>\n      <td>-0.838384</td>\n      <td>-0.701863</td>\n      <td>-0.585967</td>\n      <td>-0.763868</td>\n      <td>-0.612903</td>\n      <td>-0.551337</td>\n      <td>-0.835052</td>\n      <td>ABOVE_12</td>\n      <td>0</td>\n    </tr>\n  </tbody>\n</table>\n<p>5 rows × 231 columns</p>\n</div>"
     },
     "metadata": {},
     "execution_count": 3
    }
   ],
   "source": [
    "df_sirio_libanes.tail()"
   ]
  },
  {
   "cell_type": "code",
   "execution_count": 4,
   "metadata": {},
   "outputs": [
    {
     "output_type": "stream",
     "name": "stdout",
     "text": [
      "<class 'pandas.core.frame.DataFrame'>\nRangeIndex: 1925 entries, 0 to 1924\nColumns: 231 entries, PATIENT_VISIT_IDENTIFIER to ICU\ndtypes: float64(225), int64(4), object(2)\nmemory usage: 3.4+ MB\n"
     ]
    }
   ],
   "source": [
    "df_sirio_libanes.info()"
   ]
  },
  {
   "cell_type": "code",
   "execution_count": 5,
   "metadata": {},
   "outputs": [
    {
     "output_type": "execute_result",
     "data": {
      "text/plain": [
       "'Número de pacientes: 385'"
      ]
     },
     "metadata": {},
     "execution_count": 5
    }
   ],
   "source": [
    "f\"Número de pacientes: {df_sirio_libanes['PATIENT_VISIT_IDENTIFIER'].nunique()}\""
   ]
  },
  {
   "cell_type": "code",
   "execution_count": 6,
   "metadata": {},
   "outputs": [
    {
     "output_type": "execute_result",
     "data": {
      "text/plain": [
       "Index(['AGE_PERCENTIL', 'WINDOW'], dtype='object')"
      ]
     },
     "metadata": {},
     "execution_count": 6
    }
   ],
   "source": [
    "df_sirio_libanes.select_dtypes(include=['object']).columns"
   ]
  },
  {
   "cell_type": "code",
   "execution_count": 7,
   "metadata": {},
   "outputs": [],
   "source": [
    "df_sirio_libanes_editado = df_sirio_libanes"
   ]
  },
  {
   "cell_type": "code",
   "execution_count": 8,
   "metadata": {},
   "outputs": [],
   "source": [
    "df_sirio_libanes_editado['AGE_PERCENTIL']=df_sirio_libanes_editado['AGE_PERCENTIL'].astype(\"category\")\n",
    "df_sirio_libanes_editado['WINDOW']=df_sirio_libanes_editado['WINDOW'].astype(\"category\")"
   ]
  },
  {
   "cell_type": "code",
   "execution_count": 9,
   "metadata": {},
   "outputs": [
    {
     "output_type": "stream",
     "name": "stdout",
     "text": [
      "<class 'pandas.core.frame.DataFrame'>\nRangeIndex: 1925 entries, 0 to 1924\nColumns: 231 entries, PATIENT_VISIT_IDENTIFIER to ICU\ndtypes: category(2), float64(225), int64(4)\nmemory usage: 3.4 MB\n"
     ]
    }
   ],
   "source": [
    "df_sirio_libanes.info()"
   ]
  },
  {
   "cell_type": "code",
   "execution_count": 10,
   "metadata": {},
   "outputs": [],
   "source": [
    "correlacao_icu = df_sirio_libanes_editado.corr()['ICU']"
   ]
  },
  {
   "cell_type": "code",
   "execution_count": 11,
   "metadata": {},
   "outputs": [
    {
     "output_type": "execute_result",
     "data": {
      "text/plain": [
       "BE_ARTERIAL_MEAN                    0.298721\n",
       "BE_VENOUS_MEAN                      0.315695\n",
       "LEUKOCYTES_MEAN                     0.287159\n",
       "NEUTROPHILES_MEAN                   0.266037\n",
       "UREA_MEAN                           0.275264\n",
       "RESPIRATORY_RATE_MEAN               0.428144\n",
       "BLOODPRESSURE_DIASTOLIC_DIFF        0.361708\n",
       "BLOODPRESSURE_SISTOLIC_DIFF         0.413082\n",
       "HEART_RATE_DIFF                     0.335091\n",
       "RESPIRATORY_RATE_DIFF               0.502663\n",
       "TEMPERATURE_DIFF                    0.330577\n",
       "OXYGEN_SATURATION_DIFF              0.259460\n",
       "BLOODPRESSURE_DIASTOLIC_DIFF_REL    0.376300\n",
       "BLOODPRESSURE_SISTOLIC_DIFF_REL     0.403476\n",
       "HEART_RATE_DIFF_REL                 0.333011\n",
       "RESPIRATORY_RATE_DIFF_REL           0.489765\n",
       "TEMPERATURE_DIFF_REL                0.331295\n",
       "OXYGEN_SATURATION_DIFF_REL          0.260411\n",
       "ICU                                 1.000000\n",
       "Name: ICU, dtype: float64"
      ]
     },
     "metadata": {},
     "execution_count": 11
    }
   ],
   "source": [
    "corelacao_filter = correlacao_icu.loc[(correlacao_icu>=0.25)&(~correlacao_icu.index.str.contains('MAX'))&(~correlacao_icu.index.str.contains('MIN'))&(~correlacao_icu.index.str.contains('MEDIAN'))].abs()\n",
    "corelacao_filter\n"
   ]
  },
  {
   "cell_type": "code",
   "execution_count": 12,
   "metadata": {},
   "outputs": [
    {
     "output_type": "execute_result",
     "data": {
      "text/plain": [
       "['0-2', '2-4', '4-6', '6-12', 'ABOVE_12']"
      ]
     },
     "metadata": {},
     "execution_count": 12
    }
   ],
   "source": [
    "window_list= df_sirio_libanes_editado['WINDOW'].drop_duplicates().to_list()\n",
    "window_list"
   ]
  },
  {
   "cell_type": "code",
   "execution_count": 13,
   "metadata": {},
   "outputs": [],
   "source": [
    "list_filter = ['PATIENT_VISIT_IDENTIFIER','AGE_PERCENTIL']\n",
    "df_evolucao_paciente=None\n",
    "df_evolucao_paciente= df_sirio_libanes_editado[list_filter].drop_duplicates().reset_index(drop=True)\n",
    "for field_data in list(corelacao_filter.index):\n",
    "    for window_value in window_list:               \n",
    "        df_evolucao_paciente[f'{field_data} ({window_value})'] = (\n",
    "            df_sirio_libanes_editado.loc[(df_sirio_libanes_editado['WINDOW']==window_value)][field_data]\n",
    "            )"
   ]
  },
  {
   "cell_type": "code",
   "execution_count": 14,
   "metadata": {},
   "outputs": [
    {
     "output_type": "execute_result",
     "data": {
      "text/plain": [
       "(385, 97)"
      ]
     },
     "metadata": {},
     "execution_count": 14
    }
   ],
   "source": [
    "df_evolucao_paciente.shape"
   ]
  },
  {
   "cell_type": "code",
   "execution_count": 15,
   "metadata": {},
   "outputs": [
    {
     "output_type": "execute_result",
     "data": {
      "text/plain": [
       "   PATIENT_VISIT_IDENTIFIER AGE_PERCENTIL  BE_ARTERIAL_MEAN (0-2)  \\\n",
       "0                         0          60th                     NaN   \n",
       "1                         1          90th                     NaN   \n",
       "2                         2          10th                     NaN   \n",
       "3                         3          40th                     NaN   \n",
       "4                         4          10th                     NaN   \n",
       "\n",
       "   BE_ARTERIAL_MEAN (2-4)  BE_ARTERIAL_MEAN (4-6)  BE_ARTERIAL_MEAN (6-12)  \\\n",
       "0                     NaN                     NaN                      NaN   \n",
       "1                     NaN                     NaN                      NaN   \n",
       "2                     NaN                    -1.0                      NaN   \n",
       "3                     NaN                     NaN                      NaN   \n",
       "4                     NaN                     NaN                      NaN   \n",
       "\n",
       "   BE_ARTERIAL_MEAN (ABOVE_12)  BE_VENOUS_MEAN (0-2)  BE_VENOUS_MEAN (2-4)  \\\n",
       "0                          NaN                   NaN                   NaN   \n",
       "1                          NaN                   NaN                   NaN   \n",
       "2                          NaN                   NaN                   NaN   \n",
       "3                          NaN                   NaN                   NaN   \n",
       "4                    -0.871658                   NaN                   NaN   \n",
       "\n",
       "   BE_VENOUS_MEAN (4-6)  ...  OXYGEN_SATURATION_DIFF_REL (0-2)  \\\n",
       "0                   NaN  ...                              -1.0   \n",
       "1                   NaN  ...                               NaN   \n",
       "2                  -1.0  ...                               NaN   \n",
       "3                   NaN  ...                               NaN   \n",
       "4                   NaN  ...                               NaN   \n",
       "\n",
       "   OXYGEN_SATURATION_DIFF_REL (2-4)  OXYGEN_SATURATION_DIFF_REL (4-6)  \\\n",
       "0                               NaN                               NaN   \n",
       "1                              -1.0                               NaN   \n",
       "2                               NaN                               NaN   \n",
       "3                               NaN                               NaN   \n",
       "4                               NaN                               NaN   \n",
       "\n",
       "   OXYGEN_SATURATION_DIFF_REL (6-12)  OXYGEN_SATURATION_DIFF_REL (ABOVE_12)  \\\n",
       "0                                NaN                                    NaN   \n",
       "1                                NaN                                    NaN   \n",
       "2                                NaN                                    NaN   \n",
       "3                               -1.0                                    NaN   \n",
       "4                                NaN                              -0.814433   \n",
       "\n",
       "   ICU (0-2)  ICU (2-4)  ICU (4-6)  ICU (6-12)  ICU (ABOVE_12)  \n",
       "0        0.0        NaN        NaN         NaN             NaN  \n",
       "1        NaN        0.0        NaN         NaN             NaN  \n",
       "2        NaN        NaN        0.0         NaN             NaN  \n",
       "3        NaN        NaN        NaN         0.0             NaN  \n",
       "4        NaN        NaN        NaN         NaN             1.0  \n",
       "\n",
       "[5 rows x 97 columns]"
      ],
      "text/html": "<div>\n<style scoped>\n    .dataframe tbody tr th:only-of-type {\n        vertical-align: middle;\n    }\n\n    .dataframe tbody tr th {\n        vertical-align: top;\n    }\n\n    .dataframe thead th {\n        text-align: right;\n    }\n</style>\n<table border=\"1\" class=\"dataframe\">\n  <thead>\n    <tr style=\"text-align: right;\">\n      <th></th>\n      <th>PATIENT_VISIT_IDENTIFIER</th>\n      <th>AGE_PERCENTIL</th>\n      <th>BE_ARTERIAL_MEAN (0-2)</th>\n      <th>BE_ARTERIAL_MEAN (2-4)</th>\n      <th>BE_ARTERIAL_MEAN (4-6)</th>\n      <th>BE_ARTERIAL_MEAN (6-12)</th>\n      <th>BE_ARTERIAL_MEAN (ABOVE_12)</th>\n      <th>BE_VENOUS_MEAN (0-2)</th>\n      <th>BE_VENOUS_MEAN (2-4)</th>\n      <th>BE_VENOUS_MEAN (4-6)</th>\n      <th>...</th>\n      <th>OXYGEN_SATURATION_DIFF_REL (0-2)</th>\n      <th>OXYGEN_SATURATION_DIFF_REL (2-4)</th>\n      <th>OXYGEN_SATURATION_DIFF_REL (4-6)</th>\n      <th>OXYGEN_SATURATION_DIFF_REL (6-12)</th>\n      <th>OXYGEN_SATURATION_DIFF_REL (ABOVE_12)</th>\n      <th>ICU (0-2)</th>\n      <th>ICU (2-4)</th>\n      <th>ICU (4-6)</th>\n      <th>ICU (6-12)</th>\n      <th>ICU (ABOVE_12)</th>\n    </tr>\n  </thead>\n  <tbody>\n    <tr>\n      <th>0</th>\n      <td>0</td>\n      <td>60th</td>\n      <td>NaN</td>\n      <td>NaN</td>\n      <td>NaN</td>\n      <td>NaN</td>\n      <td>NaN</td>\n      <td>NaN</td>\n      <td>NaN</td>\n      <td>NaN</td>\n      <td>...</td>\n      <td>-1.0</td>\n      <td>NaN</td>\n      <td>NaN</td>\n      <td>NaN</td>\n      <td>NaN</td>\n      <td>0.0</td>\n      <td>NaN</td>\n      <td>NaN</td>\n      <td>NaN</td>\n      <td>NaN</td>\n    </tr>\n    <tr>\n      <th>1</th>\n      <td>1</td>\n      <td>90th</td>\n      <td>NaN</td>\n      <td>NaN</td>\n      <td>NaN</td>\n      <td>NaN</td>\n      <td>NaN</td>\n      <td>NaN</td>\n      <td>NaN</td>\n      <td>NaN</td>\n      <td>...</td>\n      <td>NaN</td>\n      <td>-1.0</td>\n      <td>NaN</td>\n      <td>NaN</td>\n      <td>NaN</td>\n      <td>NaN</td>\n      <td>0.0</td>\n      <td>NaN</td>\n      <td>NaN</td>\n      <td>NaN</td>\n    </tr>\n    <tr>\n      <th>2</th>\n      <td>2</td>\n      <td>10th</td>\n      <td>NaN</td>\n      <td>NaN</td>\n      <td>-1.0</td>\n      <td>NaN</td>\n      <td>NaN</td>\n      <td>NaN</td>\n      <td>NaN</td>\n      <td>-1.0</td>\n      <td>...</td>\n      <td>NaN</td>\n      <td>NaN</td>\n      <td>NaN</td>\n      <td>NaN</td>\n      <td>NaN</td>\n      <td>NaN</td>\n      <td>NaN</td>\n      <td>0.0</td>\n      <td>NaN</td>\n      <td>NaN</td>\n    </tr>\n    <tr>\n      <th>3</th>\n      <td>3</td>\n      <td>40th</td>\n      <td>NaN</td>\n      <td>NaN</td>\n      <td>NaN</td>\n      <td>NaN</td>\n      <td>NaN</td>\n      <td>NaN</td>\n      <td>NaN</td>\n      <td>NaN</td>\n      <td>...</td>\n      <td>NaN</td>\n      <td>NaN</td>\n      <td>NaN</td>\n      <td>-1.0</td>\n      <td>NaN</td>\n      <td>NaN</td>\n      <td>NaN</td>\n      <td>NaN</td>\n      <td>0.0</td>\n      <td>NaN</td>\n    </tr>\n    <tr>\n      <th>4</th>\n      <td>4</td>\n      <td>10th</td>\n      <td>NaN</td>\n      <td>NaN</td>\n      <td>NaN</td>\n      <td>NaN</td>\n      <td>-0.871658</td>\n      <td>NaN</td>\n      <td>NaN</td>\n      <td>NaN</td>\n      <td>...</td>\n      <td>NaN</td>\n      <td>NaN</td>\n      <td>NaN</td>\n      <td>NaN</td>\n      <td>-0.814433</td>\n      <td>NaN</td>\n      <td>NaN</td>\n      <td>NaN</td>\n      <td>NaN</td>\n      <td>1.0</td>\n    </tr>\n  </tbody>\n</table>\n<p>5 rows × 97 columns</p>\n</div>"
     },
     "metadata": {},
     "execution_count": 15
    }
   ],
   "source": [
    "df_evolucao_paciente.head()"
   ]
  },
  {
   "cell_type": "code",
   "execution_count": 16,
   "metadata": {},
   "outputs": [
    {
     "output_type": "execute_result",
     "data": {
      "text/plain": [
       "['ICU (0-2)', 'ICU (2-4)', 'ICU (4-6)', 'ICU (6-12)', 'ICU (ABOVE_12)']"
      ]
     },
     "metadata": {},
     "execution_count": 16
    }
   ],
   "source": [
    "icu_list=[icu_value for icu_value in df_evolucao_paciente.columns if 'ICU' in icu_value]\n",
    "icu_list"
   ]
  },
  {
   "cell_type": "code",
   "execution_count": 17,
   "metadata": {},
   "outputs": [
    {
     "output_type": "execute_result",
     "data": {
      "text/plain": [
       "       ICU (0-2)  ICU (2-4)  ICU (4-6)  ICU (6-12)  ICU (ABOVE_12)\n",
       "count  77.000000  77.000000  77.000000   77.000000       77.000000\n",
       "mean    0.103896   0.142857   0.298701    0.376623        0.467532\n",
       "std     0.307127   0.352222   0.460690    0.487717        0.502217\n",
       "min     0.000000   0.000000   0.000000    0.000000        0.000000\n",
       "25%     0.000000   0.000000   0.000000    0.000000        0.000000\n",
       "50%     0.000000   0.000000   0.000000    0.000000        0.000000\n",
       "75%     0.000000   0.000000   1.000000    1.000000        1.000000\n",
       "max     1.000000   1.000000   1.000000    1.000000        1.000000"
      ],
      "text/html": "<div>\n<style scoped>\n    .dataframe tbody tr th:only-of-type {\n        vertical-align: middle;\n    }\n\n    .dataframe tbody tr th {\n        vertical-align: top;\n    }\n\n    .dataframe thead th {\n        text-align: right;\n    }\n</style>\n<table border=\"1\" class=\"dataframe\">\n  <thead>\n    <tr style=\"text-align: right;\">\n      <th></th>\n      <th>ICU (0-2)</th>\n      <th>ICU (2-4)</th>\n      <th>ICU (4-6)</th>\n      <th>ICU (6-12)</th>\n      <th>ICU (ABOVE_12)</th>\n    </tr>\n  </thead>\n  <tbody>\n    <tr>\n      <th>count</th>\n      <td>77.000000</td>\n      <td>77.000000</td>\n      <td>77.000000</td>\n      <td>77.000000</td>\n      <td>77.000000</td>\n    </tr>\n    <tr>\n      <th>mean</th>\n      <td>0.103896</td>\n      <td>0.142857</td>\n      <td>0.298701</td>\n      <td>0.376623</td>\n      <td>0.467532</td>\n    </tr>\n    <tr>\n      <th>std</th>\n      <td>0.307127</td>\n      <td>0.352222</td>\n      <td>0.460690</td>\n      <td>0.487717</td>\n      <td>0.502217</td>\n    </tr>\n    <tr>\n      <th>min</th>\n      <td>0.000000</td>\n      <td>0.000000</td>\n      <td>0.000000</td>\n      <td>0.000000</td>\n      <td>0.000000</td>\n    </tr>\n    <tr>\n      <th>25%</th>\n      <td>0.000000</td>\n      <td>0.000000</td>\n      <td>0.000000</td>\n      <td>0.000000</td>\n      <td>0.000000</td>\n    </tr>\n    <tr>\n      <th>50%</th>\n      <td>0.000000</td>\n      <td>0.000000</td>\n      <td>0.000000</td>\n      <td>0.000000</td>\n      <td>0.000000</td>\n    </tr>\n    <tr>\n      <th>75%</th>\n      <td>0.000000</td>\n      <td>0.000000</td>\n      <td>1.000000</td>\n      <td>1.000000</td>\n      <td>1.000000</td>\n    </tr>\n    <tr>\n      <th>max</th>\n      <td>1.000000</td>\n      <td>1.000000</td>\n      <td>1.000000</td>\n      <td>1.000000</td>\n      <td>1.000000</td>\n    </tr>\n  </tbody>\n</table>\n</div>"
     },
     "metadata": {},
     "execution_count": 17
    }
   ],
   "source": [
    "df_evolucao_paciente[icu_list].describe()"
   ]
  },
  {
   "cell_type": "code",
   "execution_count": 18,
   "metadata": {},
   "outputs": [],
   "source": [
    "df_evolucao_paciente['ICU'] = df_evolucao_paciente[icu_list].sum(axis = 1, skipna = True)"
   ]
  },
  {
   "cell_type": "code",
   "execution_count": 19,
   "metadata": {},
   "outputs": [
    {
     "output_type": "execute_result",
     "data": {
      "text/plain": [
       "   PATIENT_VISIT_IDENTIFIER AGE_PERCENTIL  BE_ARTERIAL_MEAN (0-2)  \\\n",
       "0                         0          60th                     NaN   \n",
       "1                         1          90th                     NaN   \n",
       "2                         2          10th                     NaN   \n",
       "3                         3          40th                     NaN   \n",
       "4                         4          10th                     NaN   \n",
       "\n",
       "   BE_ARTERIAL_MEAN (2-4)  BE_ARTERIAL_MEAN (4-6)  BE_ARTERIAL_MEAN (6-12)  \\\n",
       "0                     NaN                     NaN                      NaN   \n",
       "1                     NaN                     NaN                      NaN   \n",
       "2                     NaN                    -1.0                      NaN   \n",
       "3                     NaN                     NaN                      NaN   \n",
       "4                     NaN                     NaN                      NaN   \n",
       "\n",
       "   BE_ARTERIAL_MEAN (ABOVE_12)  BE_VENOUS_MEAN (0-2)  BE_VENOUS_MEAN (2-4)  \\\n",
       "0                          NaN                   NaN                   NaN   \n",
       "1                          NaN                   NaN                   NaN   \n",
       "2                          NaN                   NaN                   NaN   \n",
       "3                          NaN                   NaN                   NaN   \n",
       "4                    -0.871658                   NaN                   NaN   \n",
       "\n",
       "   BE_VENOUS_MEAN (4-6)  ...  TEMPERATURE_DIFF_REL (2-4)  \\\n",
       "0                   NaN  ...                         NaN   \n",
       "1                   NaN  ...                        -1.0   \n",
       "2                  -1.0  ...                         NaN   \n",
       "3                   NaN  ...                         NaN   \n",
       "4                   NaN  ...                         NaN   \n",
       "\n",
       "   TEMPERATURE_DIFF_REL (4-6)  TEMPERATURE_DIFF_REL (6-12)  \\\n",
       "0                         NaN                          NaN   \n",
       "1                         NaN                          NaN   \n",
       "2                         NaN                          NaN   \n",
       "3                         NaN                         -1.0   \n",
       "4                         NaN                          NaN   \n",
       "\n",
       "   TEMPERATURE_DIFF_REL (ABOVE_12)  OXYGEN_SATURATION_DIFF_REL (0-2)  \\\n",
       "0                              NaN                              -1.0   \n",
       "1                              NaN                               NaN   \n",
       "2                              NaN                               NaN   \n",
       "3                              NaN                               NaN   \n",
       "4                        -0.242282                               NaN   \n",
       "\n",
       "   OXYGEN_SATURATION_DIFF_REL (2-4)  OXYGEN_SATURATION_DIFF_REL (4-6)  \\\n",
       "0                               NaN                               NaN   \n",
       "1                              -1.0                               NaN   \n",
       "2                               NaN                               NaN   \n",
       "3                               NaN                               NaN   \n",
       "4                               NaN                               NaN   \n",
       "\n",
       "   OXYGEN_SATURATION_DIFF_REL (6-12)  OXYGEN_SATURATION_DIFF_REL (ABOVE_12)  \\\n",
       "0                                NaN                                    NaN   \n",
       "1                                NaN                                    NaN   \n",
       "2                                NaN                                    NaN   \n",
       "3                               -1.0                                    NaN   \n",
       "4                                NaN                              -0.814433   \n",
       "\n",
       "   ICU  \n",
       "0  0.0  \n",
       "1  0.0  \n",
       "2  0.0  \n",
       "3  0.0  \n",
       "4  1.0  \n",
       "\n",
       "[5 rows x 93 columns]"
      ],
      "text/html": "<div>\n<style scoped>\n    .dataframe tbody tr th:only-of-type {\n        vertical-align: middle;\n    }\n\n    .dataframe tbody tr th {\n        vertical-align: top;\n    }\n\n    .dataframe thead th {\n        text-align: right;\n    }\n</style>\n<table border=\"1\" class=\"dataframe\">\n  <thead>\n    <tr style=\"text-align: right;\">\n      <th></th>\n      <th>PATIENT_VISIT_IDENTIFIER</th>\n      <th>AGE_PERCENTIL</th>\n      <th>BE_ARTERIAL_MEAN (0-2)</th>\n      <th>BE_ARTERIAL_MEAN (2-4)</th>\n      <th>BE_ARTERIAL_MEAN (4-6)</th>\n      <th>BE_ARTERIAL_MEAN (6-12)</th>\n      <th>BE_ARTERIAL_MEAN (ABOVE_12)</th>\n      <th>BE_VENOUS_MEAN (0-2)</th>\n      <th>BE_VENOUS_MEAN (2-4)</th>\n      <th>BE_VENOUS_MEAN (4-6)</th>\n      <th>...</th>\n      <th>TEMPERATURE_DIFF_REL (2-4)</th>\n      <th>TEMPERATURE_DIFF_REL (4-6)</th>\n      <th>TEMPERATURE_DIFF_REL (6-12)</th>\n      <th>TEMPERATURE_DIFF_REL (ABOVE_12)</th>\n      <th>OXYGEN_SATURATION_DIFF_REL (0-2)</th>\n      <th>OXYGEN_SATURATION_DIFF_REL (2-4)</th>\n      <th>OXYGEN_SATURATION_DIFF_REL (4-6)</th>\n      <th>OXYGEN_SATURATION_DIFF_REL (6-12)</th>\n      <th>OXYGEN_SATURATION_DIFF_REL (ABOVE_12)</th>\n      <th>ICU</th>\n    </tr>\n  </thead>\n  <tbody>\n    <tr>\n      <th>0</th>\n      <td>0</td>\n      <td>60th</td>\n      <td>NaN</td>\n      <td>NaN</td>\n      <td>NaN</td>\n      <td>NaN</td>\n      <td>NaN</td>\n      <td>NaN</td>\n      <td>NaN</td>\n      <td>NaN</td>\n      <td>...</td>\n      <td>NaN</td>\n      <td>NaN</td>\n      <td>NaN</td>\n      <td>NaN</td>\n      <td>-1.0</td>\n      <td>NaN</td>\n      <td>NaN</td>\n      <td>NaN</td>\n      <td>NaN</td>\n      <td>0.0</td>\n    </tr>\n    <tr>\n      <th>1</th>\n      <td>1</td>\n      <td>90th</td>\n      <td>NaN</td>\n      <td>NaN</td>\n      <td>NaN</td>\n      <td>NaN</td>\n      <td>NaN</td>\n      <td>NaN</td>\n      <td>NaN</td>\n      <td>NaN</td>\n      <td>...</td>\n      <td>-1.0</td>\n      <td>NaN</td>\n      <td>NaN</td>\n      <td>NaN</td>\n      <td>NaN</td>\n      <td>-1.0</td>\n      <td>NaN</td>\n      <td>NaN</td>\n      <td>NaN</td>\n      <td>0.0</td>\n    </tr>\n    <tr>\n      <th>2</th>\n      <td>2</td>\n      <td>10th</td>\n      <td>NaN</td>\n      <td>NaN</td>\n      <td>-1.0</td>\n      <td>NaN</td>\n      <td>NaN</td>\n      <td>NaN</td>\n      <td>NaN</td>\n      <td>-1.0</td>\n      <td>...</td>\n      <td>NaN</td>\n      <td>NaN</td>\n      <td>NaN</td>\n      <td>NaN</td>\n      <td>NaN</td>\n      <td>NaN</td>\n      <td>NaN</td>\n      <td>NaN</td>\n      <td>NaN</td>\n      <td>0.0</td>\n    </tr>\n    <tr>\n      <th>3</th>\n      <td>3</td>\n      <td>40th</td>\n      <td>NaN</td>\n      <td>NaN</td>\n      <td>NaN</td>\n      <td>NaN</td>\n      <td>NaN</td>\n      <td>NaN</td>\n      <td>NaN</td>\n      <td>NaN</td>\n      <td>...</td>\n      <td>NaN</td>\n      <td>NaN</td>\n      <td>-1.0</td>\n      <td>NaN</td>\n      <td>NaN</td>\n      <td>NaN</td>\n      <td>NaN</td>\n      <td>-1.0</td>\n      <td>NaN</td>\n      <td>0.0</td>\n    </tr>\n    <tr>\n      <th>4</th>\n      <td>4</td>\n      <td>10th</td>\n      <td>NaN</td>\n      <td>NaN</td>\n      <td>NaN</td>\n      <td>NaN</td>\n      <td>-0.871658</td>\n      <td>NaN</td>\n      <td>NaN</td>\n      <td>NaN</td>\n      <td>...</td>\n      <td>NaN</td>\n      <td>NaN</td>\n      <td>NaN</td>\n      <td>-0.242282</td>\n      <td>NaN</td>\n      <td>NaN</td>\n      <td>NaN</td>\n      <td>NaN</td>\n      <td>-0.814433</td>\n      <td>1.0</td>\n    </tr>\n  </tbody>\n</table>\n<p>5 rows × 93 columns</p>\n</div>"
     },
     "metadata": {},
     "execution_count": 19
    }
   ],
   "source": [
    "df_evolucao_paciente.drop(columns=icu_list,inplace=True,errors='ignore')\n",
    "df_evolucao_paciente.head()"
   ]
  },
  {
   "cell_type": "code",
   "execution_count": 20,
   "metadata": {},
   "outputs": [
    {
     "output_type": "execute_result",
     "data": {
      "text/plain": [
       "count    385.000000\n",
       "mean       0.277922\n",
       "std        0.448558\n",
       "min        0.000000\n",
       "25%        0.000000\n",
       "50%        0.000000\n",
       "75%        1.000000\n",
       "max        1.000000\n",
       "Name: ICU, dtype: float64"
      ]
     },
     "metadata": {},
     "execution_count": 20
    }
   ],
   "source": [
    "df_evolucao_paciente['ICU'].describe()"
   ]
  },
  {
   "cell_type": "code",
   "execution_count": 21,
   "metadata": {},
   "outputs": [
    {
     "output_type": "execute_result",
     "data": {
      "text/plain": [
       "0.0    0.722\n",
       "1.0    0.278\n",
       "Name: ICU, dtype: float64"
      ]
     },
     "metadata": {},
     "execution_count": 21
    }
   ],
   "source": [
    "df_evolucao_paciente['ICU'].value_counts(normalize=True).round(3)"
   ]
  },
  {
   "cell_type": "code",
   "execution_count": 22,
   "metadata": {},
   "outputs": [
    {
     "output_type": "stream",
     "name": "stderr",
     "text": [
      "Done! Use 'show' commands to display/save.   |██████████| [100%]   00:13 -> (00:00 left)\n"
     ]
    }
   ],
   "source": [
    "report = sweetviz.analyze(df_evolucao_paciente,pairwise_analysis='on')"
   ]
  },
  {
   "cell_type": "code",
   "execution_count": 23,
   "metadata": {},
   "outputs": [
    {
     "output_type": "stream",
     "name": "stdout",
     "text": [
      "Report SWEETVIZ_REPORT.html was generated! NOTEBOOK/COLAB USERS: the web browser MAY not pop up, regardless, the report IS saved in your notebook/colab files.\n"
     ]
    }
   ],
   "source": [
    "report.show_html()"
   ]
  }
 ]
}