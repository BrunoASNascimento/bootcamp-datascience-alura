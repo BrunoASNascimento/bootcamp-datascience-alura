{
 "metadata": {
  "language_info": {
   "codemirror_mode": {
    "name": "ipython",
    "version": 3
   },
   "file_extension": ".py",
   "mimetype": "text/x-python",
   "name": "python",
   "nbconvert_exporter": "python",
   "pygments_lexer": "ipython3",
   "version": "3.8.8-final"
  },
  "orig_nbformat": 2,
  "kernelspec": {
   "name": "python388jvsc74a57bd0daa30ac5b6035827fea41bf03aeab5fecb9d0fac68c238b49b37b0e788da46c1",
   "display_name": "Python 3.8.8 64-bit ('study-ml': conda)"
  }
 },
 "nbformat": 4,
 "nbformat_minor": 2,
 "cells": [
  {
   "cell_type": "code",
   "execution_count": 1,
   "metadata": {},
   "outputs": [],
   "source": [
    "import pandas as pd\n",
    "import numpy as np\n",
    "import sweetviz"
   ]
  },
  {
   "cell_type": "code",
   "execution_count": null,
   "metadata": {},
   "outputs": [],
   "source": []
  },
  {
   "cell_type": "code",
   "execution_count": 2,
   "metadata": {},
   "outputs": [
    {
     "output_type": "execute_result",
     "data": {
      "text/plain": [
       "   PATIENT_VISIT_IDENTIFIER  AGE_ABOVE65 AGE_PERCENTIL  GENDER  \\\n",
       "0                         0            1          60th       0   \n",
       "1                         0            1          60th       0   \n",
       "2                         0            1          60th       0   \n",
       "3                         0            1          60th       0   \n",
       "4                         0            1          60th       0   \n",
       "\n",
       "   DISEASE GROUPING 1  DISEASE GROUPING 2  DISEASE GROUPING 3  \\\n",
       "0                 0.0                 0.0                 0.0   \n",
       "1                 0.0                 0.0                 0.0   \n",
       "2                 0.0                 0.0                 0.0   \n",
       "3                 0.0                 0.0                 0.0   \n",
       "4                 0.0                 0.0                 0.0   \n",
       "\n",
       "   DISEASE GROUPING 4  DISEASE GROUPING 5  DISEASE GROUPING 6  ...  \\\n",
       "0                 0.0                 1.0                 1.0  ...   \n",
       "1                 0.0                 1.0                 1.0  ...   \n",
       "2                 0.0                 1.0                 1.0  ...   \n",
       "3                 0.0                 1.0                 1.0  ...   \n",
       "4                 0.0                 1.0                 1.0  ...   \n",
       "\n",
       "   TEMPERATURE_DIFF  OXYGEN_SATURATION_DIFF  BLOODPRESSURE_DIASTOLIC_DIFF_REL  \\\n",
       "0         -1.000000               -1.000000                         -1.000000   \n",
       "1         -1.000000               -1.000000                         -1.000000   \n",
       "2               NaN                     NaN                               NaN   \n",
       "3         -1.000000               -1.000000                               NaN   \n",
       "4         -0.238095               -0.818182                         -0.389967   \n",
       "\n",
       "   BLOODPRESSURE_SISTOLIC_DIFF_REL  HEART_RATE_DIFF_REL  \\\n",
       "0                        -1.000000            -1.000000   \n",
       "1                        -1.000000            -1.000000   \n",
       "2                              NaN                  NaN   \n",
       "3                              NaN                  NaN   \n",
       "4                         0.407558            -0.230462   \n",
       "\n",
       "   RESPIRATORY_RATE_DIFF_REL  TEMPERATURE_DIFF_REL  \\\n",
       "0                  -1.000000             -1.000000   \n",
       "1                  -1.000000             -1.000000   \n",
       "2                        NaN                   NaN   \n",
       "3                        NaN             -1.000000   \n",
       "4                   0.096774             -0.242282   \n",
       "\n",
       "   OXYGEN_SATURATION_DIFF_REL    WINDOW  ICU  \n",
       "0                   -1.000000       0-2    0  \n",
       "1                   -1.000000       2-4    0  \n",
       "2                         NaN       4-6    0  \n",
       "3                   -1.000000      6-12    0  \n",
       "4                   -0.814433  ABOVE_12    1  \n",
       "\n",
       "[5 rows x 231 columns]"
      ],
      "text/html": "<div>\n<style scoped>\n    .dataframe tbody tr th:only-of-type {\n        vertical-align: middle;\n    }\n\n    .dataframe tbody tr th {\n        vertical-align: top;\n    }\n\n    .dataframe thead th {\n        text-align: right;\n    }\n</style>\n<table border=\"1\" class=\"dataframe\">\n  <thead>\n    <tr style=\"text-align: right;\">\n      <th></th>\n      <th>PATIENT_VISIT_IDENTIFIER</th>\n      <th>AGE_ABOVE65</th>\n      <th>AGE_PERCENTIL</th>\n      <th>GENDER</th>\n      <th>DISEASE GROUPING 1</th>\n      <th>DISEASE GROUPING 2</th>\n      <th>DISEASE GROUPING 3</th>\n      <th>DISEASE GROUPING 4</th>\n      <th>DISEASE GROUPING 5</th>\n      <th>DISEASE GROUPING 6</th>\n      <th>...</th>\n      <th>TEMPERATURE_DIFF</th>\n      <th>OXYGEN_SATURATION_DIFF</th>\n      <th>BLOODPRESSURE_DIASTOLIC_DIFF_REL</th>\n      <th>BLOODPRESSURE_SISTOLIC_DIFF_REL</th>\n      <th>HEART_RATE_DIFF_REL</th>\n      <th>RESPIRATORY_RATE_DIFF_REL</th>\n      <th>TEMPERATURE_DIFF_REL</th>\n      <th>OXYGEN_SATURATION_DIFF_REL</th>\n      <th>WINDOW</th>\n      <th>ICU</th>\n    </tr>\n  </thead>\n  <tbody>\n    <tr>\n      <th>0</th>\n      <td>0</td>\n      <td>1</td>\n      <td>60th</td>\n      <td>0</td>\n      <td>0.0</td>\n      <td>0.0</td>\n      <td>0.0</td>\n      <td>0.0</td>\n      <td>1.0</td>\n      <td>1.0</td>\n      <td>...</td>\n      <td>-1.000000</td>\n      <td>-1.000000</td>\n      <td>-1.000000</td>\n      <td>-1.000000</td>\n      <td>-1.000000</td>\n      <td>-1.000000</td>\n      <td>-1.000000</td>\n      <td>-1.000000</td>\n      <td>0-2</td>\n      <td>0</td>\n    </tr>\n    <tr>\n      <th>1</th>\n      <td>0</td>\n      <td>1</td>\n      <td>60th</td>\n      <td>0</td>\n      <td>0.0</td>\n      <td>0.0</td>\n      <td>0.0</td>\n      <td>0.0</td>\n      <td>1.0</td>\n      <td>1.0</td>\n      <td>...</td>\n      <td>-1.000000</td>\n      <td>-1.000000</td>\n      <td>-1.000000</td>\n      <td>-1.000000</td>\n      <td>-1.000000</td>\n      <td>-1.000000</td>\n      <td>-1.000000</td>\n      <td>-1.000000</td>\n      <td>2-4</td>\n      <td>0</td>\n    </tr>\n    <tr>\n      <th>2</th>\n      <td>0</td>\n      <td>1</td>\n      <td>60th</td>\n      <td>0</td>\n      <td>0.0</td>\n      <td>0.0</td>\n      <td>0.0</td>\n      <td>0.0</td>\n      <td>1.0</td>\n      <td>1.0</td>\n      <td>...</td>\n      <td>NaN</td>\n      <td>NaN</td>\n      <td>NaN</td>\n      <td>NaN</td>\n      <td>NaN</td>\n      <td>NaN</td>\n      <td>NaN</td>\n      <td>NaN</td>\n      <td>4-6</td>\n      <td>0</td>\n    </tr>\n    <tr>\n      <th>3</th>\n      <td>0</td>\n      <td>1</td>\n      <td>60th</td>\n      <td>0</td>\n      <td>0.0</td>\n      <td>0.0</td>\n      <td>0.0</td>\n      <td>0.0</td>\n      <td>1.0</td>\n      <td>1.0</td>\n      <td>...</td>\n      <td>-1.000000</td>\n      <td>-1.000000</td>\n      <td>NaN</td>\n      <td>NaN</td>\n      <td>NaN</td>\n      <td>NaN</td>\n      <td>-1.000000</td>\n      <td>-1.000000</td>\n      <td>6-12</td>\n      <td>0</td>\n    </tr>\n    <tr>\n      <th>4</th>\n      <td>0</td>\n      <td>1</td>\n      <td>60th</td>\n      <td>0</td>\n      <td>0.0</td>\n      <td>0.0</td>\n      <td>0.0</td>\n      <td>0.0</td>\n      <td>1.0</td>\n      <td>1.0</td>\n      <td>...</td>\n      <td>-0.238095</td>\n      <td>-0.818182</td>\n      <td>-0.389967</td>\n      <td>0.407558</td>\n      <td>-0.230462</td>\n      <td>0.096774</td>\n      <td>-0.242282</td>\n      <td>-0.814433</td>\n      <td>ABOVE_12</td>\n      <td>1</td>\n    </tr>\n  </tbody>\n</table>\n<p>5 rows × 231 columns</p>\n</div>"
     },
     "metadata": {},
     "execution_count": 2
    }
   ],
   "source": [
    "df_sirio_libanes = pd.read_excel('data/Kaggle_Sirio_Libanes_ICU_Prediction.xlsx')\n",
    "df_sirio_libanes.head()"
   ]
  },
  {
   "cell_type": "code",
   "execution_count": 3,
   "metadata": {},
   "outputs": [
    {
     "output_type": "execute_result",
     "data": {
      "text/plain": [
       "      PATIENT_VISIT_IDENTIFIER  AGE_ABOVE65 AGE_PERCENTIL  GENDER  \\\n",
       "1920                       384            0          50th       1   \n",
       "1921                       384            0          50th       1   \n",
       "1922                       384            0          50th       1   \n",
       "1923                       384            0          50th       1   \n",
       "1924                       384            0          50th       1   \n",
       "\n",
       "      DISEASE GROUPING 1  DISEASE GROUPING 2  DISEASE GROUPING 3  \\\n",
       "1920                 0.0                 0.0                 0.0   \n",
       "1921                 0.0                 0.0                 0.0   \n",
       "1922                 0.0                 0.0                 0.0   \n",
       "1923                 0.0                 0.0                 0.0   \n",
       "1924                 0.0                 0.0                 1.0   \n",
       "\n",
       "      DISEASE GROUPING 4  DISEASE GROUPING 5  DISEASE GROUPING 6  ...  \\\n",
       "1920                 0.0                 0.0                 0.0  ...   \n",
       "1921                 0.0                 0.0                 0.0  ...   \n",
       "1922                 0.0                 0.0                 0.0  ...   \n",
       "1923                 0.0                 0.0                 0.0  ...   \n",
       "1924                 0.0                 0.0                 0.0  ...   \n",
       "\n",
       "      TEMPERATURE_DIFF  OXYGEN_SATURATION_DIFF  \\\n",
       "1920         -1.000000               -1.000000   \n",
       "1921         -1.000000               -1.000000   \n",
       "1922         -1.000000               -1.000000   \n",
       "1923         -1.000000               -1.000000   \n",
       "1924         -0.547619               -0.838384   \n",
       "\n",
       "      BLOODPRESSURE_DIASTOLIC_DIFF_REL  BLOODPRESSURE_SISTOLIC_DIFF_REL  \\\n",
       "1920                         -1.000000                        -1.000000   \n",
       "1921                         -1.000000                        -1.000000   \n",
       "1922                         -1.000000                        -1.000000   \n",
       "1923                         -1.000000                        -1.000000   \n",
       "1924                         -0.701863                        -0.585967   \n",
       "\n",
       "      HEART_RATE_DIFF_REL  RESPIRATORY_RATE_DIFF_REL  TEMPERATURE_DIFF_REL  \\\n",
       "1920            -1.000000                  -1.000000             -1.000000   \n",
       "1921            -1.000000                  -1.000000             -1.000000   \n",
       "1922            -1.000000                  -1.000000             -1.000000   \n",
       "1923            -1.000000                  -1.000000             -1.000000   \n",
       "1924            -0.763868                  -0.612903             -0.551337   \n",
       "\n",
       "      OXYGEN_SATURATION_DIFF_REL    WINDOW  ICU  \n",
       "1920                   -1.000000       0-2    0  \n",
       "1921                   -1.000000       2-4    0  \n",
       "1922                   -1.000000       4-6    0  \n",
       "1923                   -1.000000      6-12    0  \n",
       "1924                   -0.835052  ABOVE_12    0  \n",
       "\n",
       "[5 rows x 231 columns]"
      ],
      "text/html": "<div>\n<style scoped>\n    .dataframe tbody tr th:only-of-type {\n        vertical-align: middle;\n    }\n\n    .dataframe tbody tr th {\n        vertical-align: top;\n    }\n\n    .dataframe thead th {\n        text-align: right;\n    }\n</style>\n<table border=\"1\" class=\"dataframe\">\n  <thead>\n    <tr style=\"text-align: right;\">\n      <th></th>\n      <th>PATIENT_VISIT_IDENTIFIER</th>\n      <th>AGE_ABOVE65</th>\n      <th>AGE_PERCENTIL</th>\n      <th>GENDER</th>\n      <th>DISEASE GROUPING 1</th>\n      <th>DISEASE GROUPING 2</th>\n      <th>DISEASE GROUPING 3</th>\n      <th>DISEASE GROUPING 4</th>\n      <th>DISEASE GROUPING 5</th>\n      <th>DISEASE GROUPING 6</th>\n      <th>...</th>\n      <th>TEMPERATURE_DIFF</th>\n      <th>OXYGEN_SATURATION_DIFF</th>\n      <th>BLOODPRESSURE_DIASTOLIC_DIFF_REL</th>\n      <th>BLOODPRESSURE_SISTOLIC_DIFF_REL</th>\n      <th>HEART_RATE_DIFF_REL</th>\n      <th>RESPIRATORY_RATE_DIFF_REL</th>\n      <th>TEMPERATURE_DIFF_REL</th>\n      <th>OXYGEN_SATURATION_DIFF_REL</th>\n      <th>WINDOW</th>\n      <th>ICU</th>\n    </tr>\n  </thead>\n  <tbody>\n    <tr>\n      <th>1920</th>\n      <td>384</td>\n      <td>0</td>\n      <td>50th</td>\n      <td>1</td>\n      <td>0.0</td>\n      <td>0.0</td>\n      <td>0.0</td>\n      <td>0.0</td>\n      <td>0.0</td>\n      <td>0.0</td>\n      <td>...</td>\n      <td>-1.000000</td>\n      <td>-1.000000</td>\n      <td>-1.000000</td>\n      <td>-1.000000</td>\n      <td>-1.000000</td>\n      <td>-1.000000</td>\n      <td>-1.000000</td>\n      <td>-1.000000</td>\n      <td>0-2</td>\n      <td>0</td>\n    </tr>\n    <tr>\n      <th>1921</th>\n      <td>384</td>\n      <td>0</td>\n      <td>50th</td>\n      <td>1</td>\n      <td>0.0</td>\n      <td>0.0</td>\n      <td>0.0</td>\n      <td>0.0</td>\n      <td>0.0</td>\n      <td>0.0</td>\n      <td>...</td>\n      <td>-1.000000</td>\n      <td>-1.000000</td>\n      <td>-1.000000</td>\n      <td>-1.000000</td>\n      <td>-1.000000</td>\n      <td>-1.000000</td>\n      <td>-1.000000</td>\n      <td>-1.000000</td>\n      <td>2-4</td>\n      <td>0</td>\n    </tr>\n    <tr>\n      <th>1922</th>\n      <td>384</td>\n      <td>0</td>\n      <td>50th</td>\n      <td>1</td>\n      <td>0.0</td>\n      <td>0.0</td>\n      <td>0.0</td>\n      <td>0.0</td>\n      <td>0.0</td>\n      <td>0.0</td>\n      <td>...</td>\n      <td>-1.000000</td>\n      <td>-1.000000</td>\n      <td>-1.000000</td>\n      <td>-1.000000</td>\n      <td>-1.000000</td>\n      <td>-1.000000</td>\n      <td>-1.000000</td>\n      <td>-1.000000</td>\n      <td>4-6</td>\n      <td>0</td>\n    </tr>\n    <tr>\n      <th>1923</th>\n      <td>384</td>\n      <td>0</td>\n      <td>50th</td>\n      <td>1</td>\n      <td>0.0</td>\n      <td>0.0</td>\n      <td>0.0</td>\n      <td>0.0</td>\n      <td>0.0</td>\n      <td>0.0</td>\n      <td>...</td>\n      <td>-1.000000</td>\n      <td>-1.000000</td>\n      <td>-1.000000</td>\n      <td>-1.000000</td>\n      <td>-1.000000</td>\n      <td>-1.000000</td>\n      <td>-1.000000</td>\n      <td>-1.000000</td>\n      <td>6-12</td>\n      <td>0</td>\n    </tr>\n    <tr>\n      <th>1924</th>\n      <td>384</td>\n      <td>0</td>\n      <td>50th</td>\n      <td>1</td>\n      <td>0.0</td>\n      <td>0.0</td>\n      <td>1.0</td>\n      <td>0.0</td>\n      <td>0.0</td>\n      <td>0.0</td>\n      <td>...</td>\n      <td>-0.547619</td>\n      <td>-0.838384</td>\n      <td>-0.701863</td>\n      <td>-0.585967</td>\n      <td>-0.763868</td>\n      <td>-0.612903</td>\n      <td>-0.551337</td>\n      <td>-0.835052</td>\n      <td>ABOVE_12</td>\n      <td>0</td>\n    </tr>\n  </tbody>\n</table>\n<p>5 rows × 231 columns</p>\n</div>"
     },
     "metadata": {},
     "execution_count": 3
    }
   ],
   "source": [
    "df_sirio_libanes.tail()"
   ]
  },
  {
   "cell_type": "code",
   "execution_count": 4,
   "metadata": {},
   "outputs": [
    {
     "output_type": "stream",
     "name": "stdout",
     "text": [
      "<class 'pandas.core.frame.DataFrame'>\nRangeIndex: 1925 entries, 0 to 1924\nColumns: 231 entries, PATIENT_VISIT_IDENTIFIER to ICU\ndtypes: float64(225), int64(4), object(2)\nmemory usage: 3.4+ MB\n"
     ]
    }
   ],
   "source": [
    "df_sirio_libanes.info()"
   ]
  },
  {
   "cell_type": "code",
   "execution_count": 5,
   "metadata": {},
   "outputs": [
    {
     "output_type": "execute_result",
     "data": {
      "text/plain": [
       "'Número de pacientes: 385'"
      ]
     },
     "metadata": {},
     "execution_count": 5
    }
   ],
   "source": [
    "f\"Número de pacientes: {df_sirio_libanes['PATIENT_VISIT_IDENTIFIER'].nunique()}\""
   ]
  },
  {
   "cell_type": "code",
   "execution_count": 6,
   "metadata": {},
   "outputs": [
    {
     "output_type": "execute_result",
     "data": {
      "text/plain": [
       "Index(['AGE_PERCENTIL', 'WINDOW'], dtype='object')"
      ]
     },
     "metadata": {},
     "execution_count": 6
    }
   ],
   "source": [
    "df_sirio_libanes.select_dtypes(include=['object']).columns"
   ]
  },
  {
   "cell_type": "code",
   "execution_count": 7,
   "metadata": {},
   "outputs": [],
   "source": [
    "df_sirio_libanes_editado = df_sirio_libanes"
   ]
  },
  {
   "cell_type": "code",
   "execution_count": 8,
   "metadata": {},
   "outputs": [],
   "source": [
    "df_sirio_libanes_editado['AGE_PERCENTIL']=df_sirio_libanes_editado['AGE_PERCENTIL'].astype(\"category\")\n",
    "df_sirio_libanes_editado['WINDOW']=df_sirio_libanes_editado['WINDOW'].astype(\"category\")"
   ]
  },
  {
   "cell_type": "code",
   "execution_count": 9,
   "metadata": {},
   "outputs": [
    {
     "output_type": "stream",
     "name": "stdout",
     "text": [
      "<class 'pandas.core.frame.DataFrame'>\nRangeIndex: 1925 entries, 0 to 1924\nColumns: 231 entries, PATIENT_VISIT_IDENTIFIER to ICU\ndtypes: category(2), float64(225), int64(4)\nmemory usage: 3.4 MB\n"
     ]
    }
   ],
   "source": [
    "df_sirio_libanes.info()"
   ]
  },
  {
   "cell_type": "code",
   "execution_count": 10,
   "metadata": {},
   "outputs": [
    {
     "output_type": "execute_result",
     "data": {
      "text/plain": [
       "BE_VENOUS_MEAN                      0.315695\n",
       "LACTATE_MEAN                        0.482143\n",
       "RESPIRATORY_RATE_MEAN               0.428144\n",
       "BLOODPRESSURE_DIASTOLIC_DIFF        0.361708\n",
       "BLOODPRESSURE_SISTOLIC_DIFF         0.413082\n",
       "HEART_RATE_DIFF                     0.335091\n",
       "RESPIRATORY_RATE_DIFF               0.502663\n",
       "TEMPERATURE_DIFF                    0.330577\n",
       "BLOODPRESSURE_DIASTOLIC_DIFF_REL    0.376300\n",
       "BLOODPRESSURE_SISTOLIC_DIFF_REL     0.403476\n",
       "HEART_RATE_DIFF_REL                 0.333011\n",
       "RESPIRATORY_RATE_DIFF_REL           0.489765\n",
       "TEMPERATURE_DIFF_REL                0.331295\n",
       "ICU                                 1.000000\n",
       "Name: ICU, dtype: float64"
      ]
     },
     "metadata": {},
     "execution_count": 10
    }
   ],
   "source": [
    "correlacao_icu = df_sirio_libanes_editado.corr()['ICU'].abs()\n",
    "corelacao_filter = correlacao_icu.loc[(correlacao_icu>=0.3)&(~correlacao_icu.index.str.contains('MAX'))&(~correlacao_icu.index.str.contains('MIN'))&(~correlacao_icu.index.str.contains('MEDIAN'))]\n",
    "corelacao_filter"
   ]
  },
  {
   "cell_type": "code",
   "execution_count": 11,
   "metadata": {},
   "outputs": [
    {
     "output_type": "execute_result",
     "data": {
      "text/plain": [
       "['0-2', '2-4', '4-6', '6-12', 'ABOVE_12']"
      ]
     },
     "metadata": {},
     "execution_count": 11
    }
   ],
   "source": [
    "window_list= df_sirio_libanes_editado['WINDOW'].drop_duplicates().to_list()\n",
    "window_list"
   ]
  },
  {
   "cell_type": "code",
   "execution_count": 12,
   "metadata": {},
   "outputs": [],
   "source": [
    "list_filter = ['PATIENT_VISIT_IDENTIFIER','AGE_PERCENTIL']\n",
    "df_evolucao_paciente=None\n",
    "df_evolucao_paciente= df_sirio_libanes_editado[list_filter].drop_duplicates().reset_index(drop=True)\n",
    "for field_data in list(corelacao_filter.index):\n",
    "    for window_value in window_list:               \n",
    "        df_evolucao_paciente[f'{field_data} ({window_value})'] = (\n",
    "            df_sirio_libanes_editado.loc[(df_sirio_libanes_editado['WINDOW']==window_value)][field_data]\n",
    "            )"
   ]
  },
  {
   "cell_type": "code",
   "execution_count": 13,
   "metadata": {},
   "outputs": [
    {
     "output_type": "execute_result",
     "data": {
      "text/plain": [
       "(385, 72)"
      ]
     },
     "metadata": {},
     "execution_count": 13
    }
   ],
   "source": [
    "df_evolucao_paciente.shape"
   ]
  },
  {
   "cell_type": "code",
   "execution_count": 14,
   "metadata": {},
   "outputs": [
    {
     "output_type": "execute_result",
     "data": {
      "text/plain": [
       "['60th',\n",
       " '90th',\n",
       " '10th',\n",
       " '40th',\n",
       " '70th',\n",
       " '20th',\n",
       " '50th',\n",
       " '80th',\n",
       " '30th',\n",
       " 'Above 90th']"
      ]
     },
     "metadata": {},
     "execution_count": 14
    }
   ],
   "source": [
    "age_list= df_sirio_libanes_editado['AGE_PERCENTIL'].drop_duplicates().to_list()\n",
    "age_list"
   ]
  },
  {
   "cell_type": "code",
   "execution_count": 15,
   "metadata": {},
   "outputs": [
    {
     "output_type": "execute_result",
     "data": {
      "text/plain": [
       "   PATIENT_VISIT_IDENTIFIER AGE_PERCENTIL  BE_VENOUS_MEAN (0-2)  \\\n",
       "0                         0          60th                   NaN   \n",
       "1                         1          90th                   NaN   \n",
       "2                         2          10th                   NaN   \n",
       "3                         3          40th                   NaN   \n",
       "4                         4          10th                   NaN   \n",
       "\n",
       "   BE_VENOUS_MEAN (2-4)  BE_VENOUS_MEAN (4-6)  BE_VENOUS_MEAN (6-12)  \\\n",
       "0                   NaN                   NaN                    NaN   \n",
       "1                   NaN                   NaN                    NaN   \n",
       "2                   NaN                  -1.0                    NaN   \n",
       "3                   NaN                   NaN                    NaN   \n",
       "4                   NaN                   NaN                    NaN   \n",
       "\n",
       "   BE_VENOUS_MEAN (ABOVE_12)  LACTATE_MEAN (0-2)  LACTATE_MEAN (2-4)  \\\n",
       "0                        NaN                 NaN                 NaN   \n",
       "1                        NaN                 NaN                 NaN   \n",
       "2                        NaN                 NaN                 NaN   \n",
       "3                        NaN                 NaN                 NaN   \n",
       "4                  -0.863874                 NaN                 NaN   \n",
       "\n",
       "   LACTATE_MEAN (4-6)  ...  TEMPERATURE_DIFF_REL (0-2)  \\\n",
       "0                 NaN  ...                        -1.0   \n",
       "1                 NaN  ...                         NaN   \n",
       "2                 1.0  ...                         NaN   \n",
       "3                 NaN  ...                         NaN   \n",
       "4                 NaN  ...                         NaN   \n",
       "\n",
       "   TEMPERATURE_DIFF_REL (2-4)  TEMPERATURE_DIFF_REL (4-6)  \\\n",
       "0                         NaN                         NaN   \n",
       "1                        -1.0                         NaN   \n",
       "2                         NaN                         NaN   \n",
       "3                         NaN                         NaN   \n",
       "4                         NaN                         NaN   \n",
       "\n",
       "   TEMPERATURE_DIFF_REL (6-12)  TEMPERATURE_DIFF_REL (ABOVE_12)  ICU (0-2)  \\\n",
       "0                          NaN                              NaN        0.0   \n",
       "1                          NaN                              NaN        NaN   \n",
       "2                          NaN                              NaN        NaN   \n",
       "3                         -1.0                              NaN        NaN   \n",
       "4                          NaN                        -0.242282        NaN   \n",
       "\n",
       "   ICU (2-4)  ICU (4-6)  ICU (6-12)  ICU (ABOVE_12)  \n",
       "0        NaN        NaN         NaN             NaN  \n",
       "1        0.0        NaN         NaN             NaN  \n",
       "2        NaN        0.0         NaN             NaN  \n",
       "3        NaN        NaN         0.0             NaN  \n",
       "4        NaN        NaN         NaN             1.0  \n",
       "\n",
       "[5 rows x 72 columns]"
      ],
      "text/html": "<div>\n<style scoped>\n    .dataframe tbody tr th:only-of-type {\n        vertical-align: middle;\n    }\n\n    .dataframe tbody tr th {\n        vertical-align: top;\n    }\n\n    .dataframe thead th {\n        text-align: right;\n    }\n</style>\n<table border=\"1\" class=\"dataframe\">\n  <thead>\n    <tr style=\"text-align: right;\">\n      <th></th>\n      <th>PATIENT_VISIT_IDENTIFIER</th>\n      <th>AGE_PERCENTIL</th>\n      <th>BE_VENOUS_MEAN (0-2)</th>\n      <th>BE_VENOUS_MEAN (2-4)</th>\n      <th>BE_VENOUS_MEAN (4-6)</th>\n      <th>BE_VENOUS_MEAN (6-12)</th>\n      <th>BE_VENOUS_MEAN (ABOVE_12)</th>\n      <th>LACTATE_MEAN (0-2)</th>\n      <th>LACTATE_MEAN (2-4)</th>\n      <th>LACTATE_MEAN (4-6)</th>\n      <th>...</th>\n      <th>TEMPERATURE_DIFF_REL (0-2)</th>\n      <th>TEMPERATURE_DIFF_REL (2-4)</th>\n      <th>TEMPERATURE_DIFF_REL (4-6)</th>\n      <th>TEMPERATURE_DIFF_REL (6-12)</th>\n      <th>TEMPERATURE_DIFF_REL (ABOVE_12)</th>\n      <th>ICU (0-2)</th>\n      <th>ICU (2-4)</th>\n      <th>ICU (4-6)</th>\n      <th>ICU (6-12)</th>\n      <th>ICU (ABOVE_12)</th>\n    </tr>\n  </thead>\n  <tbody>\n    <tr>\n      <th>0</th>\n      <td>0</td>\n      <td>60th</td>\n      <td>NaN</td>\n      <td>NaN</td>\n      <td>NaN</td>\n      <td>NaN</td>\n      <td>NaN</td>\n      <td>NaN</td>\n      <td>NaN</td>\n      <td>NaN</td>\n      <td>...</td>\n      <td>-1.0</td>\n      <td>NaN</td>\n      <td>NaN</td>\n      <td>NaN</td>\n      <td>NaN</td>\n      <td>0.0</td>\n      <td>NaN</td>\n      <td>NaN</td>\n      <td>NaN</td>\n      <td>NaN</td>\n    </tr>\n    <tr>\n      <th>1</th>\n      <td>1</td>\n      <td>90th</td>\n      <td>NaN</td>\n      <td>NaN</td>\n      <td>NaN</td>\n      <td>NaN</td>\n      <td>NaN</td>\n      <td>NaN</td>\n      <td>NaN</td>\n      <td>NaN</td>\n      <td>...</td>\n      <td>NaN</td>\n      <td>-1.0</td>\n      <td>NaN</td>\n      <td>NaN</td>\n      <td>NaN</td>\n      <td>NaN</td>\n      <td>0.0</td>\n      <td>NaN</td>\n      <td>NaN</td>\n      <td>NaN</td>\n    </tr>\n    <tr>\n      <th>2</th>\n      <td>2</td>\n      <td>10th</td>\n      <td>NaN</td>\n      <td>NaN</td>\n      <td>-1.0</td>\n      <td>NaN</td>\n      <td>NaN</td>\n      <td>NaN</td>\n      <td>NaN</td>\n      <td>1.0</td>\n      <td>...</td>\n      <td>NaN</td>\n      <td>NaN</td>\n      <td>NaN</td>\n      <td>NaN</td>\n      <td>NaN</td>\n      <td>NaN</td>\n      <td>NaN</td>\n      <td>0.0</td>\n      <td>NaN</td>\n      <td>NaN</td>\n    </tr>\n    <tr>\n      <th>3</th>\n      <td>3</td>\n      <td>40th</td>\n      <td>NaN</td>\n      <td>NaN</td>\n      <td>NaN</td>\n      <td>NaN</td>\n      <td>NaN</td>\n      <td>NaN</td>\n      <td>NaN</td>\n      <td>NaN</td>\n      <td>...</td>\n      <td>NaN</td>\n      <td>NaN</td>\n      <td>NaN</td>\n      <td>-1.0</td>\n      <td>NaN</td>\n      <td>NaN</td>\n      <td>NaN</td>\n      <td>NaN</td>\n      <td>0.0</td>\n      <td>NaN</td>\n    </tr>\n    <tr>\n      <th>4</th>\n      <td>4</td>\n      <td>10th</td>\n      <td>NaN</td>\n      <td>NaN</td>\n      <td>NaN</td>\n      <td>NaN</td>\n      <td>-0.863874</td>\n      <td>NaN</td>\n      <td>NaN</td>\n      <td>NaN</td>\n      <td>...</td>\n      <td>NaN</td>\n      <td>NaN</td>\n      <td>NaN</td>\n      <td>NaN</td>\n      <td>-0.242282</td>\n      <td>NaN</td>\n      <td>NaN</td>\n      <td>NaN</td>\n      <td>NaN</td>\n      <td>1.0</td>\n    </tr>\n  </tbody>\n</table>\n<p>5 rows × 72 columns</p>\n</div>"
     },
     "metadata": {},
     "execution_count": 15
    }
   ],
   "source": [
    "df_evolucao_paciente.head()"
   ]
  },
  {
   "cell_type": "code",
   "execution_count": 16,
   "metadata": {},
   "outputs": [
    {
     "output_type": "execute_result",
     "data": {
      "text/plain": [
       "['ICU (0-2)', 'ICU (2-4)', 'ICU (4-6)', 'ICU (6-12)', 'ICU (ABOVE_12)']"
      ]
     },
     "metadata": {},
     "execution_count": 16
    }
   ],
   "source": [
    "icu_list=[icu_value for icu_value in df_evolucao_paciente.columns if 'ICU' in icu_value]\n",
    "icu_list"
   ]
  },
  {
   "cell_type": "code",
   "execution_count": 17,
   "metadata": {},
   "outputs": [
    {
     "output_type": "execute_result",
     "data": {
      "text/plain": [
       "       ICU (0-2)  ICU (2-4)  ICU (4-6)  ICU (6-12)  ICU (ABOVE_12)\n",
       "count  77.000000  77.000000  77.000000   77.000000       77.000000\n",
       "mean    0.103896   0.142857   0.298701    0.376623        0.467532\n",
       "std     0.307127   0.352222   0.460690    0.487717        0.502217\n",
       "min     0.000000   0.000000   0.000000    0.000000        0.000000\n",
       "25%     0.000000   0.000000   0.000000    0.000000        0.000000\n",
       "50%     0.000000   0.000000   0.000000    0.000000        0.000000\n",
       "75%     0.000000   0.000000   1.000000    1.000000        1.000000\n",
       "max     1.000000   1.000000   1.000000    1.000000        1.000000"
      ],
      "text/html": "<div>\n<style scoped>\n    .dataframe tbody tr th:only-of-type {\n        vertical-align: middle;\n    }\n\n    .dataframe tbody tr th {\n        vertical-align: top;\n    }\n\n    .dataframe thead th {\n        text-align: right;\n    }\n</style>\n<table border=\"1\" class=\"dataframe\">\n  <thead>\n    <tr style=\"text-align: right;\">\n      <th></th>\n      <th>ICU (0-2)</th>\n      <th>ICU (2-4)</th>\n      <th>ICU (4-6)</th>\n      <th>ICU (6-12)</th>\n      <th>ICU (ABOVE_12)</th>\n    </tr>\n  </thead>\n  <tbody>\n    <tr>\n      <th>count</th>\n      <td>77.000000</td>\n      <td>77.000000</td>\n      <td>77.000000</td>\n      <td>77.000000</td>\n      <td>77.000000</td>\n    </tr>\n    <tr>\n      <th>mean</th>\n      <td>0.103896</td>\n      <td>0.142857</td>\n      <td>0.298701</td>\n      <td>0.376623</td>\n      <td>0.467532</td>\n    </tr>\n    <tr>\n      <th>std</th>\n      <td>0.307127</td>\n      <td>0.352222</td>\n      <td>0.460690</td>\n      <td>0.487717</td>\n      <td>0.502217</td>\n    </tr>\n    <tr>\n      <th>min</th>\n      <td>0.000000</td>\n      <td>0.000000</td>\n      <td>0.000000</td>\n      <td>0.000000</td>\n      <td>0.000000</td>\n    </tr>\n    <tr>\n      <th>25%</th>\n      <td>0.000000</td>\n      <td>0.000000</td>\n      <td>0.000000</td>\n      <td>0.000000</td>\n      <td>0.000000</td>\n    </tr>\n    <tr>\n      <th>50%</th>\n      <td>0.000000</td>\n      <td>0.000000</td>\n      <td>0.000000</td>\n      <td>0.000000</td>\n      <td>0.000000</td>\n    </tr>\n    <tr>\n      <th>75%</th>\n      <td>0.000000</td>\n      <td>0.000000</td>\n      <td>1.000000</td>\n      <td>1.000000</td>\n      <td>1.000000</td>\n    </tr>\n    <tr>\n      <th>max</th>\n      <td>1.000000</td>\n      <td>1.000000</td>\n      <td>1.000000</td>\n      <td>1.000000</td>\n      <td>1.000000</td>\n    </tr>\n  </tbody>\n</table>\n</div>"
     },
     "metadata": {},
     "execution_count": 17
    }
   ],
   "source": [
    "df_evolucao_paciente[icu_list].describe()"
   ]
  },
  {
   "cell_type": "code",
   "execution_count": 18,
   "metadata": {},
   "outputs": [],
   "source": [
    "df_evolucao_paciente['ICU'] = df_evolucao_paciente[icu_list].sum(axis = 1, skipna = True)"
   ]
  },
  {
   "cell_type": "code",
   "execution_count": 19,
   "metadata": {},
   "outputs": [
    {
     "output_type": "execute_result",
     "data": {
      "text/plain": [
       "   PATIENT_VISIT_IDENTIFIER AGE_PERCENTIL  BE_VENOUS_MEAN (0-2)  \\\n",
       "0                         0          60th                   NaN   \n",
       "1                         1          90th                   NaN   \n",
       "2                         2          10th                   NaN   \n",
       "3                         3          40th                   NaN   \n",
       "4                         4          10th                   NaN   \n",
       "\n",
       "   BE_VENOUS_MEAN (2-4)  BE_VENOUS_MEAN (4-6)  BE_VENOUS_MEAN (6-12)  \\\n",
       "0                   NaN                   NaN                    NaN   \n",
       "1                   NaN                   NaN                    NaN   \n",
       "2                   NaN                  -1.0                    NaN   \n",
       "3                   NaN                   NaN                    NaN   \n",
       "4                   NaN                   NaN                    NaN   \n",
       "\n",
       "   BE_VENOUS_MEAN (ABOVE_12)  LACTATE_MEAN (0-2)  LACTATE_MEAN (2-4)  \\\n",
       "0                        NaN                 NaN                 NaN   \n",
       "1                        NaN                 NaN                 NaN   \n",
       "2                        NaN                 NaN                 NaN   \n",
       "3                        NaN                 NaN                 NaN   \n",
       "4                  -0.863874                 NaN                 NaN   \n",
       "\n",
       "   LACTATE_MEAN (4-6)  ...  RESPIRATORY_RATE_DIFF_REL (2-4)  \\\n",
       "0                 NaN  ...                              NaN   \n",
       "1                 NaN  ...                             -1.0   \n",
       "2                 1.0  ...                              NaN   \n",
       "3                 NaN  ...                              NaN   \n",
       "4                 NaN  ...                              NaN   \n",
       "\n",
       "   RESPIRATORY_RATE_DIFF_REL (4-6)  RESPIRATORY_RATE_DIFF_REL (6-12)  \\\n",
       "0                              NaN                               NaN   \n",
       "1                              NaN                               NaN   \n",
       "2                              NaN                               NaN   \n",
       "3                              NaN                               NaN   \n",
       "4                              NaN                               NaN   \n",
       "\n",
       "   RESPIRATORY_RATE_DIFF_REL (ABOVE_12)  TEMPERATURE_DIFF_REL (0-2)  \\\n",
       "0                                   NaN                        -1.0   \n",
       "1                                   NaN                         NaN   \n",
       "2                                   NaN                         NaN   \n",
       "3                                   NaN                         NaN   \n",
       "4                              0.096774                         NaN   \n",
       "\n",
       "   TEMPERATURE_DIFF_REL (2-4)  TEMPERATURE_DIFF_REL (4-6)  \\\n",
       "0                         NaN                         NaN   \n",
       "1                        -1.0                         NaN   \n",
       "2                         NaN                         NaN   \n",
       "3                         NaN                         NaN   \n",
       "4                         NaN                         NaN   \n",
       "\n",
       "   TEMPERATURE_DIFF_REL (6-12)  TEMPERATURE_DIFF_REL (ABOVE_12)  ICU  \n",
       "0                          NaN                              NaN  0.0  \n",
       "1                          NaN                              NaN  0.0  \n",
       "2                          NaN                              NaN  0.0  \n",
       "3                         -1.0                              NaN  0.0  \n",
       "4                          NaN                        -0.242282  1.0  \n",
       "\n",
       "[5 rows x 68 columns]"
      ],
      "text/html": "<div>\n<style scoped>\n    .dataframe tbody tr th:only-of-type {\n        vertical-align: middle;\n    }\n\n    .dataframe tbody tr th {\n        vertical-align: top;\n    }\n\n    .dataframe thead th {\n        text-align: right;\n    }\n</style>\n<table border=\"1\" class=\"dataframe\">\n  <thead>\n    <tr style=\"text-align: right;\">\n      <th></th>\n      <th>PATIENT_VISIT_IDENTIFIER</th>\n      <th>AGE_PERCENTIL</th>\n      <th>BE_VENOUS_MEAN (0-2)</th>\n      <th>BE_VENOUS_MEAN (2-4)</th>\n      <th>BE_VENOUS_MEAN (4-6)</th>\n      <th>BE_VENOUS_MEAN (6-12)</th>\n      <th>BE_VENOUS_MEAN (ABOVE_12)</th>\n      <th>LACTATE_MEAN (0-2)</th>\n      <th>LACTATE_MEAN (2-4)</th>\n      <th>LACTATE_MEAN (4-6)</th>\n      <th>...</th>\n      <th>RESPIRATORY_RATE_DIFF_REL (2-4)</th>\n      <th>RESPIRATORY_RATE_DIFF_REL (4-6)</th>\n      <th>RESPIRATORY_RATE_DIFF_REL (6-12)</th>\n      <th>RESPIRATORY_RATE_DIFF_REL (ABOVE_12)</th>\n      <th>TEMPERATURE_DIFF_REL (0-2)</th>\n      <th>TEMPERATURE_DIFF_REL (2-4)</th>\n      <th>TEMPERATURE_DIFF_REL (4-6)</th>\n      <th>TEMPERATURE_DIFF_REL (6-12)</th>\n      <th>TEMPERATURE_DIFF_REL (ABOVE_12)</th>\n      <th>ICU</th>\n    </tr>\n  </thead>\n  <tbody>\n    <tr>\n      <th>0</th>\n      <td>0</td>\n      <td>60th</td>\n      <td>NaN</td>\n      <td>NaN</td>\n      <td>NaN</td>\n      <td>NaN</td>\n      <td>NaN</td>\n      <td>NaN</td>\n      <td>NaN</td>\n      <td>NaN</td>\n      <td>...</td>\n      <td>NaN</td>\n      <td>NaN</td>\n      <td>NaN</td>\n      <td>NaN</td>\n      <td>-1.0</td>\n      <td>NaN</td>\n      <td>NaN</td>\n      <td>NaN</td>\n      <td>NaN</td>\n      <td>0.0</td>\n    </tr>\n    <tr>\n      <th>1</th>\n      <td>1</td>\n      <td>90th</td>\n      <td>NaN</td>\n      <td>NaN</td>\n      <td>NaN</td>\n      <td>NaN</td>\n      <td>NaN</td>\n      <td>NaN</td>\n      <td>NaN</td>\n      <td>NaN</td>\n      <td>...</td>\n      <td>-1.0</td>\n      <td>NaN</td>\n      <td>NaN</td>\n      <td>NaN</td>\n      <td>NaN</td>\n      <td>-1.0</td>\n      <td>NaN</td>\n      <td>NaN</td>\n      <td>NaN</td>\n      <td>0.0</td>\n    </tr>\n    <tr>\n      <th>2</th>\n      <td>2</td>\n      <td>10th</td>\n      <td>NaN</td>\n      <td>NaN</td>\n      <td>-1.0</td>\n      <td>NaN</td>\n      <td>NaN</td>\n      <td>NaN</td>\n      <td>NaN</td>\n      <td>1.0</td>\n      <td>...</td>\n      <td>NaN</td>\n      <td>NaN</td>\n      <td>NaN</td>\n      <td>NaN</td>\n      <td>NaN</td>\n      <td>NaN</td>\n      <td>NaN</td>\n      <td>NaN</td>\n      <td>NaN</td>\n      <td>0.0</td>\n    </tr>\n    <tr>\n      <th>3</th>\n      <td>3</td>\n      <td>40th</td>\n      <td>NaN</td>\n      <td>NaN</td>\n      <td>NaN</td>\n      <td>NaN</td>\n      <td>NaN</td>\n      <td>NaN</td>\n      <td>NaN</td>\n      <td>NaN</td>\n      <td>...</td>\n      <td>NaN</td>\n      <td>NaN</td>\n      <td>NaN</td>\n      <td>NaN</td>\n      <td>NaN</td>\n      <td>NaN</td>\n      <td>NaN</td>\n      <td>-1.0</td>\n      <td>NaN</td>\n      <td>0.0</td>\n    </tr>\n    <tr>\n      <th>4</th>\n      <td>4</td>\n      <td>10th</td>\n      <td>NaN</td>\n      <td>NaN</td>\n      <td>NaN</td>\n      <td>NaN</td>\n      <td>-0.863874</td>\n      <td>NaN</td>\n      <td>NaN</td>\n      <td>NaN</td>\n      <td>...</td>\n      <td>NaN</td>\n      <td>NaN</td>\n      <td>NaN</td>\n      <td>0.096774</td>\n      <td>NaN</td>\n      <td>NaN</td>\n      <td>NaN</td>\n      <td>NaN</td>\n      <td>-0.242282</td>\n      <td>1.0</td>\n    </tr>\n  </tbody>\n</table>\n<p>5 rows × 68 columns</p>\n</div>"
     },
     "metadata": {},
     "execution_count": 19
    }
   ],
   "source": [
    "df_evolucao_paciente.drop(columns=icu_list,inplace=True,errors='ignore')\n",
    "df_evolucao_paciente.head()"
   ]
  },
  {
   "cell_type": "code",
   "execution_count": 20,
   "metadata": {},
   "outputs": [
    {
     "output_type": "execute_result",
     "data": {
      "text/plain": [
       "count    385.000000\n",
       "mean       0.277922\n",
       "std        0.448558\n",
       "min        0.000000\n",
       "25%        0.000000\n",
       "50%        0.000000\n",
       "75%        1.000000\n",
       "max        1.000000\n",
       "Name: ICU, dtype: float64"
      ]
     },
     "metadata": {},
     "execution_count": 20
    }
   ],
   "source": [
    "df_evolucao_paciente['ICU'].describe()"
   ]
  },
  {
   "cell_type": "code",
   "execution_count": 21,
   "metadata": {},
   "outputs": [
    {
     "output_type": "execute_result",
     "data": {
      "text/plain": [
       "0.0    0.722\n",
       "1.0    0.278\n",
       "Name: ICU, dtype: float64"
      ]
     },
     "metadata": {},
     "execution_count": 21
    }
   ],
   "source": [
    "df_evolucao_paciente['ICU'].value_counts(normalize=True).round(3)"
   ]
  },
  {
   "cell_type": "code",
   "execution_count": 22,
   "metadata": {},
   "outputs": [
    {
     "output_type": "stream",
     "name": "stderr",
     "text": [
      "Done! Use 'show' commands to display/save.   |██████████| [100%]   00:08 -> (00:00 left)\n"
     ]
    }
   ],
   "source": [
    "report = sweetviz.analyze(df_evolucao_paciente,pairwise_analysis='on')"
   ]
  },
  {
   "cell_type": "code",
   "execution_count": 23,
   "metadata": {},
   "outputs": [
    {
     "output_type": "stream",
     "name": "stdout",
     "text": [
      "Report SWEETVIZ_REPORT.html was generated! NOTEBOOK/COLAB USERS: the web browser MAY not pop up, regardless, the report IS saved in your notebook/colab files.\n"
     ]
    }
   ],
   "source": [
    "report.show_html()"
   ]
  },
  {
   "cell_type": "code",
   "execution_count": 24,
   "metadata": {},
   "outputs": [
    {
     "output_type": "execute_result",
     "data": {
      "text/plain": [
       "Index(['PATIENT_VISIT_IDENTIFIER', 'AGE_PERCENTIL', 'BE_VENOUS_MEAN (0-2)',\n",
       "       'BE_VENOUS_MEAN (2-4)', 'BE_VENOUS_MEAN (4-6)', 'BE_VENOUS_MEAN (6-12)',\n",
       "       'BE_VENOUS_MEAN (ABOVE_12)', 'LACTATE_MEAN (0-2)', 'LACTATE_MEAN (2-4)',\n",
       "       'LACTATE_MEAN (4-6)', 'LACTATE_MEAN (6-12)', 'LACTATE_MEAN (ABOVE_12)',\n",
       "       'RESPIRATORY_RATE_MEAN (0-2)', 'RESPIRATORY_RATE_MEAN (2-4)',\n",
       "       'RESPIRATORY_RATE_MEAN (4-6)', 'RESPIRATORY_RATE_MEAN (6-12)',\n",
       "       'RESPIRATORY_RATE_MEAN (ABOVE_12)',\n",
       "       'BLOODPRESSURE_DIASTOLIC_DIFF (0-2)',\n",
       "       'BLOODPRESSURE_DIASTOLIC_DIFF (2-4)',\n",
       "       'BLOODPRESSURE_DIASTOLIC_DIFF (4-6)',\n",
       "       'BLOODPRESSURE_DIASTOLIC_DIFF (6-12)',\n",
       "       'BLOODPRESSURE_DIASTOLIC_DIFF (ABOVE_12)',\n",
       "       'BLOODPRESSURE_SISTOLIC_DIFF (0-2)',\n",
       "       'BLOODPRESSURE_SISTOLIC_DIFF (2-4)',\n",
       "       'BLOODPRESSURE_SISTOLIC_DIFF (4-6)',\n",
       "       'BLOODPRESSURE_SISTOLIC_DIFF (6-12)',\n",
       "       'BLOODPRESSURE_SISTOLIC_DIFF (ABOVE_12)', 'HEART_RATE_DIFF (0-2)',\n",
       "       'HEART_RATE_DIFF (2-4)', 'HEART_RATE_DIFF (4-6)',\n",
       "       'HEART_RATE_DIFF (6-12)', 'HEART_RATE_DIFF (ABOVE_12)',\n",
       "       'RESPIRATORY_RATE_DIFF (0-2)', 'RESPIRATORY_RATE_DIFF (2-4)',\n",
       "       'RESPIRATORY_RATE_DIFF (4-6)', 'RESPIRATORY_RATE_DIFF (6-12)',\n",
       "       'RESPIRATORY_RATE_DIFF (ABOVE_12)', 'TEMPERATURE_DIFF (0-2)',\n",
       "       'TEMPERATURE_DIFF (2-4)', 'TEMPERATURE_DIFF (4-6)',\n",
       "       'TEMPERATURE_DIFF (6-12)', 'TEMPERATURE_DIFF (ABOVE_12)',\n",
       "       'BLOODPRESSURE_DIASTOLIC_DIFF_REL (0-2)',\n",
       "       'BLOODPRESSURE_DIASTOLIC_DIFF_REL (2-4)',\n",
       "       'BLOODPRESSURE_DIASTOLIC_DIFF_REL (4-6)',\n",
       "       'BLOODPRESSURE_DIASTOLIC_DIFF_REL (6-12)',\n",
       "       'BLOODPRESSURE_DIASTOLIC_DIFF_REL (ABOVE_12)',\n",
       "       'BLOODPRESSURE_SISTOLIC_DIFF_REL (0-2)',\n",
       "       'BLOODPRESSURE_SISTOLIC_DIFF_REL (2-4)',\n",
       "       'BLOODPRESSURE_SISTOLIC_DIFF_REL (4-6)',\n",
       "       'BLOODPRESSURE_SISTOLIC_DIFF_REL (6-12)',\n",
       "       'BLOODPRESSURE_SISTOLIC_DIFF_REL (ABOVE_12)',\n",
       "       'HEART_RATE_DIFF_REL (0-2)', 'HEART_RATE_DIFF_REL (2-4)',\n",
       "       'HEART_RATE_DIFF_REL (4-6)', 'HEART_RATE_DIFF_REL (6-12)',\n",
       "       'HEART_RATE_DIFF_REL (ABOVE_12)', 'RESPIRATORY_RATE_DIFF_REL (0-2)',\n",
       "       'RESPIRATORY_RATE_DIFF_REL (2-4)', 'RESPIRATORY_RATE_DIFF_REL (4-6)',\n",
       "       'RESPIRATORY_RATE_DIFF_REL (6-12)',\n",
       "       'RESPIRATORY_RATE_DIFF_REL (ABOVE_12)', 'TEMPERATURE_DIFF_REL (0-2)',\n",
       "       'TEMPERATURE_DIFF_REL (2-4)', 'TEMPERATURE_DIFF_REL (4-6)',\n",
       "       'TEMPERATURE_DIFF_REL (6-12)', 'TEMPERATURE_DIFF_REL (ABOVE_12)',\n",
       "       'ICU'],\n",
       "      dtype='object')"
      ]
     },
     "metadata": {},
     "execution_count": 24
    }
   ],
   "source": [
    "df_evolucao_paciente.columns"
   ]
  },
  {
   "cell_type": "code",
   "execution_count": 25,
   "metadata": {},
   "outputs": [
    {
     "output_type": "execute_result",
     "data": {
      "text/plain": [
       "     PATIENT_VISIT_IDENTIFIER AGE_PERCENTIL  BE_VENOUS_MEAN (0-2)  \\\n",
       "0                           0          60th                   NaN   \n",
       "1                           1          90th                   NaN   \n",
       "2                           2          10th                   NaN   \n",
       "3                           3          40th                   NaN   \n",
       "4                           4          10th                   NaN   \n",
       "..                        ...           ...                   ...   \n",
       "380                       380          40th                  -1.0   \n",
       "381                       381    Above 90th                   NaN   \n",
       "382                       382          50th                   NaN   \n",
       "383                       383          40th                   NaN   \n",
       "384                       384          50th                   NaN   \n",
       "\n",
       "     BE_VENOUS_MEAN (2-4)  BE_VENOUS_MEAN (4-6)  BE_VENOUS_MEAN (6-12)  \\\n",
       "0                     NaN                   NaN                    NaN   \n",
       "1                     NaN                   NaN                    NaN   \n",
       "2                     NaN                  -1.0                    NaN   \n",
       "3                     NaN                   NaN                    NaN   \n",
       "4                     NaN                   NaN                    NaN   \n",
       "..                    ...                   ...                    ...   \n",
       "380                   NaN                   NaN                    NaN   \n",
       "381                   NaN                   NaN                    NaN   \n",
       "382                   NaN                   NaN                    NaN   \n",
       "383                   NaN                   NaN                    NaN   \n",
       "384                   NaN                   NaN                    NaN   \n",
       "\n",
       "     BE_VENOUS_MEAN (ABOVE_12)  LACTATE_MEAN (0-2)  LACTATE_MEAN (2-4)  \\\n",
       "0                          NaN                 NaN                 NaN   \n",
       "1                          NaN                 NaN                 NaN   \n",
       "2                          NaN                 NaN                 NaN   \n",
       "3                          NaN                 NaN                 NaN   \n",
       "4                    -0.863874                 NaN                 NaN   \n",
       "..                         ...                 ...                 ...   \n",
       "380                        NaN           -0.863097                 NaN   \n",
       "381                        NaN                 NaN                 NaN   \n",
       "382                        NaN                 NaN                 NaN   \n",
       "383                        NaN                 NaN                 NaN   \n",
       "384                  -1.000000                 NaN                 NaN   \n",
       "\n",
       "     LACTATE_MEAN (4-6)  ...  RESPIRATORY_RATE_DIFF_REL (4-6)  \\\n",
       "0                   NaN  ...                              NaN   \n",
       "1                   NaN  ...                              NaN   \n",
       "2                   1.0  ...                              NaN   \n",
       "3                   NaN  ...                              NaN   \n",
       "4                   NaN  ...                              NaN   \n",
       "..                  ...  ...                              ...   \n",
       "380                 NaN  ...                              NaN   \n",
       "381                 NaN  ...                              NaN   \n",
       "382                 NaN  ...                             -1.0   \n",
       "383                 NaN  ...                              NaN   \n",
       "384                 NaN  ...                              NaN   \n",
       "\n",
       "     RESPIRATORY_RATE_DIFF_REL (6-12)  RESPIRATORY_RATE_DIFF_REL (ABOVE_12)  \\\n",
       "0                                 NaN                                   NaN   \n",
       "1                                 NaN                                   NaN   \n",
       "2                                 NaN                                   NaN   \n",
       "3                                 NaN                                   NaN   \n",
       "4                                 NaN                              0.096774   \n",
       "..                                ...                                   ...   \n",
       "380                               NaN                                   NaN   \n",
       "381                               NaN                                   NaN   \n",
       "382                               NaN                                   NaN   \n",
       "383                              -1.0                                   NaN   \n",
       "384                               NaN                             -0.741935   \n",
       "\n",
       "     TEMPERATURE_DIFF_REL (0-2)  TEMPERATURE_DIFF_REL (2-4)  \\\n",
       "0                          -1.0                         NaN   \n",
       "1                           NaN                        -1.0   \n",
       "2                           NaN                         NaN   \n",
       "3                           NaN                         NaN   \n",
       "4                           NaN                         NaN   \n",
       "..                          ...                         ...   \n",
       "380                        -1.0                         NaN   \n",
       "381                         NaN                         NaN   \n",
       "382                         NaN                         NaN   \n",
       "383                         NaN                         NaN   \n",
       "384                         NaN                         NaN   \n",
       "\n",
       "     TEMPERATURE_DIFF_REL (4-6)  TEMPERATURE_DIFF_REL (6-12)  \\\n",
       "0                           NaN                          NaN   \n",
       "1                           NaN                          NaN   \n",
       "2                           NaN                          NaN   \n",
       "3                           NaN                         -1.0   \n",
       "4                           NaN                          NaN   \n",
       "..                          ...                          ...   \n",
       "380                         NaN                          NaN   \n",
       "381                         NaN                          NaN   \n",
       "382                        -1.0                          NaN   \n",
       "383                         NaN                         -1.0   \n",
       "384                         NaN                          NaN   \n",
       "\n",
       "     TEMPERATURE_DIFF_REL (ABOVE_12)  ICU  AGE_PERCENTIL_CODE  \n",
       "0                                NaN  0.0                   5  \n",
       "1                                NaN  0.0                   8  \n",
       "2                                NaN  0.0                   0  \n",
       "3                                NaN  0.0                   3  \n",
       "4                          -0.242282  1.0                   0  \n",
       "..                               ...  ...                 ...  \n",
       "380                              NaN  0.0                   3  \n",
       "381                              NaN  0.0                   9  \n",
       "382                              NaN  0.0                   4  \n",
       "383                              NaN  0.0                   3  \n",
       "384                        -0.518489  0.0                   4  \n",
       "\n",
       "[385 rows x 69 columns]"
      ],
      "text/html": "<div>\n<style scoped>\n    .dataframe tbody tr th:only-of-type {\n        vertical-align: middle;\n    }\n\n    .dataframe tbody tr th {\n        vertical-align: top;\n    }\n\n    .dataframe thead th {\n        text-align: right;\n    }\n</style>\n<table border=\"1\" class=\"dataframe\">\n  <thead>\n    <tr style=\"text-align: right;\">\n      <th></th>\n      <th>PATIENT_VISIT_IDENTIFIER</th>\n      <th>AGE_PERCENTIL</th>\n      <th>BE_VENOUS_MEAN (0-2)</th>\n      <th>BE_VENOUS_MEAN (2-4)</th>\n      <th>BE_VENOUS_MEAN (4-6)</th>\n      <th>BE_VENOUS_MEAN (6-12)</th>\n      <th>BE_VENOUS_MEAN (ABOVE_12)</th>\n      <th>LACTATE_MEAN (0-2)</th>\n      <th>LACTATE_MEAN (2-4)</th>\n      <th>LACTATE_MEAN (4-6)</th>\n      <th>...</th>\n      <th>RESPIRATORY_RATE_DIFF_REL (4-6)</th>\n      <th>RESPIRATORY_RATE_DIFF_REL (6-12)</th>\n      <th>RESPIRATORY_RATE_DIFF_REL (ABOVE_12)</th>\n      <th>TEMPERATURE_DIFF_REL (0-2)</th>\n      <th>TEMPERATURE_DIFF_REL (2-4)</th>\n      <th>TEMPERATURE_DIFF_REL (4-6)</th>\n      <th>TEMPERATURE_DIFF_REL (6-12)</th>\n      <th>TEMPERATURE_DIFF_REL (ABOVE_12)</th>\n      <th>ICU</th>\n      <th>AGE_PERCENTIL_CODE</th>\n    </tr>\n  </thead>\n  <tbody>\n    <tr>\n      <th>0</th>\n      <td>0</td>\n      <td>60th</td>\n      <td>NaN</td>\n      <td>NaN</td>\n      <td>NaN</td>\n      <td>NaN</td>\n      <td>NaN</td>\n      <td>NaN</td>\n      <td>NaN</td>\n      <td>NaN</td>\n      <td>...</td>\n      <td>NaN</td>\n      <td>NaN</td>\n      <td>NaN</td>\n      <td>-1.0</td>\n      <td>NaN</td>\n      <td>NaN</td>\n      <td>NaN</td>\n      <td>NaN</td>\n      <td>0.0</td>\n      <td>5</td>\n    </tr>\n    <tr>\n      <th>1</th>\n      <td>1</td>\n      <td>90th</td>\n      <td>NaN</td>\n      <td>NaN</td>\n      <td>NaN</td>\n      <td>NaN</td>\n      <td>NaN</td>\n      <td>NaN</td>\n      <td>NaN</td>\n      <td>NaN</td>\n      <td>...</td>\n      <td>NaN</td>\n      <td>NaN</td>\n      <td>NaN</td>\n      <td>NaN</td>\n      <td>-1.0</td>\n      <td>NaN</td>\n      <td>NaN</td>\n      <td>NaN</td>\n      <td>0.0</td>\n      <td>8</td>\n    </tr>\n    <tr>\n      <th>2</th>\n      <td>2</td>\n      <td>10th</td>\n      <td>NaN</td>\n      <td>NaN</td>\n      <td>-1.0</td>\n      <td>NaN</td>\n      <td>NaN</td>\n      <td>NaN</td>\n      <td>NaN</td>\n      <td>1.0</td>\n      <td>...</td>\n      <td>NaN</td>\n      <td>NaN</td>\n      <td>NaN</td>\n      <td>NaN</td>\n      <td>NaN</td>\n      <td>NaN</td>\n      <td>NaN</td>\n      <td>NaN</td>\n      <td>0.0</td>\n      <td>0</td>\n    </tr>\n    <tr>\n      <th>3</th>\n      <td>3</td>\n      <td>40th</td>\n      <td>NaN</td>\n      <td>NaN</td>\n      <td>NaN</td>\n      <td>NaN</td>\n      <td>NaN</td>\n      <td>NaN</td>\n      <td>NaN</td>\n      <td>NaN</td>\n      <td>...</td>\n      <td>NaN</td>\n      <td>NaN</td>\n      <td>NaN</td>\n      <td>NaN</td>\n      <td>NaN</td>\n      <td>NaN</td>\n      <td>-1.0</td>\n      <td>NaN</td>\n      <td>0.0</td>\n      <td>3</td>\n    </tr>\n    <tr>\n      <th>4</th>\n      <td>4</td>\n      <td>10th</td>\n      <td>NaN</td>\n      <td>NaN</td>\n      <td>NaN</td>\n      <td>NaN</td>\n      <td>-0.863874</td>\n      <td>NaN</td>\n      <td>NaN</td>\n      <td>NaN</td>\n      <td>...</td>\n      <td>NaN</td>\n      <td>NaN</td>\n      <td>0.096774</td>\n      <td>NaN</td>\n      <td>NaN</td>\n      <td>NaN</td>\n      <td>NaN</td>\n      <td>-0.242282</td>\n      <td>1.0</td>\n      <td>0</td>\n    </tr>\n    <tr>\n      <th>...</th>\n      <td>...</td>\n      <td>...</td>\n      <td>...</td>\n      <td>...</td>\n      <td>...</td>\n      <td>...</td>\n      <td>...</td>\n      <td>...</td>\n      <td>...</td>\n      <td>...</td>\n      <td>...</td>\n      <td>...</td>\n      <td>...</td>\n      <td>...</td>\n      <td>...</td>\n      <td>...</td>\n      <td>...</td>\n      <td>...</td>\n      <td>...</td>\n      <td>...</td>\n      <td>...</td>\n    </tr>\n    <tr>\n      <th>380</th>\n      <td>380</td>\n      <td>40th</td>\n      <td>-1.0</td>\n      <td>NaN</td>\n      <td>NaN</td>\n      <td>NaN</td>\n      <td>NaN</td>\n      <td>-0.863097</td>\n      <td>NaN</td>\n      <td>NaN</td>\n      <td>...</td>\n      <td>NaN</td>\n      <td>NaN</td>\n      <td>NaN</td>\n      <td>-1.0</td>\n      <td>NaN</td>\n      <td>NaN</td>\n      <td>NaN</td>\n      <td>NaN</td>\n      <td>0.0</td>\n      <td>3</td>\n    </tr>\n    <tr>\n      <th>381</th>\n      <td>381</td>\n      <td>Above 90th</td>\n      <td>NaN</td>\n      <td>NaN</td>\n      <td>NaN</td>\n      <td>NaN</td>\n      <td>NaN</td>\n      <td>NaN</td>\n      <td>NaN</td>\n      <td>NaN</td>\n      <td>...</td>\n      <td>NaN</td>\n      <td>NaN</td>\n      <td>NaN</td>\n      <td>NaN</td>\n      <td>NaN</td>\n      <td>NaN</td>\n      <td>NaN</td>\n      <td>NaN</td>\n      <td>0.0</td>\n      <td>9</td>\n    </tr>\n    <tr>\n      <th>382</th>\n      <td>382</td>\n      <td>50th</td>\n      <td>NaN</td>\n      <td>NaN</td>\n      <td>NaN</td>\n      <td>NaN</td>\n      <td>NaN</td>\n      <td>NaN</td>\n      <td>NaN</td>\n      <td>NaN</td>\n      <td>...</td>\n      <td>-1.0</td>\n      <td>NaN</td>\n      <td>NaN</td>\n      <td>NaN</td>\n      <td>NaN</td>\n      <td>-1.0</td>\n      <td>NaN</td>\n      <td>NaN</td>\n      <td>0.0</td>\n      <td>4</td>\n    </tr>\n    <tr>\n      <th>383</th>\n      <td>383</td>\n      <td>40th</td>\n      <td>NaN</td>\n      <td>NaN</td>\n      <td>NaN</td>\n      <td>NaN</td>\n      <td>NaN</td>\n      <td>NaN</td>\n      <td>NaN</td>\n      <td>NaN</td>\n      <td>...</td>\n      <td>NaN</td>\n      <td>-1.0</td>\n      <td>NaN</td>\n      <td>NaN</td>\n      <td>NaN</td>\n      <td>NaN</td>\n      <td>-1.0</td>\n      <td>NaN</td>\n      <td>0.0</td>\n      <td>3</td>\n    </tr>\n    <tr>\n      <th>384</th>\n      <td>384</td>\n      <td>50th</td>\n      <td>NaN</td>\n      <td>NaN</td>\n      <td>NaN</td>\n      <td>NaN</td>\n      <td>-1.000000</td>\n      <td>NaN</td>\n      <td>NaN</td>\n      <td>NaN</td>\n      <td>...</td>\n      <td>NaN</td>\n      <td>NaN</td>\n      <td>-0.741935</td>\n      <td>NaN</td>\n      <td>NaN</td>\n      <td>NaN</td>\n      <td>NaN</td>\n      <td>-0.518489</td>\n      <td>0.0</td>\n      <td>4</td>\n    </tr>\n  </tbody>\n</table>\n<p>385 rows × 69 columns</p>\n</div>"
     },
     "metadata": {},
     "execution_count": 25
    }
   ],
   "source": [
    "df_evolucao_paciente['AGE_PERCENTIL_CODE'] = df_evolucao_paciente['AGE_PERCENTIL'].cat.codes\n",
    "df_evolucao_paciente"
   ]
  },
  {
   "cell_type": "code",
   "execution_count": 26,
   "metadata": {},
   "outputs": [
    {
     "output_type": "execute_result",
     "data": {
      "text/plain": [
       "0.0    0.722078\n",
       "1.0    0.277922\n",
       "Name: ICU, dtype: float64"
      ]
     },
     "metadata": {},
     "execution_count": 26
    }
   ],
   "source": [
    "df_evolucao_paciente['ICU'].value_counts(normalize=True)"
   ]
  },
  {
   "cell_type": "code",
   "execution_count": 27,
   "metadata": {},
   "outputs": [],
   "source": [
    "df_evolucao_paciente.drop(df_evolucao_paciente.loc[df_evolucao_paciente['ICU']==0].sample(171,random_state=5464).index,inplace=True) #171"
   ]
  },
  {
   "cell_type": "code",
   "execution_count": 28,
   "metadata": {},
   "outputs": [
    {
     "output_type": "execute_result",
     "data": {
      "text/plain": [
       "0.0    0.5\n",
       "1.0    0.5\n",
       "Name: ICU, dtype: float64"
      ]
     },
     "metadata": {},
     "execution_count": 28
    }
   ],
   "source": [
    "df_evolucao_paciente['ICU'].value_counts(normalize=True)"
   ]
  },
  {
   "cell_type": "code",
   "execution_count": 29,
   "metadata": {},
   "outputs": [],
   "source": [
    "X=df_evolucao_paciente.drop(columns=['AGE_PERCENTIL','PATIENT_VISIT_IDENTIFIER','ICU'])\n",
    "y=df_evolucao_paciente['ICU']"
   ]
  },
  {
   "cell_type": "code",
   "execution_count": 30,
   "metadata": {},
   "outputs": [
    {
     "output_type": "stream",
     "name": "stdout",
     "text": [
      "<class 'pandas.core.frame.DataFrame'>\nInt64Index: 214 entries, 2 to 383\nData columns (total 66 columns):\n #   Column                                       Non-Null Count  Dtype  \n---  ------                                       --------------  -----  \n 0   BE_VENOUS_MEAN (0-2)                         214 non-null    float64\n 1   BE_VENOUS_MEAN (2-4)                         214 non-null    float64\n 2   BE_VENOUS_MEAN (4-6)                         214 non-null    float64\n 3   BE_VENOUS_MEAN (6-12)                        214 non-null    float64\n 4   BE_VENOUS_MEAN (ABOVE_12)                    214 non-null    float64\n 5   LACTATE_MEAN (0-2)                           214 non-null    float64\n 6   LACTATE_MEAN (2-4)                           214 non-null    float64\n 7   LACTATE_MEAN (4-6)                           214 non-null    float64\n 8   LACTATE_MEAN (6-12)                          214 non-null    float64\n 9   LACTATE_MEAN (ABOVE_12)                      214 non-null    float64\n 10  RESPIRATORY_RATE_MEAN (0-2)                  214 non-null    float64\n 11  RESPIRATORY_RATE_MEAN (2-4)                  214 non-null    float64\n 12  RESPIRATORY_RATE_MEAN (4-6)                  214 non-null    float64\n 13  RESPIRATORY_RATE_MEAN (6-12)                 214 non-null    float64\n 14  RESPIRATORY_RATE_MEAN (ABOVE_12)             214 non-null    float64\n 15  BLOODPRESSURE_DIASTOLIC_DIFF (0-2)           214 non-null    float64\n 16  BLOODPRESSURE_DIASTOLIC_DIFF (2-4)           214 non-null    float64\n 17  BLOODPRESSURE_DIASTOLIC_DIFF (4-6)           214 non-null    float64\n 18  BLOODPRESSURE_DIASTOLIC_DIFF (6-12)          214 non-null    float64\n 19  BLOODPRESSURE_DIASTOLIC_DIFF (ABOVE_12)      214 non-null    float64\n 20  BLOODPRESSURE_SISTOLIC_DIFF (0-2)            214 non-null    float64\n 21  BLOODPRESSURE_SISTOLIC_DIFF (2-4)            214 non-null    float64\n 22  BLOODPRESSURE_SISTOLIC_DIFF (4-6)            214 non-null    float64\n 23  BLOODPRESSURE_SISTOLIC_DIFF (6-12)           214 non-null    float64\n 24  BLOODPRESSURE_SISTOLIC_DIFF (ABOVE_12)       214 non-null    float64\n 25  HEART_RATE_DIFF (0-2)                        214 non-null    float64\n 26  HEART_RATE_DIFF (2-4)                        214 non-null    float64\n 27  HEART_RATE_DIFF (4-6)                        214 non-null    float64\n 28  HEART_RATE_DIFF (6-12)                       214 non-null    float64\n 29  HEART_RATE_DIFF (ABOVE_12)                   214 non-null    float64\n 30  RESPIRATORY_RATE_DIFF (0-2)                  214 non-null    float64\n 31  RESPIRATORY_RATE_DIFF (2-4)                  214 non-null    float64\n 32  RESPIRATORY_RATE_DIFF (4-6)                  214 non-null    float64\n 33  RESPIRATORY_RATE_DIFF (6-12)                 214 non-null    float64\n 34  RESPIRATORY_RATE_DIFF (ABOVE_12)             214 non-null    float64\n 35  TEMPERATURE_DIFF (0-2)                       214 non-null    float64\n 36  TEMPERATURE_DIFF (2-4)                       214 non-null    float64\n 37  TEMPERATURE_DIFF (4-6)                       214 non-null    float64\n 38  TEMPERATURE_DIFF (6-12)                      214 non-null    float64\n 39  TEMPERATURE_DIFF (ABOVE_12)                  214 non-null    float64\n 40  BLOODPRESSURE_DIASTOLIC_DIFF_REL (0-2)       214 non-null    float64\n 41  BLOODPRESSURE_DIASTOLIC_DIFF_REL (2-4)       214 non-null    float64\n 42  BLOODPRESSURE_DIASTOLIC_DIFF_REL (4-6)       214 non-null    float64\n 43  BLOODPRESSURE_DIASTOLIC_DIFF_REL (6-12)      214 non-null    float64\n 44  BLOODPRESSURE_DIASTOLIC_DIFF_REL (ABOVE_12)  214 non-null    float64\n 45  BLOODPRESSURE_SISTOLIC_DIFF_REL (0-2)        214 non-null    float64\n 46  BLOODPRESSURE_SISTOLIC_DIFF_REL (2-4)        214 non-null    float64\n 47  BLOODPRESSURE_SISTOLIC_DIFF_REL (4-6)        214 non-null    float64\n 48  BLOODPRESSURE_SISTOLIC_DIFF_REL (6-12)       214 non-null    float64\n 49  BLOODPRESSURE_SISTOLIC_DIFF_REL (ABOVE_12)   214 non-null    float64\n 50  HEART_RATE_DIFF_REL (0-2)                    214 non-null    float64\n 51  HEART_RATE_DIFF_REL (2-4)                    214 non-null    float64\n 52  HEART_RATE_DIFF_REL (4-6)                    214 non-null    float64\n 53  HEART_RATE_DIFF_REL (6-12)                   214 non-null    float64\n 54  HEART_RATE_DIFF_REL (ABOVE_12)               214 non-null    float64\n 55  RESPIRATORY_RATE_DIFF_REL (0-2)              214 non-null    float64\n 56  RESPIRATORY_RATE_DIFF_REL (2-4)              214 non-null    float64\n 57  RESPIRATORY_RATE_DIFF_REL (4-6)              214 non-null    float64\n 58  RESPIRATORY_RATE_DIFF_REL (6-12)             214 non-null    float64\n 59  RESPIRATORY_RATE_DIFF_REL (ABOVE_12)         214 non-null    float64\n 60  TEMPERATURE_DIFF_REL (0-2)                   214 non-null    float64\n 61  TEMPERATURE_DIFF_REL (2-4)                   214 non-null    float64\n 62  TEMPERATURE_DIFF_REL (4-6)                   214 non-null    float64\n 63  TEMPERATURE_DIFF_REL (6-12)                  214 non-null    float64\n 64  TEMPERATURE_DIFF_REL (ABOVE_12)              214 non-null    float64\n 65  AGE_PERCENTIL_CODE                           214 non-null    int8   \ndtypes: float64(65), int8(1)\nmemory usage: 110.6 KB\n"
     ]
    }
   ],
   "source": [
    "X.fillna(999,inplace=True)\n",
    "X.info()"
   ]
  },
  {
   "cell_type": "code",
   "execution_count": 31,
   "metadata": {},
   "outputs": [],
   "source": [
    "from sklearn.model_selection import train_test_split"
   ]
  },
  {
   "cell_type": "code",
   "execution_count": 32,
   "metadata": {},
   "outputs": [],
   "source": [
    "X_train, X_test, y_train, y_test = train_test_split(X, y, random_state=546,test_size=0.2)"
   ]
  },
  {
   "cell_type": "code",
   "execution_count": 33,
   "metadata": {},
   "outputs": [
    {
     "output_type": "stream",
     "name": "stdout",
     "text": [
      "X_train: 171\nX_test: 43\ny_train: 171\ny_test: 43\n"
     ]
    }
   ],
   "source": [
    "print(f'X_train: {len(X_train)}')\n",
    "print(f'X_test: {len(X_test)}')\n",
    "print(f'y_train: {len(y_train)}')\n",
    "print(f'y_test: {len(y_test)}')"
   ]
  },
  {
   "cell_type": "code",
   "execution_count": 34,
   "metadata": {},
   "outputs": [
    {
     "output_type": "stream",
     "name": "stdout",
     "text": [
      "### y_train ###\n1.0    0.508772\n0.0    0.491228\nName: ICU, dtype: float64\n\n### y_test ###\n0.0    0.534884\n1.0    0.465116\nName: ICU, dtype: float64\n"
     ]
    }
   ],
   "source": [
    "print('### y_train ###')\n",
    "print(y_train.value_counts(normalize=True))\n",
    "print('\\n### y_test ###')\n",
    "print(y_test.value_counts(normalize=True))"
   ]
  },
  {
   "cell_type": "code",
   "execution_count": 35,
   "metadata": {},
   "outputs": [],
   "source": [
    "from sklearn.neural_network import MLPClassifier"
   ]
  },
  {
   "cell_type": "code",
   "execution_count": 68,
   "metadata": {},
   "outputs": [],
   "source": [
    "clf = MLPClassifier(activation='tanh',\n",
    "    solver='adam', \n",
    "hidden_layer_sizes=(X_train.shape[1], int(X_train.shape[1]*0.65),int(X_train.shape[1]*0.45),int(X_train.shape[1]*0.25)), \n",
    "random_state=5465,verbose=True,max_iter=15,validation_fraction=0.7,learning_rate='adaptive'\n",
    ")"
   ]
  },
  {
   "cell_type": "code",
   "execution_count": 69,
   "metadata": {},
   "outputs": [
    {
     "output_type": "stream",
     "name": "stdout",
     "text": [
      "Iteration 1, loss = 0.70998099\n",
      "Iteration 2, loss = 0.67283434\n",
      "Iteration 3, loss = 0.64771055\n",
      "Iteration 4, loss = 0.63535248\n",
      "Iteration 5, loss = 0.62838342\n",
      "Iteration 6, loss = 0.62074510\n",
      "Iteration 7, loss = 0.61172226\n",
      "Iteration 8, loss = 0.60509556\n",
      "Iteration 9, loss = 0.60758389\n",
      "Iteration 10, loss = 0.58925770\n",
      "Iteration 11, loss = 0.57957180\n",
      "Iteration 12, loss = 0.57698817\n",
      "Iteration 13, loss = 0.57096375\n",
      "Iteration 14, loss = 0.56804405\n",
      "Iteration 15, loss = 0.56468182\n",
      "C:\\Users\\bruno\\anaconda3\\envs\\study-ml\\lib\\site-packages\\sklearn\\neural_network\\_multilayer_perceptron.py:614: ConvergenceWarning: Stochastic Optimizer: Maximum iterations (15) reached and the optimization hasn't converged yet.\n",
      "  warnings.warn(\n"
     ]
    },
    {
     "output_type": "execute_result",
     "data": {
      "text/plain": [
       "MLPClassifier(activation='tanh', hidden_layer_sizes=(66, 42, 29, 16),\n",
       "              learning_rate='adaptive', max_iter=15, random_state=5465,\n",
       "              validation_fraction=0.7, verbose=True)"
      ]
     },
     "metadata": {},
     "execution_count": 69
    }
   ],
   "source": [
    "clf.fit(X_train, y_train)"
   ]
  },
  {
   "cell_type": "code",
   "execution_count": 70,
   "metadata": {},
   "outputs": [
    {
     "output_type": "display_data",
     "data": {
      "text/plain": "<Figure size 600x400 with 1 Axes>",
      "image/svg+xml": "<?xml version=\"1.0\" encoding=\"utf-8\" standalone=\"no\"?>\r\n<!DOCTYPE svg PUBLIC \"-//W3C//DTD SVG 1.1//EN\"\r\n  \"http://www.w3.org/Graphics/SVG/1.1/DTD/svg11.dtd\">\r\n<!-- Created with matplotlib (https://matplotlib.org/) -->\r\n<svg height=\"260.69pt\" version=\"1.1\" viewBox=\"0 0 381.755 260.69\" width=\"381.755pt\" xmlns=\"http://www.w3.org/2000/svg\" xmlns:xlink=\"http://www.w3.org/1999/xlink\">\r\n <metadata>\r\n  <rdf:RDF xmlns:cc=\"http://creativecommons.org/ns#\" xmlns:dc=\"http://purl.org/dc/elements/1.1/\" xmlns:rdf=\"http://www.w3.org/1999/02/22-rdf-syntax-ns#\">\r\n   <cc:Work>\r\n    <dc:type rdf:resource=\"http://purl.org/dc/dcmitype/StillImage\"/>\r\n    <dc:date>2021-04-14T23:05:28.468356</dc:date>\r\n    <dc:format>image/svg+xml</dc:format>\r\n    <dc:creator>\r\n     <cc:Agent>\r\n      <dc:title>Matplotlib v3.3.4, https://matplotlib.org/</dc:title>\r\n     </cc:Agent>\r\n    </dc:creator>\r\n   </cc:Work>\r\n  </rdf:RDF>\r\n </metadata>\r\n <defs>\r\n  <style type=\"text/css\">*{stroke-linecap:butt;stroke-linejoin:round;}</style>\r\n </defs>\r\n <g id=\"figure_1\">\r\n  <g id=\"patch_1\">\r\n   <path d=\"M 0 260.69 \r\nL 381.755 260.69 \r\nL 381.755 0 \r\nL 0 0 \r\nz\r\n\" style=\"fill:#ffffff;\"/>\r\n  </g>\r\n  <g id=\"axes_1\">\r\n   <g id=\"patch_2\">\r\n    <path d=\"M 39.755 224.64 \r\nL 374.555 224.64 \r\nL 374.555 7.2 \r\nL 39.755 7.2 \r\nz\r\n\" style=\"fill:#ffffff;\"/>\r\n   </g>\r\n   <g id=\"matplotlib.axis_1\">\r\n    <g id=\"xtick_1\">\r\n     <g id=\"line2d_1\">\r\n      <defs>\r\n       <path d=\"M 0 0 \r\nL 0 3.5 \r\n\" id=\"m8cb43919e9\" style=\"stroke:#58544f;stroke-width:0.8;\"/>\r\n      </defs>\r\n      <g>\r\n       <use style=\"fill:#58544f;stroke:#58544f;stroke-width:0.8;\" x=\"54.973182\" xlink:href=\"#m8cb43919e9\" y=\"224.64\"/>\r\n      </g>\r\n     </g>\r\n     <g id=\"text_1\">\r\n      <!-- 0.0 -->\r\n      <g style=\"fill:#58544f;\" transform=\"translate(49.308182 237.64)scale(0.08 -0.08)\">\r\n       <defs>\r\n        <path d=\"M 51.65625 29.9375 \r\nQ 51.65625 14.59375 45.921875 6.796875 \r\nQ 40.1875 -0.984375 28.46875 -0.984375 \r\nQ 16.9375 -0.984375 11.109375 6.609375 \r\nQ 5.28125 14.203125 5.125 29.109375 \r\nL 5.125 41.40625 \r\nQ 5.125 56.734375 10.859375 64.40625 \r\nQ 16.609375 72.078125 28.375 72.078125 \r\nQ 40.046875 72.078125 45.78125 64.59375 \r\nQ 51.515625 57.125 51.65625 42.234375 \r\nz\r\nM 39.796875 43.21875 \r\nQ 39.796875 53.21875 37.0625 57.875 \r\nQ 34.328125 62.546875 28.375 62.546875 \r\nQ 22.5625 62.546875 19.828125 58.125 \r\nQ 17.09375 53.71875 16.9375 44.34375 \r\nL 16.9375 28.21875 \r\nQ 16.9375 18.265625 19.71875 13.375 \r\nQ 22.515625 8.5 28.46875 8.5 \r\nQ 34.1875 8.5 36.921875 13.015625 \r\nQ 39.65625 17.53125 39.796875 27.15625 \r\nz\r\n\" id=\"Roboto-Medium-48\"/>\r\n        <path d=\"M 13.484375 12.5 \r\nQ 16.796875 12.5 18.59375 10.609375 \r\nQ 20.40625 8.734375 20.40625 5.90625 \r\nQ 20.40625 3.125 18.59375 1.296875 \r\nQ 16.796875 -0.53125 13.484375 -0.53125 \r\nQ 10.296875 -0.53125 8.4375 1.265625 \r\nQ 6.59375 3.078125 6.59375 5.90625 \r\nQ 6.59375 8.734375 8.390625 10.609375 \r\nQ 10.203125 12.5 13.484375 12.5 \r\nz\r\n\" id=\"Roboto-Medium-46\"/>\r\n       </defs>\r\n       <use xlink:href=\"#Roboto-Medium-48\"/>\r\n       <use x=\"56.835938\" xlink:href=\"#Roboto-Medium-46\"/>\r\n       <use x=\"84.765625\" xlink:href=\"#Roboto-Medium-48\"/>\r\n      </g>\r\n     </g>\r\n    </g>\r\n    <g id=\"xtick_2\">\r\n     <g id=\"line2d_2\">\r\n      <g>\r\n       <use style=\"fill:#58544f;stroke:#58544f;stroke-width:0.8;\" x=\"115.845909\" xlink:href=\"#m8cb43919e9\" y=\"224.64\"/>\r\n      </g>\r\n     </g>\r\n     <g id=\"text_2\">\r\n      <!-- 0.2 -->\r\n      <g style=\"fill:#58544f;\" transform=\"translate(110.180909 237.64)scale(0.08 -0.08)\">\r\n       <defs>\r\n        <path d=\"M 53.125 0 \r\nL 5.328125 0 \r\nL 5.328125 8.15625 \r\nL 29 33.984375 \r\nQ 34.125 39.703125 36.296875 43.53125 \r\nQ 38.484375 47.359375 38.484375 51.21875 \r\nQ 38.484375 56.296875 35.625 59.421875 \r\nQ 32.765625 62.546875 27.9375 62.546875 \r\nQ 22.171875 62.546875 19 59.03125 \r\nQ 15.828125 55.515625 15.828125 49.421875 \r\nL 3.953125 49.421875 \r\nQ 3.953125 55.90625 6.90625 61.109375 \r\nQ 9.859375 66.3125 15.34375 69.1875 \r\nQ 20.84375 72.078125 28.03125 72.078125 \r\nQ 38.375 72.078125 44.359375 66.875 \r\nQ 50.34375 61.671875 50.34375 52.484375 \r\nQ 50.34375 47.171875 47.34375 41.328125 \r\nQ 44.34375 35.5 37.5 28.078125 \r\nL 20.125 9.46875 \r\nL 53.125 9.46875 \r\nz\r\n\" id=\"Roboto-Medium-50\"/>\r\n       </defs>\r\n       <use xlink:href=\"#Roboto-Medium-48\"/>\r\n       <use x=\"56.835938\" xlink:href=\"#Roboto-Medium-46\"/>\r\n       <use x=\"84.765625\" xlink:href=\"#Roboto-Medium-50\"/>\r\n      </g>\r\n     </g>\r\n    </g>\r\n    <g id=\"xtick_3\">\r\n     <g id=\"line2d_3\">\r\n      <g>\r\n       <use style=\"fill:#58544f;stroke:#58544f;stroke-width:0.8;\" x=\"176.718636\" xlink:href=\"#m8cb43919e9\" y=\"224.64\"/>\r\n      </g>\r\n     </g>\r\n     <g id=\"text_3\">\r\n      <!-- 0.4 -->\r\n      <g style=\"fill:#58544f;\" transform=\"translate(171.053636 237.64)scale(0.08 -0.08)\">\r\n       <defs>\r\n        <path d=\"M 45.453125 25.34375 \r\nL 54.296875 25.34375 \r\nL 54.296875 15.828125 \r\nL 45.453125 15.828125 \r\nL 45.453125 0 \r\nL 33.59375 0 \r\nL 33.59375 15.828125 \r\nL 2.875 15.828125 \r\nL 2.546875 23.046875 \r\nL 33.203125 71.09375 \r\nL 45.453125 71.09375 \r\nz\r\nM 14.984375 25.34375 \r\nL 33.59375 25.34375 \r\nL 33.59375 55.03125 \r\nL 32.71875 53.46875 \r\nz\r\n\" id=\"Roboto-Medium-52\"/>\r\n       </defs>\r\n       <use xlink:href=\"#Roboto-Medium-48\"/>\r\n       <use x=\"56.835938\" xlink:href=\"#Roboto-Medium-46\"/>\r\n       <use x=\"84.765625\" xlink:href=\"#Roboto-Medium-52\"/>\r\n      </g>\r\n     </g>\r\n    </g>\r\n    <g id=\"xtick_4\">\r\n     <g id=\"line2d_4\">\r\n      <g>\r\n       <use style=\"fill:#58544f;stroke:#58544f;stroke-width:0.8;\" x=\"237.591364\" xlink:href=\"#m8cb43919e9\" y=\"224.64\"/>\r\n      </g>\r\n     </g>\r\n     <g id=\"text_4\">\r\n      <!-- 0.6 -->\r\n      <g style=\"fill:#58544f;\" transform=\"translate(231.926364 237.64)scale(0.08 -0.08)\">\r\n       <defs>\r\n        <path d=\"M 42.234375 71.4375 \r\nL 42.234375 61.625 \r\nL 40.765625 61.625 \r\nQ 30.8125 61.46875 24.84375 56.140625 \r\nQ 18.890625 50.828125 17.78125 41.0625 \r\nQ 23.484375 47.078125 32.375 47.078125 \r\nQ 41.796875 47.078125 47.234375 40.4375 \r\nQ 52.6875 33.796875 52.6875 23.296875 \r\nQ 52.6875 12.453125 46.3125 5.734375 \r\nQ 39.9375 -0.984375 29.59375 -0.984375 \r\nQ 18.953125 -0.984375 12.328125 6.875 \r\nQ 5.71875 14.75 5.71875 27.484375 \r\nL 5.71875 31.546875 \r\nQ 5.71875 50.25 14.8125 60.84375 \r\nQ 23.921875 71.4375 41.015625 71.4375 \r\nz\r\nM 29.5 37.5 \r\nQ 25.59375 37.5 22.34375 35.296875 \r\nQ 19.09375 33.109375 17.578125 29.4375 \r\nL 17.578125 25.828125 \r\nQ 17.578125 17.921875 20.890625 13.25 \r\nQ 24.21875 8.59375 29.484375 8.59375 \r\nQ 34.765625 8.59375 37.84375 12.546875 \r\nQ 40.921875 16.5 40.921875 22.9375 \r\nQ 40.921875 29.390625 37.796875 33.4375 \r\nQ 34.671875 37.5 29.5 37.5 \r\nz\r\n\" id=\"Roboto-Medium-54\"/>\r\n       </defs>\r\n       <use xlink:href=\"#Roboto-Medium-48\"/>\r\n       <use x=\"56.835938\" xlink:href=\"#Roboto-Medium-46\"/>\r\n       <use x=\"84.765625\" xlink:href=\"#Roboto-Medium-54\"/>\r\n      </g>\r\n     </g>\r\n    </g>\r\n    <g id=\"xtick_5\">\r\n     <g id=\"line2d_5\">\r\n      <g>\r\n       <use style=\"fill:#58544f;stroke:#58544f;stroke-width:0.8;\" x=\"298.464091\" xlink:href=\"#m8cb43919e9\" y=\"224.64\"/>\r\n      </g>\r\n     </g>\r\n     <g id=\"text_5\">\r\n      <!-- 0.8 -->\r\n      <g style=\"fill:#58544f;\" transform=\"translate(292.799091 237.64)scale(0.08 -0.08)\">\r\n       <defs>\r\n        <path d=\"M 50.09375 52.34375 \r\nQ 50.09375 47.125 47.40625 43.046875 \r\nQ 44.734375 38.96875 40.09375 36.625 \r\nQ 45.65625 34.03125 48.65625 29.53125 \r\nQ 51.65625 25.046875 51.65625 19.390625 \r\nQ 51.65625 10.015625 45.3125 4.515625 \r\nQ 38.96875 -0.984375 28.421875 -0.984375 \r\nQ 17.828125 -0.984375 11.453125 4.53125 \r\nQ 5.078125 10.0625 5.078125 19.390625 \r\nQ 5.078125 25.09375 8.109375 29.640625 \r\nQ 11.140625 34.1875 16.609375 36.625 \r\nQ 12.015625 38.96875 9.34375 43.046875 \r\nQ 6.6875 47.125 6.6875 52.34375 \r\nQ 6.6875 61.421875 12.546875 66.75 \r\nQ 18.40625 72.078125 28.375 72.078125 \r\nQ 38.375 72.078125 44.234375 66.75 \r\nQ 50.09375 61.421875 50.09375 52.34375 \r\nz\r\nM 39.796875 19.96875 \r\nQ 39.796875 25.25 36.640625 28.484375 \r\nQ 33.5 31.734375 28.3125 31.734375 \r\nQ 23.140625 31.734375 20.03125 28.515625 \r\nQ 16.9375 25.296875 16.9375 19.96875 \r\nQ 16.9375 14.75 19.984375 11.625 \r\nQ 23.046875 8.5 28.421875 8.5 \r\nQ 33.796875 8.5 36.796875 11.515625 \r\nQ 39.796875 14.546875 39.796875 19.96875 \r\nz\r\nM 38.28125 51.90625 \r\nQ 38.28125 56.546875 35.59375 59.546875 \r\nQ 32.90625 62.546875 28.359375 62.546875 \r\nQ 23.828125 62.546875 21.1875 59.6875 \r\nQ 18.5625 56.84375 18.5625 51.90625 \r\nQ 18.5625 47.015625 21.21875 44.140625 \r\nQ 23.875 41.265625 28.40625 41.265625 \r\nQ 32.953125 41.265625 35.609375 44.140625 \r\nQ 38.28125 47.015625 38.28125 51.90625 \r\nz\r\n\" id=\"Roboto-Medium-56\"/>\r\n       </defs>\r\n       <use xlink:href=\"#Roboto-Medium-48\"/>\r\n       <use x=\"56.835938\" xlink:href=\"#Roboto-Medium-46\"/>\r\n       <use x=\"84.765625\" xlink:href=\"#Roboto-Medium-56\"/>\r\n      </g>\r\n     </g>\r\n    </g>\r\n    <g id=\"xtick_6\">\r\n     <g id=\"line2d_6\">\r\n      <g>\r\n       <use style=\"fill:#58544f;stroke:#58544f;stroke-width:0.8;\" x=\"359.336818\" xlink:href=\"#m8cb43919e9\" y=\"224.64\"/>\r\n      </g>\r\n     </g>\r\n     <g id=\"text_6\">\r\n      <!-- 1.0 -->\r\n      <g style=\"fill:#58544f;\" transform=\"translate(353.671818 237.64)scale(0.08 -0.08)\">\r\n       <defs>\r\n        <path d=\"M 37.453125 0 \r\nL 25.640625 0 \r\nL 25.640625 57.078125 \r\nL 8.203125 51.125 \r\nL 8.203125 61.140625 \r\nL 35.9375 71.34375 \r\nL 37.453125 71.34375 \r\nz\r\n\" id=\"Roboto-Medium-49\"/>\r\n       </defs>\r\n       <use xlink:href=\"#Roboto-Medium-49\"/>\r\n       <use x=\"56.835938\" xlink:href=\"#Roboto-Medium-46\"/>\r\n       <use x=\"84.765625\" xlink:href=\"#Roboto-Medium-48\"/>\r\n      </g>\r\n     </g>\r\n    </g>\r\n    <g id=\"text_7\">\r\n     <!-- False Positive Rate (Positive label: 1.0) -->\r\n     <g style=\"fill:#58544f;\" transform=\"translate(120.105781 251.229062)scale(0.1 -0.1)\">\r\n      <defs>\r\n       <path d=\"M 48.1875 30.125 \r\nL 19.578125 30.125 \r\nL 19.578125 0 \r\nL 7.234375 0 \r\nL 7.234375 71.09375 \r\nL 52.390625 71.09375 \r\nL 52.390625 61.140625 \r\nL 19.578125 61.140625 \r\nL 19.578125 39.984375 \r\nL 48.1875 39.984375 \r\nz\r\n\" id=\"Roboto-Medium-70\"/>\r\n       <path d=\"M 37.640625 0 \r\nQ 36.859375 1.515625 36.28125 4.9375 \r\nQ 30.609375 -0.984375 22.40625 -0.984375 \r\nQ 14.453125 -0.984375 9.421875 3.5625 \r\nQ 4.390625 8.109375 4.390625 14.796875 \r\nQ 4.390625 23.25 10.65625 27.765625 \r\nQ 16.9375 32.28125 28.609375 32.28125 \r\nL 35.890625 32.28125 \r\nL 35.890625 35.75 \r\nQ 35.890625 39.84375 33.59375 42.3125 \r\nQ 31.296875 44.78125 26.609375 44.78125 \r\nQ 22.5625 44.78125 19.96875 42.75 \r\nQ 17.390625 40.71875 17.390625 37.59375 \r\nL 5.515625 37.59375 \r\nQ 5.515625 41.9375 8.390625 45.71875 \r\nQ 11.28125 49.515625 16.234375 51.65625 \r\nQ 21.1875 53.8125 27.296875 53.8125 \r\nQ 36.578125 53.8125 42.09375 49.140625 \r\nQ 47.609375 44.484375 47.75 36.03125 \r\nL 47.75 12.203125 \r\nQ 47.75 5.078125 49.75 0.828125 \r\nL 49.75 0 \r\nz\r\nM 24.609375 8.546875 \r\nQ 28.125 8.546875 31.21875 10.25 \r\nQ 34.328125 11.96875 35.890625 14.84375 \r\nL 35.890625 24.8125 \r\nL 29.5 24.8125 \r\nQ 22.90625 24.8125 19.578125 22.515625 \r\nQ 16.265625 20.21875 16.265625 16.015625 \r\nQ 16.265625 12.59375 18.53125 10.5625 \r\nQ 20.796875 8.546875 24.609375 8.546875 \r\nz\r\n\" id=\"Roboto-Medium-97\"/>\r\n       <path d=\"M 18.703125 0 \r\nL 6.84375 0 \r\nL 6.84375 75 \r\nL 18.703125 75 \r\nz\r\n\" id=\"Roboto-Medium-108\"/>\r\n       <path d=\"M 35.6875 14.359375 \r\nQ 35.6875 17.53125 33.078125 19.1875 \r\nQ 30.46875 20.84375 24.40625 22.109375 \r\nQ 18.359375 23.390625 14.3125 25.34375 \r\nQ 5.421875 29.640625 5.421875 37.796875 \r\nQ 5.421875 44.625 11.171875 49.21875 \r\nQ 16.9375 53.8125 25.828125 53.8125 \r\nQ 35.296875 53.8125 41.125 49.125 \r\nQ 46.96875 44.4375 46.96875 36.96875 \r\nL 35.109375 36.96875 \r\nQ 35.109375 40.375 32.5625 42.640625 \r\nQ 30.03125 44.921875 25.828125 44.921875 \r\nQ 21.921875 44.921875 19.453125 43.109375 \r\nQ 17 41.3125 17 38.28125 \r\nQ 17 35.546875 19.28125 34.03125 \r\nQ 21.578125 32.515625 28.5625 30.96875 \r\nQ 35.546875 29.4375 39.515625 27.3125 \r\nQ 43.5 25.203125 45.421875 22.21875 \r\nQ 47.359375 19.234375 47.359375 14.984375 \r\nQ 47.359375 7.859375 41.453125 3.4375 \r\nQ 35.546875 -0.984375 25.984375 -0.984375 \r\nQ 19.484375 -0.984375 14.40625 1.359375 \r\nQ 9.328125 3.71875 6.484375 7.8125 \r\nQ 3.65625 11.921875 3.65625 16.65625 \r\nL 15.1875 16.65625 \r\nQ 15.4375 12.453125 18.359375 10.171875 \r\nQ 21.296875 7.90625 26.125 7.90625 \r\nQ 30.8125 7.90625 33.25 9.6875 \r\nQ 35.6875 11.46875 35.6875 14.359375 \r\nz\r\n\" id=\"Roboto-Medium-115\"/>\r\n       <path d=\"M 29.34375 -0.984375 \r\nQ 18.0625 -0.984375 11.046875 6.125 \r\nQ 4.046875 13.234375 4.046875 25.046875 \r\nL 4.046875 26.515625 \r\nQ 4.046875 34.421875 7.09375 40.640625 \r\nQ 10.15625 46.875 15.671875 50.34375 \r\nQ 21.1875 53.8125 27.984375 53.8125 \r\nQ 38.765625 53.8125 44.640625 46.921875 \r\nQ 50.53125 40.046875 50.53125 27.4375 \r\nL 50.53125 22.65625 \r\nL 16.015625 22.65625 \r\nQ 16.546875 16.109375 20.375 12.296875 \r\nQ 24.21875 8.5 30.03125 8.5 \r\nQ 38.1875 8.5 43.3125 15.09375 \r\nL 49.703125 8.984375 \r\nQ 46.53125 4.25 41.234375 1.625 \r\nQ 35.9375 -0.984375 29.34375 -0.984375 \r\nz\r\nM 27.9375 44.28125 \r\nQ 23.046875 44.28125 20.046875 40.859375 \r\nQ 17.046875 37.453125 16.21875 31.34375 \r\nL 38.8125 31.34375 \r\nL 38.8125 32.234375 \r\nQ 38.421875 38.1875 35.640625 41.234375 \r\nQ 32.859375 44.28125 27.9375 44.28125 \r\nz\r\n\" id=\"Roboto-Medium-101\"/>\r\n       <path id=\"Roboto-Medium-32\"/>\r\n       <path d=\"M 19.578125 26.421875 \r\nL 19.578125 0 \r\nL 7.234375 0 \r\nL 7.234375 71.09375 \r\nL 34.421875 71.09375 \r\nQ 46.34375 71.09375 53.34375 64.890625 \r\nQ 60.359375 58.6875 60.359375 48.484375 \r\nQ 60.359375 38.03125 53.484375 32.21875 \r\nQ 46.625 26.421875 34.28125 26.421875 \r\nz\r\nM 19.578125 36.328125 \r\nL 34.421875 36.328125 \r\nQ 41.015625 36.328125 44.484375 39.421875 \r\nQ 47.953125 42.53125 47.953125 48.390625 \r\nQ 47.953125 54.15625 44.4375 57.59375 \r\nQ 40.921875 61.03125 34.765625 61.140625 \r\nL 19.578125 61.140625 \r\nz\r\n\" id=\"Roboto-Medium-80\"/>\r\n       <path d=\"M 3.859375 26.90625 \r\nQ 3.859375 34.671875 6.9375 40.890625 \r\nQ 10.015625 47.125 15.578125 50.46875 \r\nQ 21.140625 53.8125 28.375 53.8125 \r\nQ 39.0625 53.8125 45.71875 46.921875 \r\nQ 52.390625 40.046875 52.9375 28.65625 \r\nL 52.984375 25.875 \r\nQ 52.984375 18.0625 49.96875 11.90625 \r\nQ 46.96875 5.765625 41.375 2.390625 \r\nQ 35.796875 -0.984375 28.46875 -0.984375 \r\nQ 17.28125 -0.984375 10.5625 6.46875 \r\nQ 3.859375 13.921875 3.859375 26.3125 \r\nz\r\nM 15.71875 25.875 \r\nQ 15.71875 17.71875 19.09375 13.109375 \r\nQ 22.46875 8.5 28.46875 8.5 \r\nQ 34.46875 8.5 37.8125 13.1875 \r\nQ 41.15625 17.875 41.15625 26.90625 \r\nQ 41.15625 34.90625 37.71875 39.59375 \r\nQ 34.28125 44.28125 28.375 44.28125 \r\nQ 22.5625 44.28125 19.140625 39.671875 \r\nQ 15.71875 35.0625 15.71875 25.875 \r\nz\r\n\" id=\"Roboto-Medium-111\"/>\r\n       <path d=\"M 18.703125 0 \r\nL 6.84375 0 \r\nL 6.84375 52.828125 \r\nL 18.703125 52.828125 \r\nz\r\nM 6.109375 66.546875 \r\nQ 6.109375 69.28125 7.84375 71.09375 \r\nQ 9.578125 72.90625 12.796875 72.90625 \r\nQ 16.015625 72.90625 17.765625 71.09375 \r\nQ 19.53125 69.28125 19.53125 66.546875 \r\nQ 19.53125 63.875 17.765625 62.078125 \r\nQ 16.015625 60.296875 12.796875 60.296875 \r\nQ 9.578125 60.296875 7.84375 62.078125 \r\nQ 6.109375 63.875 6.109375 66.546875 \r\nz\r\n\" id=\"Roboto-Medium-105\"/>\r\n       <path d=\"M 20.953125 65.671875 \r\nL 20.953125 52.828125 \r\nL 30.28125 52.828125 \r\nL 30.28125 44.046875 \r\nL 20.953125 44.046875 \r\nL 20.953125 14.546875 \r\nQ 20.953125 11.53125 22.140625 10.1875 \r\nQ 23.34375 8.84375 26.421875 8.84375 \r\nQ 28.46875 8.84375 30.5625 9.328125 \r\nL 30.5625 0.140625 \r\nQ 26.515625 -0.984375 22.75 -0.984375 \r\nQ 9.078125 -0.984375 9.078125 14.109375 \r\nL 9.078125 44.046875 \r\nL 0.390625 44.046875 \r\nL 0.390625 52.828125 \r\nL 9.078125 52.828125 \r\nL 9.078125 65.671875 \r\nz\r\n\" id=\"Roboto-Medium-116\"/>\r\n       <path d=\"M 24.703125 15.046875 \r\nL 35.890625 52.828125 \r\nL 48.140625 52.828125 \r\nL 29.828125 0 \r\nL 19.53125 0 \r\nL 1.078125 52.828125 \r\nL 13.375 52.828125 \r\nz\r\n\" id=\"Roboto-Medium-118\"/>\r\n       <path d=\"M 33.34375 27.390625 \r\nL 19.578125 27.390625 \r\nL 19.578125 0 \r\nL 7.234375 0 \r\nL 7.234375 71.09375 \r\nL 32.234375 71.09375 \r\nQ 44.53125 71.09375 51.21875 65.578125 \r\nQ 57.90625 60.0625 57.90625 49.609375 \r\nQ 57.90625 42.484375 54.46875 37.671875 \r\nQ 51.03125 32.859375 44.875 30.28125 \r\nL 60.84375 0.640625 \r\nL 60.84375 0 \r\nL 47.609375 0 \r\nz\r\nM 19.578125 37.3125 \r\nL 32.28125 37.3125 \r\nQ 38.53125 37.3125 42.046875 40.453125 \r\nQ 45.5625 43.609375 45.5625 49.078125 \r\nQ 45.5625 54.78125 42.3125 57.90625 \r\nQ 39.0625 61.03125 32.625 61.140625 \r\nL 19.578125 61.140625 \r\nz\r\n\" id=\"Roboto-Medium-82\"/>\r\n       <path d=\"M 6.25 28.90625 \r\nQ 6.25 40.1875 9.28125 50.3125 \r\nQ 12.3125 60.453125 18.171875 68.4375 \r\nQ 24.03125 76.421875 30.5625 79.640625 \r\nL 32.90625 72.703125 \r\nQ 26.03125 67.484375 21.75 56.765625 \r\nQ 17.484375 46.046875 17.09375 32.234375 \r\nL 17.046875 28.03125 \r\nQ 17.046875 13.234375 21.21875 1.625 \r\nQ 25.390625 -9.96875 32.90625 -16.015625 \r\nL 30.5625 -22.609375 \r\nQ 24.03125 -19.390625 18.140625 -11.359375 \r\nQ 12.25 -3.328125 9.25 6.75 \r\nQ 6.25 16.84375 6.25 28.90625 \r\nz\r\n\" id=\"Roboto-Medium-40\"/>\r\n       <path d=\"M 52.4375 25.875 \r\nQ 52.4375 13.578125 46.9375 6.296875 \r\nQ 41.453125 -0.984375 31.84375 -0.984375 \r\nQ 22.5625 -0.984375 17.390625 5.71875 \r\nL 16.796875 0 \r\nL 6.0625 0 \r\nL 6.0625 75 \r\nL 17.921875 75 \r\nL 17.921875 47.75 \r\nQ 23.046875 53.8125 31.734375 53.8125 \r\nQ 41.40625 53.8125 46.921875 46.625 \r\nQ 52.4375 39.453125 52.4375 26.5625 \r\nz\r\nM 40.578125 26.90625 \r\nQ 40.578125 35.5 37.546875 39.796875 \r\nQ 34.515625 44.09375 28.765625 44.09375 \r\nQ 21.046875 44.09375 17.921875 37.359375 \r\nL 17.921875 15.578125 \r\nQ 21.09375 8.6875 28.859375 8.6875 \r\nQ 34.421875 8.6875 37.453125 12.84375 \r\nQ 40.484375 17 40.578125 25.390625 \r\nz\r\n\" id=\"Roboto-Medium-98\"/>\r\n       <path d=\"M 13.234375 12.5 \r\nQ 16.546875 12.5 18.359375 10.609375 \r\nQ 20.171875 8.734375 20.171875 5.90625 \r\nQ 20.171875 3.125 18.359375 1.296875 \r\nQ 16.546875 -0.53125 13.234375 -0.53125 \r\nQ 10.0625 -0.53125 8.203125 1.265625 \r\nQ 6.34375 3.078125 6.34375 5.90625 \r\nQ 6.34375 8.734375 8.15625 10.609375 \r\nQ 9.96875 12.5 13.234375 12.5 \r\nz\r\nM 13.234375 53.953125 \r\nQ 16.546875 53.953125 18.359375 52.0625 \r\nQ 20.171875 50.1875 20.171875 47.359375 \r\nQ 20.171875 44.578125 18.359375 42.75 \r\nQ 16.546875 40.921875 13.234375 40.921875 \r\nQ 10.0625 40.921875 8.203125 42.71875 \r\nQ 6.34375 44.53125 6.34375 47.359375 \r\nQ 6.34375 50.1875 8.15625 52.0625 \r\nQ 9.96875 53.953125 13.234375 53.953125 \r\nz\r\n\" id=\"Roboto-Medium-58\"/>\r\n       <path d=\"M 28.953125 28.125 \r\nQ 28.953125 17.28125 25.96875 7.203125 \r\nQ 23 -2.875 16.9375 -11.15625 \r\nQ 10.890625 -19.4375 4.296875 -22.609375 \r\nL 1.953125 -16.015625 \r\nQ 9.28125 -10.359375 13.546875 1.28125 \r\nQ 17.828125 12.9375 17.828125 27.875 \r\nL 17.828125 29 \r\nQ 17.828125 42.578125 14.109375 53.734375 \r\nQ 10.40625 64.890625 3.46875 71.625 \r\nL 1.953125 73 \r\nL 4.296875 79.640625 \r\nQ 10.546875 76.609375 16.40625 68.890625 \r\nQ 22.265625 61.1875 25.390625 51.640625 \r\nQ 28.515625 42.09375 28.90625 31.9375 \r\nz\r\n\" id=\"Roboto-Medium-41\"/>\r\n      </defs>\r\n      <use xlink:href=\"#Roboto-Medium-70\"/>\r\n      <use x=\"54.931641\" xlink:href=\"#Roboto-Medium-97\"/>\r\n      <use x=\"109.033203\" xlink:href=\"#Roboto-Medium-108\"/>\r\n      <use x=\"134.570312\" xlink:href=\"#Roboto-Medium-115\"/>\r\n      <use x=\"186.181641\" xlink:href=\"#Roboto-Medium-101\"/>\r\n      <use x=\"239.84375\" xlink:href=\"#Roboto-Medium-32\"/>\r\n      <use x=\"264.746094\" xlink:href=\"#Roboto-Medium-80\"/>\r\n      <use x=\"328.662109\" xlink:href=\"#Roboto-Medium-111\"/>\r\n      <use x=\"385.595703\" xlink:href=\"#Roboto-Medium-115\"/>\r\n      <use x=\"437.207031\" xlink:href=\"#Roboto-Medium-105\"/>\r\n      <use x=\"462.744141\" xlink:href=\"#Roboto-Medium-116\"/>\r\n      <use x=\"495.996094\" xlink:href=\"#Roboto-Medium-105\"/>\r\n      <use x=\"521.533203\" xlink:href=\"#Roboto-Medium-118\"/>\r\n      <use x=\"570.996094\" xlink:href=\"#Roboto-Medium-101\"/>\r\n      <use x=\"624.658203\" xlink:href=\"#Roboto-Medium-32\"/>\r\n      <use x=\"649.560547\" xlink:href=\"#Roboto-Medium-82\"/>\r\n      <use x=\"711.962891\" xlink:href=\"#Roboto-Medium-97\"/>\r\n      <use x=\"766.064453\" xlink:href=\"#Roboto-Medium-116\"/>\r\n      <use x=\"799.316406\" xlink:href=\"#Roboto-Medium-101\"/>\r\n      <use x=\"852.978516\" xlink:href=\"#Roboto-Medium-32\"/>\r\n      <use x=\"877.880859\" xlink:href=\"#Roboto-Medium-40\"/>\r\n      <use x=\"912.744141\" xlink:href=\"#Roboto-Medium-80\"/>\r\n      <use x=\"976.660156\" xlink:href=\"#Roboto-Medium-111\"/>\r\n      <use x=\"1033.59375\" xlink:href=\"#Roboto-Medium-115\"/>\r\n      <use x=\"1085.205078\" xlink:href=\"#Roboto-Medium-105\"/>\r\n      <use x=\"1110.742188\" xlink:href=\"#Roboto-Medium-116\"/>\r\n      <use x=\"1143.994141\" xlink:href=\"#Roboto-Medium-105\"/>\r\n      <use x=\"1169.53125\" xlink:href=\"#Roboto-Medium-118\"/>\r\n      <use x=\"1218.994141\" xlink:href=\"#Roboto-Medium-101\"/>\r\n      <use x=\"1272.65625\" xlink:href=\"#Roboto-Medium-32\"/>\r\n      <use x=\"1297.558594\" xlink:href=\"#Roboto-Medium-108\"/>\r\n      <use x=\"1323.095703\" xlink:href=\"#Roboto-Medium-97\"/>\r\n      <use x=\"1377.197266\" xlink:href=\"#Roboto-Medium-98\"/>\r\n      <use x=\"1433.496094\" xlink:href=\"#Roboto-Medium-101\"/>\r\n      <use x=\"1487.158203\" xlink:href=\"#Roboto-Medium-108\"/>\r\n      <use x=\"1512.695312\" xlink:href=\"#Roboto-Medium-58\"/>\r\n      <use x=\"1539.208984\" xlink:href=\"#Roboto-Medium-32\"/>\r\n      <use x=\"1564.111328\" xlink:href=\"#Roboto-Medium-49\"/>\r\n      <use x=\"1620.947266\" xlink:href=\"#Roboto-Medium-46\"/>\r\n      <use x=\"1648.876953\" xlink:href=\"#Roboto-Medium-48\"/>\r\n      <use x=\"1705.712891\" xlink:href=\"#Roboto-Medium-41\"/>\r\n     </g>\r\n    </g>\r\n   </g>\r\n   <g id=\"matplotlib.axis_2\">\r\n    <g id=\"ytick_1\">\r\n     <g id=\"line2d_7\">\r\n      <defs>\r\n       <path d=\"M 0 0 \r\nL -3.5 0 \r\n\" id=\"m856b5e9793\" style=\"stroke:#58544f;stroke-width:0.8;\"/>\r\n      </defs>\r\n      <g>\r\n       <use style=\"fill:#58544f;stroke:#58544f;stroke-width:0.8;\" x=\"39.755\" xlink:href=\"#m856b5e9793\" y=\"214.756364\"/>\r\n      </g>\r\n     </g>\r\n     <g id=\"text_8\">\r\n      <!-- 0.0 -->\r\n      <g style=\"fill:#58544f;\" transform=\"translate(21.425 217.756364)scale(0.08 -0.08)\">\r\n       <use xlink:href=\"#Roboto-Medium-48\"/>\r\n       <use x=\"56.835938\" xlink:href=\"#Roboto-Medium-46\"/>\r\n       <use x=\"84.765625\" xlink:href=\"#Roboto-Medium-48\"/>\r\n      </g>\r\n     </g>\r\n    </g>\r\n    <g id=\"ytick_2\">\r\n     <g id=\"line2d_8\">\r\n      <g>\r\n       <use style=\"fill:#58544f;stroke:#58544f;stroke-width:0.8;\" x=\"39.755\" xlink:href=\"#m856b5e9793\" y=\"175.221818\"/>\r\n      </g>\r\n     </g>\r\n     <g id=\"text_9\">\r\n      <!-- 0.2 -->\r\n      <g style=\"fill:#58544f;\" transform=\"translate(21.425 178.221818)scale(0.08 -0.08)\">\r\n       <use xlink:href=\"#Roboto-Medium-48\"/>\r\n       <use x=\"56.835938\" xlink:href=\"#Roboto-Medium-46\"/>\r\n       <use x=\"84.765625\" xlink:href=\"#Roboto-Medium-50\"/>\r\n      </g>\r\n     </g>\r\n    </g>\r\n    <g id=\"ytick_3\">\r\n     <g id=\"line2d_9\">\r\n      <g>\r\n       <use style=\"fill:#58544f;stroke:#58544f;stroke-width:0.8;\" x=\"39.755\" xlink:href=\"#m856b5e9793\" y=\"135.687273\"/>\r\n      </g>\r\n     </g>\r\n     <g id=\"text_10\">\r\n      <!-- 0.4 -->\r\n      <g style=\"fill:#58544f;\" transform=\"translate(21.425 138.687273)scale(0.08 -0.08)\">\r\n       <use xlink:href=\"#Roboto-Medium-48\"/>\r\n       <use x=\"56.835938\" xlink:href=\"#Roboto-Medium-46\"/>\r\n       <use x=\"84.765625\" xlink:href=\"#Roboto-Medium-52\"/>\r\n      </g>\r\n     </g>\r\n    </g>\r\n    <g id=\"ytick_4\">\r\n     <g id=\"line2d_10\">\r\n      <g>\r\n       <use style=\"fill:#58544f;stroke:#58544f;stroke-width:0.8;\" x=\"39.755\" xlink:href=\"#m856b5e9793\" y=\"96.152727\"/>\r\n      </g>\r\n     </g>\r\n     <g id=\"text_11\">\r\n      <!-- 0.6 -->\r\n      <g style=\"fill:#58544f;\" transform=\"translate(21.425 99.152727)scale(0.08 -0.08)\">\r\n       <use xlink:href=\"#Roboto-Medium-48\"/>\r\n       <use x=\"56.835938\" xlink:href=\"#Roboto-Medium-46\"/>\r\n       <use x=\"84.765625\" xlink:href=\"#Roboto-Medium-54\"/>\r\n      </g>\r\n     </g>\r\n    </g>\r\n    <g id=\"ytick_5\">\r\n     <g id=\"line2d_11\">\r\n      <g>\r\n       <use style=\"fill:#58544f;stroke:#58544f;stroke-width:0.8;\" x=\"39.755\" xlink:href=\"#m856b5e9793\" y=\"56.618182\"/>\r\n      </g>\r\n     </g>\r\n     <g id=\"text_12\">\r\n      <!-- 0.8 -->\r\n      <g style=\"fill:#58544f;\" transform=\"translate(21.425 59.618182)scale(0.08 -0.08)\">\r\n       <use xlink:href=\"#Roboto-Medium-48\"/>\r\n       <use x=\"56.835938\" xlink:href=\"#Roboto-Medium-46\"/>\r\n       <use x=\"84.765625\" xlink:href=\"#Roboto-Medium-56\"/>\r\n      </g>\r\n     </g>\r\n    </g>\r\n    <g id=\"ytick_6\">\r\n     <g id=\"line2d_12\">\r\n      <g>\r\n       <use style=\"fill:#58544f;stroke:#58544f;stroke-width:0.8;\" x=\"39.755\" xlink:href=\"#m856b5e9793\" y=\"17.083636\"/>\r\n      </g>\r\n     </g>\r\n     <g id=\"text_13\">\r\n      <!-- 1.0 -->\r\n      <g style=\"fill:#58544f;\" transform=\"translate(21.425 20.083636)scale(0.08 -0.08)\">\r\n       <use xlink:href=\"#Roboto-Medium-49\"/>\r\n       <use x=\"56.835938\" xlink:href=\"#Roboto-Medium-46\"/>\r\n       <use x=\"84.765625\" xlink:href=\"#Roboto-Medium-48\"/>\r\n      </g>\r\n     </g>\r\n    </g>\r\n    <g id=\"text_14\">\r\n     <!-- True Positive Rate (Positive label: 1.0) -->\r\n     <g style=\"fill:#58544f;\" transform=\"translate(15.164063 201.230156)rotate(-90)scale(0.1 -0.1)\">\r\n      <defs>\r\n       <path d=\"M 58.59375 61.140625 \r\nL 36.421875 61.140625 \r\nL 36.421875 0 \r\nL 24.171875 0 \r\nL 24.171875 61.140625 \r\nL 2.203125 61.140625 \r\nL 2.203125 71.09375 \r\nL 58.59375 71.09375 \r\nz\r\n\" id=\"Roboto-Medium-84\"/>\r\n       <path d=\"M 33.734375 42 \r\nQ 31.390625 42.390625 28.90625 42.390625 \r\nQ 20.75 42.390625 17.921875 36.140625 \r\nL 17.921875 0 \r\nL 6.0625 0 \r\nL 6.0625 52.828125 \r\nL 17.390625 52.828125 \r\nL 17.671875 46.921875 \r\nQ 21.96875 53.8125 29.59375 53.8125 \r\nQ 32.125 53.8125 33.796875 53.125 \r\nz\r\n\" id=\"Roboto-Medium-114\"/>\r\n       <path d=\"M 38.09375 5.171875 \r\nQ 32.859375 -0.984375 23.25 -0.984375 \r\nQ 14.65625 -0.984375 10.234375 4.046875 \r\nQ 5.8125 9.078125 5.8125 18.609375 \r\nL 5.8125 52.828125 \r\nL 17.671875 52.828125 \r\nL 17.671875 18.75 \r\nQ 17.671875 8.6875 26.03125 8.6875 \r\nQ 34.671875 8.6875 37.703125 14.890625 \r\nL 37.703125 52.828125 \r\nL 49.5625 52.828125 \r\nL 49.5625 0 \r\nL 38.375 0 \r\nz\r\n\" id=\"Roboto-Medium-117\"/>\r\n      </defs>\r\n      <use xlink:href=\"#Roboto-Medium-84\"/>\r\n      <use x=\"60.693359\" xlink:href=\"#Roboto-Medium-114\"/>\r\n      <use x=\"95.849609\" xlink:href=\"#Roboto-Medium-117\"/>\r\n      <use x=\"151.416016\" xlink:href=\"#Roboto-Medium-101\"/>\r\n      <use x=\"205.078125\" xlink:href=\"#Roboto-Medium-32\"/>\r\n      <use x=\"229.980469\" xlink:href=\"#Roboto-Medium-80\"/>\r\n      <use x=\"293.896484\" xlink:href=\"#Roboto-Medium-111\"/>\r\n      <use x=\"350.830078\" xlink:href=\"#Roboto-Medium-115\"/>\r\n      <use x=\"402.441406\" xlink:href=\"#Roboto-Medium-105\"/>\r\n      <use x=\"427.978516\" xlink:href=\"#Roboto-Medium-116\"/>\r\n      <use x=\"461.230469\" xlink:href=\"#Roboto-Medium-105\"/>\r\n      <use x=\"486.767578\" xlink:href=\"#Roboto-Medium-118\"/>\r\n      <use x=\"536.230469\" xlink:href=\"#Roboto-Medium-101\"/>\r\n      <use x=\"589.892578\" xlink:href=\"#Roboto-Medium-32\"/>\r\n      <use x=\"614.794922\" xlink:href=\"#Roboto-Medium-82\"/>\r\n      <use x=\"677.197266\" xlink:href=\"#Roboto-Medium-97\"/>\r\n      <use x=\"731.298828\" xlink:href=\"#Roboto-Medium-116\"/>\r\n      <use x=\"764.550781\" xlink:href=\"#Roboto-Medium-101\"/>\r\n      <use x=\"818.212891\" xlink:href=\"#Roboto-Medium-32\"/>\r\n      <use x=\"843.115234\" xlink:href=\"#Roboto-Medium-40\"/>\r\n      <use x=\"877.978516\" xlink:href=\"#Roboto-Medium-80\"/>\r\n      <use x=\"941.894531\" xlink:href=\"#Roboto-Medium-111\"/>\r\n      <use x=\"998.828125\" xlink:href=\"#Roboto-Medium-115\"/>\r\n      <use x=\"1050.439453\" xlink:href=\"#Roboto-Medium-105\"/>\r\n      <use x=\"1075.976562\" xlink:href=\"#Roboto-Medium-116\"/>\r\n      <use x=\"1109.228516\" xlink:href=\"#Roboto-Medium-105\"/>\r\n      <use x=\"1134.765625\" xlink:href=\"#Roboto-Medium-118\"/>\r\n      <use x=\"1184.228516\" xlink:href=\"#Roboto-Medium-101\"/>\r\n      <use x=\"1237.890625\" xlink:href=\"#Roboto-Medium-32\"/>\r\n      <use x=\"1262.792969\" xlink:href=\"#Roboto-Medium-108\"/>\r\n      <use x=\"1288.330078\" xlink:href=\"#Roboto-Medium-97\"/>\r\n      <use x=\"1342.431641\" xlink:href=\"#Roboto-Medium-98\"/>\r\n      <use x=\"1398.730469\" xlink:href=\"#Roboto-Medium-101\"/>\r\n      <use x=\"1452.392578\" xlink:href=\"#Roboto-Medium-108\"/>\r\n      <use x=\"1477.929688\" xlink:href=\"#Roboto-Medium-58\"/>\r\n      <use x=\"1504.443359\" xlink:href=\"#Roboto-Medium-32\"/>\r\n      <use x=\"1529.345703\" xlink:href=\"#Roboto-Medium-49\"/>\r\n      <use x=\"1586.181641\" xlink:href=\"#Roboto-Medium-46\"/>\r\n      <use x=\"1614.111328\" xlink:href=\"#Roboto-Medium-48\"/>\r\n      <use x=\"1670.947266\" xlink:href=\"#Roboto-Medium-41\"/>\r\n     </g>\r\n    </g>\r\n   </g>\r\n   <g id=\"line2d_13\">\r\n    <path clip-path=\"url(#p7a447f3458)\" d=\"M 54.973182 214.756364 \r\nL 54.973182 204.872727 \r\nL 68.206383 204.872727 \r\nL 68.206383 135.687273 \r\nL 68.206383 115.92 \r\nL 81.439585 106.036364 \r\nL 94.672787 106.036364 \r\nL 134.372391 76.385455 \r\nL 134.372391 36.850909 \r\nL 187.305198 36.850909 \r\nL 187.305198 26.967273 \r\nL 213.771601 26.967273 \r\nL 213.771601 17.083636 \r\nL 227.004802 17.083636 \r\nL 266.704407 17.083636 \r\nL 293.17081 17.083636 \r\nL 319.637213 17.083636 \r\nL 359.336818 17.083636 \r\n\" style=\"fill:none;stroke:#0088ed;stroke-linecap:square;stroke-opacity:0.8;stroke-width:1.5;\"/>\r\n   </g>\r\n   <g id=\"patch_3\">\r\n    <path d=\"M 39.755 224.64 \r\nL 39.755 7.2 \r\n\" style=\"fill:none;stroke:#58544f;stroke-linecap:square;stroke-linejoin:miter;stroke-width:0.8;\"/>\r\n   </g>\r\n   <g id=\"patch_4\">\r\n    <path d=\"M 374.555 224.64 \r\nL 374.555 7.2 \r\n\" style=\"fill:none;stroke:#58544f;stroke-linecap:square;stroke-linejoin:miter;stroke-width:0.8;\"/>\r\n   </g>\r\n   <g id=\"patch_5\">\r\n    <path d=\"M 39.755 224.64 \r\nL 374.555 224.64 \r\n\" style=\"fill:none;stroke:#58544f;stroke-linecap:square;stroke-linejoin:miter;stroke-width:0.8;\"/>\r\n   </g>\r\n   <g id=\"patch_6\">\r\n    <path d=\"M 39.755 7.2 \r\nL 374.555 7.2 \r\n\" style=\"fill:none;stroke:#58544f;stroke-linecap:square;stroke-linejoin:miter;stroke-width:0.8;\"/>\r\n   </g>\r\n   <g id=\"legend_1\">\r\n    <g id=\"patch_7\">\r\n     <path d=\"M 213.02375 219.64 \r\nL 367.555 219.64 \r\nQ 369.555 219.64 369.555 217.64 \r\nL 369.555 203.415 \r\nQ 369.555 201.415 367.555 201.415 \r\nL 213.02375 201.415 \r\nQ 211.02375 201.415 211.02375 203.415 \r\nL 211.02375 217.64 \r\nQ 211.02375 219.64 213.02375 219.64 \r\nz\r\n\" style=\"fill:#ffffff;opacity:0.8;stroke:#cccccc;stroke-linejoin:miter;\"/>\r\n    </g>\r\n    <g id=\"line2d_14\">\r\n     <path d=\"M 215.02375 209.879062 \r\nL 235.02375 209.879062 \r\n\" style=\"fill:none;stroke:#0088ed;stroke-linecap:square;stroke-opacity:0.8;stroke-width:1.5;\"/>\r\n    </g>\r\n    <g id=\"line2d_15\"/>\r\n    <g id=\"text_15\">\r\n     <!-- MLPClassifier (AUC = 0.85) -->\r\n     <g transform=\"translate(243.02375 213.379062)scale(0.1 -0.1)\">\r\n      <defs>\r\n       <path d=\"M 23.25 71.09375 \r\nL 43.75 16.609375 \r\nL 64.203125 71.09375 \r\nL 80.171875 71.09375 \r\nL 80.171875 0 \r\nL 67.875 0 \r\nL 67.875 23.4375 \r\nL 69.09375 54.78125 \r\nL 48.09375 0 \r\nL 39.265625 0 \r\nL 18.3125 54.734375 \r\nL 19.53125 23.4375 \r\nL 19.53125 0 \r\nL 7.234375 0 \r\nL 7.234375 71.09375 \r\nz\r\n\" id=\"Roboto-Medium-77\"/>\r\n       <path d=\"M 19.578125 9.859375 \r\nL 51.859375 9.859375 \r\nL 51.859375 0 \r\nL 7.234375 0 \r\nL 7.234375 71.09375 \r\nL 19.578125 71.09375 \r\nz\r\n\" id=\"Roboto-Medium-76\"/>\r\n       <path d=\"M 61.46875 23.140625 \r\nQ 60.40625 11.765625 53.078125 5.390625 \r\nQ 45.75 -0.984375 33.59375 -0.984375 \r\nQ 25.09375 -0.984375 18.625 3.046875 \r\nQ 12.15625 7.078125 8.640625 14.5 \r\nQ 5.125 21.921875 4.984375 31.734375 \r\nL 4.984375 38.375 \r\nQ 4.984375 48.4375 8.546875 56.09375 \r\nQ 12.109375 63.765625 18.765625 67.921875 \r\nQ 25.4375 72.078125 34.1875 72.078125 \r\nQ 45.953125 72.078125 53.125 65.671875 \r\nQ 60.296875 59.28125 61.46875 47.609375 \r\nL 49.171875 47.609375 \r\nQ 48.296875 55.28125 44.703125 58.671875 \r\nQ 41.109375 62.0625 34.1875 62.0625 \r\nQ 26.125 62.0625 21.796875 56.171875 \r\nQ 17.484375 50.296875 17.390625 38.921875 \r\nL 17.390625 32.625 \r\nQ 17.390625 21.09375 21.515625 15.03125 \r\nQ 25.640625 8.984375 33.59375 8.984375 \r\nQ 40.875 8.984375 44.53125 12.25 \r\nQ 48.1875 15.53125 49.171875 23.140625 \r\nz\r\n\" id=\"Roboto-Medium-67\"/>\r\n       <path d=\"M 10.25 0 \r\nL 10.25 44.046875 \r\nL 2.203125 44.046875 \r\nL 2.203125 52.828125 \r\nL 10.25 52.828125 \r\nL 10.25 57.671875 \r\nQ 10.25 66.453125 15.125 71.234375 \r\nQ 20.015625 76.03125 28.8125 76.03125 \r\nQ 31.9375 76.03125 35.453125 75.140625 \r\nL 35.15625 65.875 \r\nQ 33.203125 66.265625 30.609375 66.265625 \r\nQ 22.125 66.265625 22.125 57.515625 \r\nL 22.125 52.828125 \r\nL 32.859375 52.828125 \r\nL 32.859375 44.046875 \r\nL 22.125 44.046875 \r\nL 22.125 0 \r\nz\r\n\" id=\"Roboto-Medium-102\"/>\r\n       <path d=\"M 47.015625 16.546875 \r\nL 19.484375 16.546875 \r\nL 13.71875 0 \r\nL 0.875 0 \r\nL 27.734375 71.09375 \r\nL 38.8125 71.09375 \r\nL 65.71875 0 \r\nL 52.828125 0 \r\nz\r\nM 22.953125 26.515625 \r\nL 43.5625 26.515625 \r\nL 33.25 56 \r\nz\r\n\" id=\"Roboto-Medium-65\"/>\r\n       <path d=\"M 59.234375 71.09375 \r\nL 59.234375 23.578125 \r\nQ 59.234375 12.25 51.984375 5.625 \r\nQ 44.734375 -0.984375 32.671875 -0.984375 \r\nQ 20.453125 -0.984375 13.28125 5.53125 \r\nQ 6.109375 12.0625 6.109375 23.640625 \r\nL 6.109375 71.09375 \r\nL 18.40625 71.09375 \r\nL 18.40625 23.53125 \r\nQ 18.40625 16.40625 22.015625 12.640625 \r\nQ 25.640625 8.890625 32.671875 8.890625 \r\nQ 46.921875 8.890625 46.921875 23.921875 \r\nL 46.921875 71.09375 \r\nz\r\n\" id=\"Roboto-Medium-85\"/>\r\n       <path d=\"M 49.171875 38.09375 \r\nL 7.078125 38.09375 \r\nL 7.078125 47.953125 \r\nL 49.171875 47.953125 \r\nz\r\nM 49.171875 17.390625 \r\nL 7.078125 17.390625 \r\nL 7.078125 27.203125 \r\nL 49.171875 27.203125 \r\nz\r\n\" id=\"Roboto-Medium-61\"/>\r\n       <path d=\"M 8.5 35.25 \r\nL 12.359375 71.09375 \r\nL 50.53125 71.09375 \r\nL 50.53125 60.84375 \r\nL 22.21875 60.84375 \r\nL 20.265625 43.84375 \r\nQ 25.203125 46.6875 31.390625 46.6875 \r\nQ 41.546875 46.6875 47.1875 40.1875 \r\nQ 52.828125 33.6875 52.828125 22.703125 \r\nQ 52.828125 11.859375 46.578125 5.4375 \r\nQ 40.328125 -0.984375 29.4375 -0.984375 \r\nQ 19.671875 -0.984375 13.25 4.5625 \r\nQ 6.84375 10.109375 6.296875 19.1875 \r\nL 17.78125 19.1875 \r\nQ 18.453125 14.015625 21.484375 11.25 \r\nQ 24.515625 8.5 29.390625 8.5 \r\nQ 34.859375 8.5 37.90625 12.40625 \r\nQ 40.96875 16.3125 40.96875 23.046875 \r\nQ 40.96875 29.546875 37.59375 33.328125 \r\nQ 34.234375 37.109375 28.328125 37.109375 \r\nQ 25.09375 37.109375 22.84375 36.25 \r\nQ 20.609375 35.40625 17.96875 32.90625 \r\nz\r\n\" id=\"Roboto-Medium-53\"/>\r\n      </defs>\r\n      <use xlink:href=\"#Roboto-Medium-77\"/>\r\n      <use x=\"87.548828\" xlink:href=\"#Roboto-Medium-76\"/>\r\n      <use x=\"141.650391\" xlink:href=\"#Roboto-Medium-80\"/>\r\n      <use x=\"205.566406\" xlink:href=\"#Roboto-Medium-67\"/>\r\n      <use x=\"270.849609\" xlink:href=\"#Roboto-Medium-108\"/>\r\n      <use x=\"296.386719\" xlink:href=\"#Roboto-Medium-97\"/>\r\n      <use x=\"350.488281\" xlink:href=\"#Roboto-Medium-115\"/>\r\n      <use x=\"402.099609\" xlink:href=\"#Roboto-Medium-115\"/>\r\n      <use x=\"453.710938\" xlink:href=\"#Roboto-Medium-105\"/>\r\n      <use x=\"479.248047\" xlink:href=\"#Roboto-Medium-102\"/>\r\n      <use x=\"514.697266\" xlink:href=\"#Roboto-Medium-105\"/>\r\n      <use x=\"540.234375\" xlink:href=\"#Roboto-Medium-101\"/>\r\n      <use x=\"593.896484\" xlink:href=\"#Roboto-Medium-114\"/>\r\n      <use x=\"629.052734\" xlink:href=\"#Roboto-Medium-32\"/>\r\n      <use x=\"653.955078\" xlink:href=\"#Roboto-Medium-40\"/>\r\n      <use x=\"688.818359\" xlink:href=\"#Roboto-Medium-65\"/>\r\n      <use x=\"755.371094\" xlink:href=\"#Roboto-Medium-85\"/>\r\n      <use x=\"820.556641\" xlink:href=\"#Roboto-Medium-67\"/>\r\n      <use x=\"885.839844\" xlink:href=\"#Roboto-Medium-32\"/>\r\n      <use x=\"910.742188\" xlink:href=\"#Roboto-Medium-61\"/>\r\n      <use x=\"966.699219\" xlink:href=\"#Roboto-Medium-32\"/>\r\n      <use x=\"991.601562\" xlink:href=\"#Roboto-Medium-48\"/>\r\n      <use x=\"1048.4375\" xlink:href=\"#Roboto-Medium-46\"/>\r\n      <use x=\"1076.367188\" xlink:href=\"#Roboto-Medium-56\"/>\r\n      <use x=\"1133.203125\" xlink:href=\"#Roboto-Medium-53\"/>\r\n      <use x=\"1190.039062\" xlink:href=\"#Roboto-Medium-41\"/>\r\n     </g>\r\n    </g>\r\n   </g>\r\n  </g>\r\n </g>\r\n <defs>\r\n  <clipPath id=\"p7a447f3458\">\r\n   <rect height=\"217.44\" width=\"334.8\" x=\"39.755\" y=\"7.2\"/>\r\n  </clipPath>\r\n </defs>\r\n</svg>\r\n",
      "image/png": "[encoded data removed]"
     },
     "metadata": {}
    }
   ],
   "source": [
    "import matplotlib.pyplot as plt\n",
    "from sklearn.metrics import plot_roc_curve\n",
    "\n",
    "ax = plt.gca()\n",
    "clf_disp = plot_roc_curve(clf, X_test, y_test, ax=ax, alpha=0.8)"
   ]
  },
  {
   "cell_type": "code",
   "execution_count": 71,
   "metadata": {},
   "outputs": [
    {
     "output_type": "execute_result",
     "data": {
      "text/plain": [
       "array([1., 0., 1., 1., 1., 0., 0., 0., 0., 0., 0., 1., 0., 1., 1., 0., 1.,\n",
       "       1., 0., 1., 0., 1., 1., 1., 1., 0., 0., 0., 0., 0., 1., 1., 1., 1.,\n",
       "       1., 0., 0., 1., 1., 1., 0., 0., 1.])"
      ]
     },
     "metadata": {},
     "execution_count": 71
    }
   ],
   "source": [
    "y_pred =clf.predict(X_test)\n",
    "y_pred"
   ]
  },
  {
   "cell_type": "code",
   "execution_count": 72,
   "metadata": {},
   "outputs": [
    {
     "output_type": "execute_result",
     "data": {
      "text/plain": [
       "array([1., 0., 0., 1., 1., 1., 1., 0., 0., 0., 0., 0., 0., 1., 0., 0., 1.,\n",
       "       1., 0., 1., 0., 1., 1., 1., 1., 0., 0., 0., 0., 1., 1., 1., 1., 0.,\n",
       "       1., 0., 0., 1., 1., 0., 0., 0., 0.])"
      ]
     },
     "metadata": {},
     "execution_count": 72
    }
   ],
   "source": [
    "y_test.values"
   ]
  },
  {
   "cell_type": "code",
   "execution_count": 73,
   "metadata": {},
   "outputs": [
    {
     "output_type": "stream",
     "name": "stdout",
     "text": [
      "Accuracy score: 79.07%\n"
     ]
    }
   ],
   "source": [
    "from sklearn.metrics import accuracy_score\n",
    "\n",
    "print('Accuracy score: {0:0.2f}%'.format(100*accuracy_score(y_test, y_pred)))"
   ]
  },
  {
   "cell_type": "code",
   "execution_count": 74,
   "metadata": {},
   "outputs": [
    {
     "output_type": "stream",
     "name": "stdout",
     "text": [
      "Average precision-recall score: 69.803%\n"
     ]
    }
   ],
   "source": [
    "from sklearn.metrics import average_precision_score\n",
    "\n",
    "y_score = clf.predict(X_test)\n",
    "average_precision = average_precision_score(y_test, y_score)\n",
    "\n",
    "print('Average precision-recall score: {0:0.3f}%'.format(100*average_precision))"
   ]
  },
  {
   "cell_type": "code",
   "execution_count": 75,
   "metadata": {},
   "outputs": [
    {
     "output_type": "execute_result",
     "data": {
      "text/plain": [
       "Text(0.5, 1.0, '2-class Precision-Recall curve: AP=0.70')"
      ]
     },
     "metadata": {},
     "execution_count": 75
    },
    {
     "output_type": "display_data",
     "data": {
      "text/plain": "<Figure size 600x400 with 1 Axes>",
      "image/svg+xml": "<?xml version=\"1.0\" encoding=\"utf-8\" standalone=\"no\"?>\r\n<!DOCTYPE svg PUBLIC \"-//W3C//DTD SVG 1.1//EN\"\r\n  \"http://www.w3.org/Graphics/SVG/1.1/DTD/svg11.dtd\">\r\n<!-- Created with matplotlib (https://matplotlib.org/) -->\r\n<svg height=\"275.69pt\" version=\"1.1\" viewBox=\"0 0 381.755 275.69\" width=\"381.755pt\" xmlns=\"http://www.w3.org/2000/svg\" xmlns:xlink=\"http://www.w3.org/1999/xlink\">\r\n <metadata>\r\n  <rdf:RDF xmlns:cc=\"http://creativecommons.org/ns#\" xmlns:dc=\"http://purl.org/dc/elements/1.1/\" xmlns:rdf=\"http://www.w3.org/1999/02/22-rdf-syntax-ns#\">\r\n   <cc:Work>\r\n    <dc:type rdf:resource=\"http://purl.org/dc/dcmitype/StillImage\"/>\r\n    <dc:date>2021-04-14T23:05:28.878433</dc:date>\r\n    <dc:format>image/svg+xml</dc:format>\r\n    <dc:creator>\r\n     <cc:Agent>\r\n      <dc:title>Matplotlib v3.3.4, https://matplotlib.org/</dc:title>\r\n     </cc:Agent>\r\n    </dc:creator>\r\n   </cc:Work>\r\n  </rdf:RDF>\r\n </metadata>\r\n <defs>\r\n  <style type=\"text/css\">*{stroke-linecap:butt;stroke-linejoin:round;}</style>\r\n </defs>\r\n <g id=\"figure_1\">\r\n  <g id=\"patch_1\">\r\n   <path d=\"M 0 275.69 \r\nL 381.755 275.69 \r\nL 381.755 0 \r\nL 0 0 \r\nz\r\n\" style=\"fill:#ffffff;\"/>\r\n  </g>\r\n  <g id=\"axes_1\">\r\n   <g id=\"patch_2\">\r\n    <path d=\"M 39.755 239.64 \r\nL 374.555 239.64 \r\nL 374.555 22.2 \r\nL 39.755 22.2 \r\nz\r\n\" style=\"fill:#ffffff;\"/>\r\n   </g>\r\n   <g id=\"matplotlib.axis_1\">\r\n    <g id=\"xtick_1\">\r\n     <g id=\"line2d_1\">\r\n      <defs>\r\n       <path d=\"M 0 0 \r\nL 0 3.5 \r\n\" id=\"mcc5e2f7cd1\" style=\"stroke:#58544f;stroke-width:0.8;\"/>\r\n      </defs>\r\n      <g>\r\n       <use style=\"fill:#58544f;stroke:#58544f;stroke-width:0.8;\" x=\"54.973182\" xlink:href=\"#mcc5e2f7cd1\" y=\"239.64\"/>\r\n      </g>\r\n     </g>\r\n     <g id=\"text_1\">\r\n      <!-- 0.0 -->\r\n      <g style=\"fill:#58544f;\" transform=\"translate(49.308182 252.64)scale(0.08 -0.08)\">\r\n       <defs>\r\n        <path d=\"M 51.65625 29.9375 \r\nQ 51.65625 14.59375 45.921875 6.796875 \r\nQ 40.1875 -0.984375 28.46875 -0.984375 \r\nQ 16.9375 -0.984375 11.109375 6.609375 \r\nQ 5.28125 14.203125 5.125 29.109375 \r\nL 5.125 41.40625 \r\nQ 5.125 56.734375 10.859375 64.40625 \r\nQ 16.609375 72.078125 28.375 72.078125 \r\nQ 40.046875 72.078125 45.78125 64.59375 \r\nQ 51.515625 57.125 51.65625 42.234375 \r\nz\r\nM 39.796875 43.21875 \r\nQ 39.796875 53.21875 37.0625 57.875 \r\nQ 34.328125 62.546875 28.375 62.546875 \r\nQ 22.5625 62.546875 19.828125 58.125 \r\nQ 17.09375 53.71875 16.9375 44.34375 \r\nL 16.9375 28.21875 \r\nQ 16.9375 18.265625 19.71875 13.375 \r\nQ 22.515625 8.5 28.46875 8.5 \r\nQ 34.1875 8.5 36.921875 13.015625 \r\nQ 39.65625 17.53125 39.796875 27.15625 \r\nz\r\n\" id=\"Roboto-Medium-48\"/>\r\n        <path d=\"M 13.484375 12.5 \r\nQ 16.796875 12.5 18.59375 10.609375 \r\nQ 20.40625 8.734375 20.40625 5.90625 \r\nQ 20.40625 3.125 18.59375 1.296875 \r\nQ 16.796875 -0.53125 13.484375 -0.53125 \r\nQ 10.296875 -0.53125 8.4375 1.265625 \r\nQ 6.59375 3.078125 6.59375 5.90625 \r\nQ 6.59375 8.734375 8.390625 10.609375 \r\nQ 10.203125 12.5 13.484375 12.5 \r\nz\r\n\" id=\"Roboto-Medium-46\"/>\r\n       </defs>\r\n       <use xlink:href=\"#Roboto-Medium-48\"/>\r\n       <use x=\"56.835938\" xlink:href=\"#Roboto-Medium-46\"/>\r\n       <use x=\"84.765625\" xlink:href=\"#Roboto-Medium-48\"/>\r\n      </g>\r\n     </g>\r\n    </g>\r\n    <g id=\"xtick_2\">\r\n     <g id=\"line2d_2\">\r\n      <g>\r\n       <use style=\"fill:#58544f;stroke:#58544f;stroke-width:0.8;\" x=\"115.845909\" xlink:href=\"#mcc5e2f7cd1\" y=\"239.64\"/>\r\n      </g>\r\n     </g>\r\n     <g id=\"text_2\">\r\n      <!-- 0.2 -->\r\n      <g style=\"fill:#58544f;\" transform=\"translate(110.180909 252.64)scale(0.08 -0.08)\">\r\n       <defs>\r\n        <path d=\"M 53.125 0 \r\nL 5.328125 0 \r\nL 5.328125 8.15625 \r\nL 29 33.984375 \r\nQ 34.125 39.703125 36.296875 43.53125 \r\nQ 38.484375 47.359375 38.484375 51.21875 \r\nQ 38.484375 56.296875 35.625 59.421875 \r\nQ 32.765625 62.546875 27.9375 62.546875 \r\nQ 22.171875 62.546875 19 59.03125 \r\nQ 15.828125 55.515625 15.828125 49.421875 \r\nL 3.953125 49.421875 \r\nQ 3.953125 55.90625 6.90625 61.109375 \r\nQ 9.859375 66.3125 15.34375 69.1875 \r\nQ 20.84375 72.078125 28.03125 72.078125 \r\nQ 38.375 72.078125 44.359375 66.875 \r\nQ 50.34375 61.671875 50.34375 52.484375 \r\nQ 50.34375 47.171875 47.34375 41.328125 \r\nQ 44.34375 35.5 37.5 28.078125 \r\nL 20.125 9.46875 \r\nL 53.125 9.46875 \r\nz\r\n\" id=\"Roboto-Medium-50\"/>\r\n       </defs>\r\n       <use xlink:href=\"#Roboto-Medium-48\"/>\r\n       <use x=\"56.835938\" xlink:href=\"#Roboto-Medium-46\"/>\r\n       <use x=\"84.765625\" xlink:href=\"#Roboto-Medium-50\"/>\r\n      </g>\r\n     </g>\r\n    </g>\r\n    <g id=\"xtick_3\">\r\n     <g id=\"line2d_3\">\r\n      <g>\r\n       <use style=\"fill:#58544f;stroke:#58544f;stroke-width:0.8;\" x=\"176.718636\" xlink:href=\"#mcc5e2f7cd1\" y=\"239.64\"/>\r\n      </g>\r\n     </g>\r\n     <g id=\"text_3\">\r\n      <!-- 0.4 -->\r\n      <g style=\"fill:#58544f;\" transform=\"translate(171.053636 252.64)scale(0.08 -0.08)\">\r\n       <defs>\r\n        <path d=\"M 45.453125 25.34375 \r\nL 54.296875 25.34375 \r\nL 54.296875 15.828125 \r\nL 45.453125 15.828125 \r\nL 45.453125 0 \r\nL 33.59375 0 \r\nL 33.59375 15.828125 \r\nL 2.875 15.828125 \r\nL 2.546875 23.046875 \r\nL 33.203125 71.09375 \r\nL 45.453125 71.09375 \r\nz\r\nM 14.984375 25.34375 \r\nL 33.59375 25.34375 \r\nL 33.59375 55.03125 \r\nL 32.71875 53.46875 \r\nz\r\n\" id=\"Roboto-Medium-52\"/>\r\n       </defs>\r\n       <use xlink:href=\"#Roboto-Medium-48\"/>\r\n       <use x=\"56.835938\" xlink:href=\"#Roboto-Medium-46\"/>\r\n       <use x=\"84.765625\" xlink:href=\"#Roboto-Medium-52\"/>\r\n      </g>\r\n     </g>\r\n    </g>\r\n    <g id=\"xtick_4\">\r\n     <g id=\"line2d_4\">\r\n      <g>\r\n       <use style=\"fill:#58544f;stroke:#58544f;stroke-width:0.8;\" x=\"237.591364\" xlink:href=\"#mcc5e2f7cd1\" y=\"239.64\"/>\r\n      </g>\r\n     </g>\r\n     <g id=\"text_4\">\r\n      <!-- 0.6 -->\r\n      <g style=\"fill:#58544f;\" transform=\"translate(231.926364 252.64)scale(0.08 -0.08)\">\r\n       <defs>\r\n        <path d=\"M 42.234375 71.4375 \r\nL 42.234375 61.625 \r\nL 40.765625 61.625 \r\nQ 30.8125 61.46875 24.84375 56.140625 \r\nQ 18.890625 50.828125 17.78125 41.0625 \r\nQ 23.484375 47.078125 32.375 47.078125 \r\nQ 41.796875 47.078125 47.234375 40.4375 \r\nQ 52.6875 33.796875 52.6875 23.296875 \r\nQ 52.6875 12.453125 46.3125 5.734375 \r\nQ 39.9375 -0.984375 29.59375 -0.984375 \r\nQ 18.953125 -0.984375 12.328125 6.875 \r\nQ 5.71875 14.75 5.71875 27.484375 \r\nL 5.71875 31.546875 \r\nQ 5.71875 50.25 14.8125 60.84375 \r\nQ 23.921875 71.4375 41.015625 71.4375 \r\nz\r\nM 29.5 37.5 \r\nQ 25.59375 37.5 22.34375 35.296875 \r\nQ 19.09375 33.109375 17.578125 29.4375 \r\nL 17.578125 25.828125 \r\nQ 17.578125 17.921875 20.890625 13.25 \r\nQ 24.21875 8.59375 29.484375 8.59375 \r\nQ 34.765625 8.59375 37.84375 12.546875 \r\nQ 40.921875 16.5 40.921875 22.9375 \r\nQ 40.921875 29.390625 37.796875 33.4375 \r\nQ 34.671875 37.5 29.5 37.5 \r\nz\r\n\" id=\"Roboto-Medium-54\"/>\r\n       </defs>\r\n       <use xlink:href=\"#Roboto-Medium-48\"/>\r\n       <use x=\"56.835938\" xlink:href=\"#Roboto-Medium-46\"/>\r\n       <use x=\"84.765625\" xlink:href=\"#Roboto-Medium-54\"/>\r\n      </g>\r\n     </g>\r\n    </g>\r\n    <g id=\"xtick_5\">\r\n     <g id=\"line2d_5\">\r\n      <g>\r\n       <use style=\"fill:#58544f;stroke:#58544f;stroke-width:0.8;\" x=\"298.464091\" xlink:href=\"#mcc5e2f7cd1\" y=\"239.64\"/>\r\n      </g>\r\n     </g>\r\n     <g id=\"text_5\">\r\n      <!-- 0.8 -->\r\n      <g style=\"fill:#58544f;\" transform=\"translate(292.799091 252.64)scale(0.08 -0.08)\">\r\n       <defs>\r\n        <path d=\"M 50.09375 52.34375 \r\nQ 50.09375 47.125 47.40625 43.046875 \r\nQ 44.734375 38.96875 40.09375 36.625 \r\nQ 45.65625 34.03125 48.65625 29.53125 \r\nQ 51.65625 25.046875 51.65625 19.390625 \r\nQ 51.65625 10.015625 45.3125 4.515625 \r\nQ 38.96875 -0.984375 28.421875 -0.984375 \r\nQ 17.828125 -0.984375 11.453125 4.53125 \r\nQ 5.078125 10.0625 5.078125 19.390625 \r\nQ 5.078125 25.09375 8.109375 29.640625 \r\nQ 11.140625 34.1875 16.609375 36.625 \r\nQ 12.015625 38.96875 9.34375 43.046875 \r\nQ 6.6875 47.125 6.6875 52.34375 \r\nQ 6.6875 61.421875 12.546875 66.75 \r\nQ 18.40625 72.078125 28.375 72.078125 \r\nQ 38.375 72.078125 44.234375 66.75 \r\nQ 50.09375 61.421875 50.09375 52.34375 \r\nz\r\nM 39.796875 19.96875 \r\nQ 39.796875 25.25 36.640625 28.484375 \r\nQ 33.5 31.734375 28.3125 31.734375 \r\nQ 23.140625 31.734375 20.03125 28.515625 \r\nQ 16.9375 25.296875 16.9375 19.96875 \r\nQ 16.9375 14.75 19.984375 11.625 \r\nQ 23.046875 8.5 28.421875 8.5 \r\nQ 33.796875 8.5 36.796875 11.515625 \r\nQ 39.796875 14.546875 39.796875 19.96875 \r\nz\r\nM 38.28125 51.90625 \r\nQ 38.28125 56.546875 35.59375 59.546875 \r\nQ 32.90625 62.546875 28.359375 62.546875 \r\nQ 23.828125 62.546875 21.1875 59.6875 \r\nQ 18.5625 56.84375 18.5625 51.90625 \r\nQ 18.5625 47.015625 21.21875 44.140625 \r\nQ 23.875 41.265625 28.40625 41.265625 \r\nQ 32.953125 41.265625 35.609375 44.140625 \r\nQ 38.28125 47.015625 38.28125 51.90625 \r\nz\r\n\" id=\"Roboto-Medium-56\"/>\r\n       </defs>\r\n       <use xlink:href=\"#Roboto-Medium-48\"/>\r\n       <use x=\"56.835938\" xlink:href=\"#Roboto-Medium-46\"/>\r\n       <use x=\"84.765625\" xlink:href=\"#Roboto-Medium-56\"/>\r\n      </g>\r\n     </g>\r\n    </g>\r\n    <g id=\"xtick_6\">\r\n     <g id=\"line2d_6\">\r\n      <g>\r\n       <use style=\"fill:#58544f;stroke:#58544f;stroke-width:0.8;\" x=\"359.336818\" xlink:href=\"#mcc5e2f7cd1\" y=\"239.64\"/>\r\n      </g>\r\n     </g>\r\n     <g id=\"text_6\">\r\n      <!-- 1.0 -->\r\n      <g style=\"fill:#58544f;\" transform=\"translate(353.671818 252.64)scale(0.08 -0.08)\">\r\n       <defs>\r\n        <path d=\"M 37.453125 0 \r\nL 25.640625 0 \r\nL 25.640625 57.078125 \r\nL 8.203125 51.125 \r\nL 8.203125 61.140625 \r\nL 35.9375 71.34375 \r\nL 37.453125 71.34375 \r\nz\r\n\" id=\"Roboto-Medium-49\"/>\r\n       </defs>\r\n       <use xlink:href=\"#Roboto-Medium-49\"/>\r\n       <use x=\"56.835938\" xlink:href=\"#Roboto-Medium-46\"/>\r\n       <use x=\"84.765625\" xlink:href=\"#Roboto-Medium-48\"/>\r\n      </g>\r\n     </g>\r\n    </g>\r\n    <g id=\"text_7\">\r\n     <!-- Recall (Positive label: 1.0) -->\r\n     <g style=\"fill:#58544f;\" transform=\"translate(149.076094 266.229062)scale(0.1 -0.1)\">\r\n      <defs>\r\n       <path d=\"M 33.34375 27.390625 \r\nL 19.578125 27.390625 \r\nL 19.578125 0 \r\nL 7.234375 0 \r\nL 7.234375 71.09375 \r\nL 32.234375 71.09375 \r\nQ 44.53125 71.09375 51.21875 65.578125 \r\nQ 57.90625 60.0625 57.90625 49.609375 \r\nQ 57.90625 42.484375 54.46875 37.671875 \r\nQ 51.03125 32.859375 44.875 30.28125 \r\nL 60.84375 0.640625 \r\nL 60.84375 0 \r\nL 47.609375 0 \r\nz\r\nM 19.578125 37.3125 \r\nL 32.28125 37.3125 \r\nQ 38.53125 37.3125 42.046875 40.453125 \r\nQ 45.5625 43.609375 45.5625 49.078125 \r\nQ 45.5625 54.78125 42.3125 57.90625 \r\nQ 39.0625 61.03125 32.625 61.140625 \r\nL 19.578125 61.140625 \r\nz\r\n\" id=\"Roboto-Medium-82\"/>\r\n       <path d=\"M 29.34375 -0.984375 \r\nQ 18.0625 -0.984375 11.046875 6.125 \r\nQ 4.046875 13.234375 4.046875 25.046875 \r\nL 4.046875 26.515625 \r\nQ 4.046875 34.421875 7.09375 40.640625 \r\nQ 10.15625 46.875 15.671875 50.34375 \r\nQ 21.1875 53.8125 27.984375 53.8125 \r\nQ 38.765625 53.8125 44.640625 46.921875 \r\nQ 50.53125 40.046875 50.53125 27.4375 \r\nL 50.53125 22.65625 \r\nL 16.015625 22.65625 \r\nQ 16.546875 16.109375 20.375 12.296875 \r\nQ 24.21875 8.5 30.03125 8.5 \r\nQ 38.1875 8.5 43.3125 15.09375 \r\nL 49.703125 8.984375 \r\nQ 46.53125 4.25 41.234375 1.625 \r\nQ 35.9375 -0.984375 29.34375 -0.984375 \r\nz\r\nM 27.9375 44.28125 \r\nQ 23.046875 44.28125 20.046875 40.859375 \r\nQ 17.046875 37.453125 16.21875 31.34375 \r\nL 38.8125 31.34375 \r\nL 38.8125 32.234375 \r\nQ 38.421875 38.1875 35.640625 41.234375 \r\nQ 32.859375 44.28125 27.9375 44.28125 \r\nz\r\n\" id=\"Roboto-Medium-101\"/>\r\n       <path d=\"M 27.78125 8.5 \r\nQ 32.234375 8.5 35.15625 11.078125 \r\nQ 38.09375 13.671875 38.28125 17.484375 \r\nL 49.46875 17.484375 \r\nQ 49.265625 12.546875 46.375 8.265625 \r\nQ 43.5 4 38.5625 1.5 \r\nQ 33.640625 -0.984375 27.9375 -0.984375 \r\nQ 16.84375 -0.984375 10.34375 6.1875 \r\nQ 3.859375 13.375 3.859375 26.03125 \r\nL 3.859375 27.25 \r\nQ 3.859375 39.3125 10.296875 46.5625 \r\nQ 16.75 53.8125 27.875 53.8125 \r\nQ 37.3125 53.8125 43.234375 48.3125 \r\nQ 49.171875 42.828125 49.46875 33.890625 \r\nL 38.28125 33.890625 \r\nQ 38.09375 38.421875 35.1875 41.34375 \r\nQ 32.28125 44.28125 27.78125 44.28125 \r\nQ 22.015625 44.28125 18.890625 40.109375 \r\nQ 15.765625 35.9375 15.71875 27.4375 \r\nL 15.71875 25.53125 \r\nQ 15.71875 16.9375 18.8125 12.71875 \r\nQ 21.921875 8.5 27.78125 8.5 \r\nz\r\n\" id=\"Roboto-Medium-99\"/>\r\n       <path d=\"M 37.640625 0 \r\nQ 36.859375 1.515625 36.28125 4.9375 \r\nQ 30.609375 -0.984375 22.40625 -0.984375 \r\nQ 14.453125 -0.984375 9.421875 3.5625 \r\nQ 4.390625 8.109375 4.390625 14.796875 \r\nQ 4.390625 23.25 10.65625 27.765625 \r\nQ 16.9375 32.28125 28.609375 32.28125 \r\nL 35.890625 32.28125 \r\nL 35.890625 35.75 \r\nQ 35.890625 39.84375 33.59375 42.3125 \r\nQ 31.296875 44.78125 26.609375 44.78125 \r\nQ 22.5625 44.78125 19.96875 42.75 \r\nQ 17.390625 40.71875 17.390625 37.59375 \r\nL 5.515625 37.59375 \r\nQ 5.515625 41.9375 8.390625 45.71875 \r\nQ 11.28125 49.515625 16.234375 51.65625 \r\nQ 21.1875 53.8125 27.296875 53.8125 \r\nQ 36.578125 53.8125 42.09375 49.140625 \r\nQ 47.609375 44.484375 47.75 36.03125 \r\nL 47.75 12.203125 \r\nQ 47.75 5.078125 49.75 0.828125 \r\nL 49.75 0 \r\nz\r\nM 24.609375 8.546875 \r\nQ 28.125 8.546875 31.21875 10.25 \r\nQ 34.328125 11.96875 35.890625 14.84375 \r\nL 35.890625 24.8125 \r\nL 29.5 24.8125 \r\nQ 22.90625 24.8125 19.578125 22.515625 \r\nQ 16.265625 20.21875 16.265625 16.015625 \r\nQ 16.265625 12.59375 18.53125 10.5625 \r\nQ 20.796875 8.546875 24.609375 8.546875 \r\nz\r\n\" id=\"Roboto-Medium-97\"/>\r\n       <path d=\"M 18.703125 0 \r\nL 6.84375 0 \r\nL 6.84375 75 \r\nL 18.703125 75 \r\nz\r\n\" id=\"Roboto-Medium-108\"/>\r\n       <path id=\"Roboto-Medium-32\"/>\r\n       <path d=\"M 6.25 28.90625 \r\nQ 6.25 40.1875 9.28125 50.3125 \r\nQ 12.3125 60.453125 18.171875 68.4375 \r\nQ 24.03125 76.421875 30.5625 79.640625 \r\nL 32.90625 72.703125 \r\nQ 26.03125 67.484375 21.75 56.765625 \r\nQ 17.484375 46.046875 17.09375 32.234375 \r\nL 17.046875 28.03125 \r\nQ 17.046875 13.234375 21.21875 1.625 \r\nQ 25.390625 -9.96875 32.90625 -16.015625 \r\nL 30.5625 -22.609375 \r\nQ 24.03125 -19.390625 18.140625 -11.359375 \r\nQ 12.25 -3.328125 9.25 6.75 \r\nQ 6.25 16.84375 6.25 28.90625 \r\nz\r\n\" id=\"Roboto-Medium-40\"/>\r\n       <path d=\"M 19.578125 26.421875 \r\nL 19.578125 0 \r\nL 7.234375 0 \r\nL 7.234375 71.09375 \r\nL 34.421875 71.09375 \r\nQ 46.34375 71.09375 53.34375 64.890625 \r\nQ 60.359375 58.6875 60.359375 48.484375 \r\nQ 60.359375 38.03125 53.484375 32.21875 \r\nQ 46.625 26.421875 34.28125 26.421875 \r\nz\r\nM 19.578125 36.328125 \r\nL 34.421875 36.328125 \r\nQ 41.015625 36.328125 44.484375 39.421875 \r\nQ 47.953125 42.53125 47.953125 48.390625 \r\nQ 47.953125 54.15625 44.4375 57.59375 \r\nQ 40.921875 61.03125 34.765625 61.140625 \r\nL 19.578125 61.140625 \r\nz\r\n\" id=\"Roboto-Medium-80\"/>\r\n       <path d=\"M 3.859375 26.90625 \r\nQ 3.859375 34.671875 6.9375 40.890625 \r\nQ 10.015625 47.125 15.578125 50.46875 \r\nQ 21.140625 53.8125 28.375 53.8125 \r\nQ 39.0625 53.8125 45.71875 46.921875 \r\nQ 52.390625 40.046875 52.9375 28.65625 \r\nL 52.984375 25.875 \r\nQ 52.984375 18.0625 49.96875 11.90625 \r\nQ 46.96875 5.765625 41.375 2.390625 \r\nQ 35.796875 -0.984375 28.46875 -0.984375 \r\nQ 17.28125 -0.984375 10.5625 6.46875 \r\nQ 3.859375 13.921875 3.859375 26.3125 \r\nz\r\nM 15.71875 25.875 \r\nQ 15.71875 17.71875 19.09375 13.109375 \r\nQ 22.46875 8.5 28.46875 8.5 \r\nQ 34.46875 8.5 37.8125 13.1875 \r\nQ 41.15625 17.875 41.15625 26.90625 \r\nQ 41.15625 34.90625 37.71875 39.59375 \r\nQ 34.28125 44.28125 28.375 44.28125 \r\nQ 22.5625 44.28125 19.140625 39.671875 \r\nQ 15.71875 35.0625 15.71875 25.875 \r\nz\r\n\" id=\"Roboto-Medium-111\"/>\r\n       <path d=\"M 35.6875 14.359375 \r\nQ 35.6875 17.53125 33.078125 19.1875 \r\nQ 30.46875 20.84375 24.40625 22.109375 \r\nQ 18.359375 23.390625 14.3125 25.34375 \r\nQ 5.421875 29.640625 5.421875 37.796875 \r\nQ 5.421875 44.625 11.171875 49.21875 \r\nQ 16.9375 53.8125 25.828125 53.8125 \r\nQ 35.296875 53.8125 41.125 49.125 \r\nQ 46.96875 44.4375 46.96875 36.96875 \r\nL 35.109375 36.96875 \r\nQ 35.109375 40.375 32.5625 42.640625 \r\nQ 30.03125 44.921875 25.828125 44.921875 \r\nQ 21.921875 44.921875 19.453125 43.109375 \r\nQ 17 41.3125 17 38.28125 \r\nQ 17 35.546875 19.28125 34.03125 \r\nQ 21.578125 32.515625 28.5625 30.96875 \r\nQ 35.546875 29.4375 39.515625 27.3125 \r\nQ 43.5 25.203125 45.421875 22.21875 \r\nQ 47.359375 19.234375 47.359375 14.984375 \r\nQ 47.359375 7.859375 41.453125 3.4375 \r\nQ 35.546875 -0.984375 25.984375 -0.984375 \r\nQ 19.484375 -0.984375 14.40625 1.359375 \r\nQ 9.328125 3.71875 6.484375 7.8125 \r\nQ 3.65625 11.921875 3.65625 16.65625 \r\nL 15.1875 16.65625 \r\nQ 15.4375 12.453125 18.359375 10.171875 \r\nQ 21.296875 7.90625 26.125 7.90625 \r\nQ 30.8125 7.90625 33.25 9.6875 \r\nQ 35.6875 11.46875 35.6875 14.359375 \r\nz\r\n\" id=\"Roboto-Medium-115\"/>\r\n       <path d=\"M 18.703125 0 \r\nL 6.84375 0 \r\nL 6.84375 52.828125 \r\nL 18.703125 52.828125 \r\nz\r\nM 6.109375 66.546875 \r\nQ 6.109375 69.28125 7.84375 71.09375 \r\nQ 9.578125 72.90625 12.796875 72.90625 \r\nQ 16.015625 72.90625 17.765625 71.09375 \r\nQ 19.53125 69.28125 19.53125 66.546875 \r\nQ 19.53125 63.875 17.765625 62.078125 \r\nQ 16.015625 60.296875 12.796875 60.296875 \r\nQ 9.578125 60.296875 7.84375 62.078125 \r\nQ 6.109375 63.875 6.109375 66.546875 \r\nz\r\n\" id=\"Roboto-Medium-105\"/>\r\n       <path d=\"M 20.953125 65.671875 \r\nL 20.953125 52.828125 \r\nL 30.28125 52.828125 \r\nL 30.28125 44.046875 \r\nL 20.953125 44.046875 \r\nL 20.953125 14.546875 \r\nQ 20.953125 11.53125 22.140625 10.1875 \r\nQ 23.34375 8.84375 26.421875 8.84375 \r\nQ 28.46875 8.84375 30.5625 9.328125 \r\nL 30.5625 0.140625 \r\nQ 26.515625 -0.984375 22.75 -0.984375 \r\nQ 9.078125 -0.984375 9.078125 14.109375 \r\nL 9.078125 44.046875 \r\nL 0.390625 44.046875 \r\nL 0.390625 52.828125 \r\nL 9.078125 52.828125 \r\nL 9.078125 65.671875 \r\nz\r\n\" id=\"Roboto-Medium-116\"/>\r\n       <path d=\"M 24.703125 15.046875 \r\nL 35.890625 52.828125 \r\nL 48.140625 52.828125 \r\nL 29.828125 0 \r\nL 19.53125 0 \r\nL 1.078125 52.828125 \r\nL 13.375 52.828125 \r\nz\r\n\" id=\"Roboto-Medium-118\"/>\r\n       <path d=\"M 52.4375 25.875 \r\nQ 52.4375 13.578125 46.9375 6.296875 \r\nQ 41.453125 -0.984375 31.84375 -0.984375 \r\nQ 22.5625 -0.984375 17.390625 5.71875 \r\nL 16.796875 0 \r\nL 6.0625 0 \r\nL 6.0625 75 \r\nL 17.921875 75 \r\nL 17.921875 47.75 \r\nQ 23.046875 53.8125 31.734375 53.8125 \r\nQ 41.40625 53.8125 46.921875 46.625 \r\nQ 52.4375 39.453125 52.4375 26.5625 \r\nz\r\nM 40.578125 26.90625 \r\nQ 40.578125 35.5 37.546875 39.796875 \r\nQ 34.515625 44.09375 28.765625 44.09375 \r\nQ 21.046875 44.09375 17.921875 37.359375 \r\nL 17.921875 15.578125 \r\nQ 21.09375 8.6875 28.859375 8.6875 \r\nQ 34.421875 8.6875 37.453125 12.84375 \r\nQ 40.484375 17 40.578125 25.390625 \r\nz\r\n\" id=\"Roboto-Medium-98\"/>\r\n       <path d=\"M 13.234375 12.5 \r\nQ 16.546875 12.5 18.359375 10.609375 \r\nQ 20.171875 8.734375 20.171875 5.90625 \r\nQ 20.171875 3.125 18.359375 1.296875 \r\nQ 16.546875 -0.53125 13.234375 -0.53125 \r\nQ 10.0625 -0.53125 8.203125 1.265625 \r\nQ 6.34375 3.078125 6.34375 5.90625 \r\nQ 6.34375 8.734375 8.15625 10.609375 \r\nQ 9.96875 12.5 13.234375 12.5 \r\nz\r\nM 13.234375 53.953125 \r\nQ 16.546875 53.953125 18.359375 52.0625 \r\nQ 20.171875 50.1875 20.171875 47.359375 \r\nQ 20.171875 44.578125 18.359375 42.75 \r\nQ 16.546875 40.921875 13.234375 40.921875 \r\nQ 10.0625 40.921875 8.203125 42.71875 \r\nQ 6.34375 44.53125 6.34375 47.359375 \r\nQ 6.34375 50.1875 8.15625 52.0625 \r\nQ 9.96875 53.953125 13.234375 53.953125 \r\nz\r\n\" id=\"Roboto-Medium-58\"/>\r\n       <path d=\"M 28.953125 28.125 \r\nQ 28.953125 17.28125 25.96875 7.203125 \r\nQ 23 -2.875 16.9375 -11.15625 \r\nQ 10.890625 -19.4375 4.296875 -22.609375 \r\nL 1.953125 -16.015625 \r\nQ 9.28125 -10.359375 13.546875 1.28125 \r\nQ 17.828125 12.9375 17.828125 27.875 \r\nL 17.828125 29 \r\nQ 17.828125 42.578125 14.109375 53.734375 \r\nQ 10.40625 64.890625 3.46875 71.625 \r\nL 1.953125 73 \r\nL 4.296875 79.640625 \r\nQ 10.546875 76.609375 16.40625 68.890625 \r\nQ 22.265625 61.1875 25.390625 51.640625 \r\nQ 28.515625 42.09375 28.90625 31.9375 \r\nz\r\n\" id=\"Roboto-Medium-41\"/>\r\n      </defs>\r\n      <use xlink:href=\"#Roboto-Medium-82\"/>\r\n      <use x=\"62.402344\" xlink:href=\"#Roboto-Medium-101\"/>\r\n      <use x=\"116.064453\" xlink:href=\"#Roboto-Medium-99\"/>\r\n      <use x=\"168.408203\" xlink:href=\"#Roboto-Medium-97\"/>\r\n      <use x=\"222.509766\" xlink:href=\"#Roboto-Medium-108\"/>\r\n      <use x=\"248.046875\" xlink:href=\"#Roboto-Medium-108\"/>\r\n      <use x=\"273.583984\" xlink:href=\"#Roboto-Medium-32\"/>\r\n      <use x=\"298.486328\" xlink:href=\"#Roboto-Medium-40\"/>\r\n      <use x=\"333.349609\" xlink:href=\"#Roboto-Medium-80\"/>\r\n      <use x=\"397.265625\" xlink:href=\"#Roboto-Medium-111\"/>\r\n      <use x=\"454.199219\" xlink:href=\"#Roboto-Medium-115\"/>\r\n      <use x=\"505.810547\" xlink:href=\"#Roboto-Medium-105\"/>\r\n      <use x=\"531.347656\" xlink:href=\"#Roboto-Medium-116\"/>\r\n      <use x=\"564.599609\" xlink:href=\"#Roboto-Medium-105\"/>\r\n      <use x=\"590.136719\" xlink:href=\"#Roboto-Medium-118\"/>\r\n      <use x=\"639.599609\" xlink:href=\"#Roboto-Medium-101\"/>\r\n      <use x=\"693.261719\" xlink:href=\"#Roboto-Medium-32\"/>\r\n      <use x=\"718.164062\" xlink:href=\"#Roboto-Medium-108\"/>\r\n      <use x=\"743.701172\" xlink:href=\"#Roboto-Medium-97\"/>\r\n      <use x=\"797.802734\" xlink:href=\"#Roboto-Medium-98\"/>\r\n      <use x=\"854.101562\" xlink:href=\"#Roboto-Medium-101\"/>\r\n      <use x=\"907.763672\" xlink:href=\"#Roboto-Medium-108\"/>\r\n      <use x=\"933.300781\" xlink:href=\"#Roboto-Medium-58\"/>\r\n      <use x=\"959.814453\" xlink:href=\"#Roboto-Medium-32\"/>\r\n      <use x=\"984.716797\" xlink:href=\"#Roboto-Medium-49\"/>\r\n      <use x=\"1041.552734\" xlink:href=\"#Roboto-Medium-46\"/>\r\n      <use x=\"1069.482422\" xlink:href=\"#Roboto-Medium-48\"/>\r\n      <use x=\"1126.318359\" xlink:href=\"#Roboto-Medium-41\"/>\r\n     </g>\r\n    </g>\r\n   </g>\r\n   <g id=\"matplotlib.axis_2\">\r\n    <g id=\"ytick_1\">\r\n     <g id=\"line2d_7\">\r\n      <defs>\r\n       <path d=\"M 0 0 \r\nL -3.5 0 \r\n\" id=\"m97e94ae97a\" style=\"stroke:#58544f;stroke-width:0.8;\"/>\r\n      </defs>\r\n      <g>\r\n       <use style=\"fill:#58544f;stroke:#58544f;stroke-width:0.8;\" x=\"39.755\" xlink:href=\"#m97e94ae97a\" y=\"229.756364\"/>\r\n      </g>\r\n     </g>\r\n     <g id=\"text_8\">\r\n      <!-- 0.5 -->\r\n      <g style=\"fill:#58544f;\" transform=\"translate(21.425 232.756364)scale(0.08 -0.08)\">\r\n       <defs>\r\n        <path d=\"M 8.5 35.25 \r\nL 12.359375 71.09375 \r\nL 50.53125 71.09375 \r\nL 50.53125 60.84375 \r\nL 22.21875 60.84375 \r\nL 20.265625 43.84375 \r\nQ 25.203125 46.6875 31.390625 46.6875 \r\nQ 41.546875 46.6875 47.1875 40.1875 \r\nQ 52.828125 33.6875 52.828125 22.703125 \r\nQ 52.828125 11.859375 46.578125 5.4375 \r\nQ 40.328125 -0.984375 29.4375 -0.984375 \r\nQ 19.671875 -0.984375 13.25 4.5625 \r\nQ 6.84375 10.109375 6.296875 19.1875 \r\nL 17.78125 19.1875 \r\nQ 18.453125 14.015625 21.484375 11.25 \r\nQ 24.515625 8.5 29.390625 8.5 \r\nQ 34.859375 8.5 37.90625 12.40625 \r\nQ 40.96875 16.3125 40.96875 23.046875 \r\nQ 40.96875 29.546875 37.59375 33.328125 \r\nQ 34.234375 37.109375 28.328125 37.109375 \r\nQ 25.09375 37.109375 22.84375 36.25 \r\nQ 20.609375 35.40625 17.96875 32.90625 \r\nz\r\n\" id=\"Roboto-Medium-53\"/>\r\n       </defs>\r\n       <use xlink:href=\"#Roboto-Medium-48\"/>\r\n       <use x=\"56.835938\" xlink:href=\"#Roboto-Medium-46\"/>\r\n       <use x=\"84.765625\" xlink:href=\"#Roboto-Medium-53\"/>\r\n      </g>\r\n     </g>\r\n    </g>\r\n    <g id=\"ytick_2\">\r\n     <g id=\"line2d_8\">\r\n      <g>\r\n       <use style=\"fill:#58544f;stroke:#58544f;stroke-width:0.8;\" x=\"39.755\" xlink:href=\"#m97e94ae97a\" y=\"190.221818\"/>\r\n      </g>\r\n     </g>\r\n     <g id=\"text_9\">\r\n      <!-- 0.6 -->\r\n      <g style=\"fill:#58544f;\" transform=\"translate(21.425 193.221818)scale(0.08 -0.08)\">\r\n       <use xlink:href=\"#Roboto-Medium-48\"/>\r\n       <use x=\"56.835938\" xlink:href=\"#Roboto-Medium-46\"/>\r\n       <use x=\"84.765625\" xlink:href=\"#Roboto-Medium-54\"/>\r\n      </g>\r\n     </g>\r\n    </g>\r\n    <g id=\"ytick_3\">\r\n     <g id=\"line2d_9\">\r\n      <g>\r\n       <use style=\"fill:#58544f;stroke:#58544f;stroke-width:0.8;\" x=\"39.755\" xlink:href=\"#m97e94ae97a\" y=\"150.687273\"/>\r\n      </g>\r\n     </g>\r\n     <g id=\"text_10\">\r\n      <!-- 0.7 -->\r\n      <g style=\"fill:#58544f;\" transform=\"translate(21.425 153.687273)scale(0.08 -0.08)\">\r\n       <defs>\r\n        <path d=\"M 52.640625 64.5 \r\nL 24.21875 0 \r\nL 11.765625 0 \r\nL 40.140625 61.578125 \r\nL 3.375 61.578125 \r\nL 3.375 71.09375 \r\nL 52.640625 71.09375 \r\nz\r\n\" id=\"Roboto-Medium-55\"/>\r\n       </defs>\r\n       <use xlink:href=\"#Roboto-Medium-48\"/>\r\n       <use x=\"56.835938\" xlink:href=\"#Roboto-Medium-46\"/>\r\n       <use x=\"84.765625\" xlink:href=\"#Roboto-Medium-55\"/>\r\n      </g>\r\n     </g>\r\n    </g>\r\n    <g id=\"ytick_4\">\r\n     <g id=\"line2d_10\">\r\n      <g>\r\n       <use style=\"fill:#58544f;stroke:#58544f;stroke-width:0.8;\" x=\"39.755\" xlink:href=\"#m97e94ae97a\" y=\"111.152727\"/>\r\n      </g>\r\n     </g>\r\n     <g id=\"text_11\">\r\n      <!-- 0.8 -->\r\n      <g style=\"fill:#58544f;\" transform=\"translate(21.425 114.152727)scale(0.08 -0.08)\">\r\n       <use xlink:href=\"#Roboto-Medium-48\"/>\r\n       <use x=\"56.835938\" xlink:href=\"#Roboto-Medium-46\"/>\r\n       <use x=\"84.765625\" xlink:href=\"#Roboto-Medium-56\"/>\r\n      </g>\r\n     </g>\r\n    </g>\r\n    <g id=\"ytick_5\">\r\n     <g id=\"line2d_11\">\r\n      <g>\r\n       <use style=\"fill:#58544f;stroke:#58544f;stroke-width:0.8;\" x=\"39.755\" xlink:href=\"#m97e94ae97a\" y=\"71.618182\"/>\r\n      </g>\r\n     </g>\r\n     <g id=\"text_12\">\r\n      <!-- 0.9 -->\r\n      <g style=\"fill:#58544f;\" transform=\"translate(21.425 74.618182)scale(0.08 -0.08)\">\r\n       <defs>\r\n        <path d=\"M 38.96875 29.734375 \r\nQ 33.015625 23.4375 25.046875 23.4375 \r\nQ 15.671875 23.4375 10.109375 30 \r\nQ 4.546875 36.578125 4.546875 47.265625 \r\nQ 4.546875 54.296875 7.375 60 \r\nQ 10.203125 65.71875 15.421875 68.890625 \r\nQ 20.65625 72.078125 27.546875 72.078125 \r\nQ 38.28125 72.078125 44.578125 64.0625 \r\nQ 50.875 56.0625 50.875 42.625 \r\nL 50.875 39.3125 \r\nQ 50.875 20.0625 42.1875 9.953125 \r\nQ 33.5 -0.140625 16.265625 -0.296875 \r\nL 14.84375 -0.296875 \r\nL 14.84375 9.515625 \r\nL 16.546875 9.515625 \r\nQ 27.046875 9.671875 32.65625 14.578125 \r\nQ 38.28125 19.484375 38.96875 29.734375 \r\nz\r\nM 27.546875 32.71875 \r\nQ 31.109375 32.71875 34.234375 34.765625 \r\nQ 37.359375 36.8125 39.0625 40.4375 \r\nL 39.0625 45.0625 \r\nQ 39.0625 52.9375 35.84375 57.71875 \r\nQ 32.625 62.5 27.484375 62.5 \r\nQ 22.359375 62.5 19.3125 58.265625 \r\nQ 16.265625 54.046875 16.265625 47.609375 \r\nQ 16.265625 40.921875 19.328125 36.8125 \r\nQ 22.40625 32.71875 27.546875 32.71875 \r\nz\r\n\" id=\"Roboto-Medium-57\"/>\r\n       </defs>\r\n       <use xlink:href=\"#Roboto-Medium-48\"/>\r\n       <use x=\"56.835938\" xlink:href=\"#Roboto-Medium-46\"/>\r\n       <use x=\"84.765625\" xlink:href=\"#Roboto-Medium-57\"/>\r\n      </g>\r\n     </g>\r\n    </g>\r\n    <g id=\"ytick_6\">\r\n     <g id=\"line2d_12\">\r\n      <g>\r\n       <use style=\"fill:#58544f;stroke:#58544f;stroke-width:0.8;\" x=\"39.755\" xlink:href=\"#m97e94ae97a\" y=\"32.083636\"/>\r\n      </g>\r\n     </g>\r\n     <g id=\"text_13\">\r\n      <!-- 1.0 -->\r\n      <g style=\"fill:#58544f;\" transform=\"translate(21.425 35.083636)scale(0.08 -0.08)\">\r\n       <use xlink:href=\"#Roboto-Medium-49\"/>\r\n       <use x=\"56.835938\" xlink:href=\"#Roboto-Medium-46\"/>\r\n       <use x=\"84.765625\" xlink:href=\"#Roboto-Medium-48\"/>\r\n      </g>\r\n     </g>\r\n    </g>\r\n    <g id=\"text_14\">\r\n     <!-- Precision (Positive label: 1.0) -->\r\n     <g style=\"fill:#58544f;\" transform=\"translate(15.164063 196.334844)rotate(-90)scale(0.1 -0.1)\">\r\n      <defs>\r\n       <path d=\"M 33.734375 42 \r\nQ 31.390625 42.390625 28.90625 42.390625 \r\nQ 20.75 42.390625 17.921875 36.140625 \r\nL 17.921875 0 \r\nL 6.0625 0 \r\nL 6.0625 52.828125 \r\nL 17.390625 52.828125 \r\nL 17.671875 46.921875 \r\nQ 21.96875 53.8125 29.59375 53.8125 \r\nQ 32.125 53.8125 33.796875 53.125 \r\nz\r\n\" id=\"Roboto-Medium-114\"/>\r\n       <path d=\"M 17.09375 52.828125 \r\nL 17.4375 46.734375 \r\nQ 23.296875 53.8125 32.8125 53.8125 \r\nQ 49.3125 53.8125 49.609375 34.90625 \r\nL 49.609375 0 \r\nL 37.75 0 \r\nL 37.75 34.234375 \r\nQ 37.75 39.265625 35.578125 41.671875 \r\nQ 33.40625 44.09375 28.46875 44.09375 \r\nQ 21.296875 44.09375 17.78125 37.59375 \r\nL 17.78125 0 \r\nL 5.90625 0 \r\nL 5.90625 52.828125 \r\nz\r\n\" id=\"Roboto-Medium-110\"/>\r\n      </defs>\r\n      <use xlink:href=\"#Roboto-Medium-80\"/>\r\n      <use x=\"63.916016\" xlink:href=\"#Roboto-Medium-114\"/>\r\n      <use x=\"99.072266\" xlink:href=\"#Roboto-Medium-101\"/>\r\n      <use x=\"152.734375\" xlink:href=\"#Roboto-Medium-99\"/>\r\n      <use x=\"205.078125\" xlink:href=\"#Roboto-Medium-105\"/>\r\n      <use x=\"230.615234\" xlink:href=\"#Roboto-Medium-115\"/>\r\n      <use x=\"282.226562\" xlink:href=\"#Roboto-Medium-105\"/>\r\n      <use x=\"307.763672\" xlink:href=\"#Roboto-Medium-111\"/>\r\n      <use x=\"364.697266\" xlink:href=\"#Roboto-Medium-110\"/>\r\n      <use x=\"420.3125\" xlink:href=\"#Roboto-Medium-32\"/>\r\n      <use x=\"445.214844\" xlink:href=\"#Roboto-Medium-40\"/>\r\n      <use x=\"480.078125\" xlink:href=\"#Roboto-Medium-80\"/>\r\n      <use x=\"543.994141\" xlink:href=\"#Roboto-Medium-111\"/>\r\n      <use x=\"600.927734\" xlink:href=\"#Roboto-Medium-115\"/>\r\n      <use x=\"652.539062\" xlink:href=\"#Roboto-Medium-105\"/>\r\n      <use x=\"678.076172\" xlink:href=\"#Roboto-Medium-116\"/>\r\n      <use x=\"711.328125\" xlink:href=\"#Roboto-Medium-105\"/>\r\n      <use x=\"736.865234\" xlink:href=\"#Roboto-Medium-118\"/>\r\n      <use x=\"786.328125\" xlink:href=\"#Roboto-Medium-101\"/>\r\n      <use x=\"839.990234\" xlink:href=\"#Roboto-Medium-32\"/>\r\n      <use x=\"864.892578\" xlink:href=\"#Roboto-Medium-108\"/>\r\n      <use x=\"890.429688\" xlink:href=\"#Roboto-Medium-97\"/>\r\n      <use x=\"944.53125\" xlink:href=\"#Roboto-Medium-98\"/>\r\n      <use x=\"1000.830078\" xlink:href=\"#Roboto-Medium-101\"/>\r\n      <use x=\"1054.492188\" xlink:href=\"#Roboto-Medium-108\"/>\r\n      <use x=\"1080.029297\" xlink:href=\"#Roboto-Medium-58\"/>\r\n      <use x=\"1106.542969\" xlink:href=\"#Roboto-Medium-32\"/>\r\n      <use x=\"1131.445312\" xlink:href=\"#Roboto-Medium-49\"/>\r\n      <use x=\"1188.28125\" xlink:href=\"#Roboto-Medium-46\"/>\r\n      <use x=\"1216.210938\" xlink:href=\"#Roboto-Medium-48\"/>\r\n      <use x=\"1273.046875\" xlink:href=\"#Roboto-Medium-41\"/>\r\n     </g>\r\n    </g>\r\n   </g>\r\n   <g id=\"line2d_13\">\r\n    <path clip-path=\"url(#p67f8dc7a46)\" d=\"M 359.336818 180.338182 \r\nL 344.118636 180.338182 \r\nL 344.118636 185.120587 \r\nL 344.118636 185.120587 \r\nL 344.118636 177.043636 \r\nL 344.118636 177.043636 \r\nL 344.118636 168.409655 \r\nL 328.900455 168.409655 \r\nL 328.900455 173.278442 \r\nL 328.900455 173.278442 \r\nL 328.900455 163.865455 \r\nL 328.900455 163.865455 \r\nL 328.900455 153.728392 \r\nL 328.900455 153.728392 \r\nL 328.900455 142.780364 \r\nL 328.900455 142.780364 \r\nL 328.900455 130.92 \r\nL 313.682273 130.92 \r\nL 313.682273 135.217233 \r\nL 298.464091 135.217233 \r\nL 298.464091 139.905124 \r\nL 283.245909 139.905124 \r\nL 283.245909 145.039481 \r\nL 268.027727 145.039481 \r\nL 268.027727 150.687273 \r\nL 222.373182 150.687273 \r\nL 222.373182 116.800519 \r\nL 222.373182 116.800519 \r\nL 222.373182 92.906014 \r\nL 207.155 92.906014 \r\nL 207.155 68.024132 \r\nL 176.718636 68.024132 \r\nL 176.718636 76.010909 \r\nL 161.500455 76.010909 \r\nL 161.500455 81.501818 \r\nL 146.282273 81.501818 \r\nL 146.282273 88.561558 \r\nL 131.064091 88.561558 \r\nL 131.064091 97.974545 \r\nL 115.845909 97.974545 \r\nL 115.845909 111.152727 \r\nL 100.627727 111.152727 \r\nL 100.627727 130.92 \r\nL 85.409545 130.92 \r\nL 85.409545 163.865455 \r\nL 70.191364 163.865455 \r\nL 70.191364 229.756364 \r\nL 70.191364 229.756364 \r\nL 70.191364 32.083636 \r\nL 54.973182 32.083636 \r\nL 54.973182 32.083636 \r\n\" style=\"fill:none;stroke:#0088ed;stroke-linecap:square;stroke-width:1.5;\"/>\r\n   </g>\r\n   <g id=\"patch_3\">\r\n    <path d=\"M 39.755 239.64 \r\nL 39.755 22.2 \r\n\" style=\"fill:none;stroke:#58544f;stroke-linecap:square;stroke-linejoin:miter;stroke-width:0.8;\"/>\r\n   </g>\r\n   <g id=\"patch_4\">\r\n    <path d=\"M 374.555 239.64 \r\nL 374.555 22.2 \r\n\" style=\"fill:none;stroke:#58544f;stroke-linecap:square;stroke-linejoin:miter;stroke-width:0.8;\"/>\r\n   </g>\r\n   <g id=\"patch_5\">\r\n    <path d=\"M 39.755 239.64 \r\nL 374.555 239.64 \r\n\" style=\"fill:none;stroke:#58544f;stroke-linecap:square;stroke-linejoin:miter;stroke-width:0.8;\"/>\r\n   </g>\r\n   <g id=\"patch_6\">\r\n    <path d=\"M 39.755 22.2 \r\nL 374.555 22.2 \r\n\" style=\"fill:none;stroke:#58544f;stroke-linecap:square;stroke-linejoin:miter;stroke-width:0.8;\"/>\r\n   </g>\r\n   <g id=\"text_15\">\r\n    <!-- 2-class Precision-Recall curve: AP=0.70 -->\r\n    <g transform=\"translate(100.123438 16.2)scale(0.12 -0.12)\">\r\n     <defs>\r\n      <path d=\"M 29.109375 25.4375 \r\nL 3.46875 25.4375 \r\nL 3.46875 35.015625 \r\nL 29.109375 35.015625 \r\nz\r\n\" id=\"Roboto-Medium-45\"/>\r\n      <path d=\"M 38.09375 5.171875 \r\nQ 32.859375 -0.984375 23.25 -0.984375 \r\nQ 14.65625 -0.984375 10.234375 4.046875 \r\nQ 5.8125 9.078125 5.8125 18.609375 \r\nL 5.8125 52.828125 \r\nL 17.671875 52.828125 \r\nL 17.671875 18.75 \r\nQ 17.671875 8.6875 26.03125 8.6875 \r\nQ 34.671875 8.6875 37.703125 14.890625 \r\nL 37.703125 52.828125 \r\nL 49.5625 52.828125 \r\nL 49.5625 0 \r\nL 38.375 0 \r\nz\r\n\" id=\"Roboto-Medium-117\"/>\r\n      <path d=\"M 47.015625 16.546875 \r\nL 19.484375 16.546875 \r\nL 13.71875 0 \r\nL 0.875 0 \r\nL 27.734375 71.09375 \r\nL 38.8125 71.09375 \r\nL 65.71875 0 \r\nL 52.828125 0 \r\nz\r\nM 22.953125 26.515625 \r\nL 43.5625 26.515625 \r\nL 33.25 56 \r\nz\r\n\" id=\"Roboto-Medium-65\"/>\r\n      <path d=\"M 49.171875 38.09375 \r\nL 7.078125 38.09375 \r\nL 7.078125 47.953125 \r\nL 49.171875 47.953125 \r\nz\r\nM 49.171875 17.390625 \r\nL 7.078125 17.390625 \r\nL 7.078125 27.203125 \r\nL 49.171875 27.203125 \r\nz\r\n\" id=\"Roboto-Medium-61\"/>\r\n     </defs>\r\n     <use xlink:href=\"#Roboto-Medium-50\"/>\r\n     <use x=\"56.835938\" xlink:href=\"#Roboto-Medium-45\"/>\r\n     <use x=\"89.648438\" xlink:href=\"#Roboto-Medium-99\"/>\r\n     <use x=\"141.992188\" xlink:href=\"#Roboto-Medium-108\"/>\r\n     <use x=\"167.529297\" xlink:href=\"#Roboto-Medium-97\"/>\r\n     <use x=\"221.630859\" xlink:href=\"#Roboto-Medium-115\"/>\r\n     <use x=\"273.242188\" xlink:href=\"#Roboto-Medium-115\"/>\r\n     <use x=\"324.853516\" xlink:href=\"#Roboto-Medium-32\"/>\r\n     <use x=\"349.755859\" xlink:href=\"#Roboto-Medium-80\"/>\r\n     <use x=\"413.671875\" xlink:href=\"#Roboto-Medium-114\"/>\r\n     <use x=\"448.828125\" xlink:href=\"#Roboto-Medium-101\"/>\r\n     <use x=\"502.490234\" xlink:href=\"#Roboto-Medium-99\"/>\r\n     <use x=\"554.833984\" xlink:href=\"#Roboto-Medium-105\"/>\r\n     <use x=\"580.371094\" xlink:href=\"#Roboto-Medium-115\"/>\r\n     <use x=\"631.982422\" xlink:href=\"#Roboto-Medium-105\"/>\r\n     <use x=\"657.519531\" xlink:href=\"#Roboto-Medium-111\"/>\r\n     <use x=\"714.453125\" xlink:href=\"#Roboto-Medium-110\"/>\r\n     <use x=\"770.068359\" xlink:href=\"#Roboto-Medium-45\"/>\r\n     <use x=\"802.880859\" xlink:href=\"#Roboto-Medium-82\"/>\r\n     <use x=\"865.283203\" xlink:href=\"#Roboto-Medium-101\"/>\r\n     <use x=\"918.945312\" xlink:href=\"#Roboto-Medium-99\"/>\r\n     <use x=\"971.289062\" xlink:href=\"#Roboto-Medium-97\"/>\r\n     <use x=\"1025.390625\" xlink:href=\"#Roboto-Medium-108\"/>\r\n     <use x=\"1050.927734\" xlink:href=\"#Roboto-Medium-108\"/>\r\n     <use x=\"1076.464844\" xlink:href=\"#Roboto-Medium-32\"/>\r\n     <use x=\"1101.367188\" xlink:href=\"#Roboto-Medium-99\"/>\r\n     <use x=\"1153.710938\" xlink:href=\"#Roboto-Medium-117\"/>\r\n     <use x=\"1209.277344\" xlink:href=\"#Roboto-Medium-114\"/>\r\n     <use x=\"1244.433594\" xlink:href=\"#Roboto-Medium-118\"/>\r\n     <use x=\"1293.896484\" xlink:href=\"#Roboto-Medium-101\"/>\r\n     <use x=\"1347.558594\" xlink:href=\"#Roboto-Medium-58\"/>\r\n     <use x=\"1374.072266\" xlink:href=\"#Roboto-Medium-32\"/>\r\n     <use x=\"1398.974609\" xlink:href=\"#Roboto-Medium-65\"/>\r\n     <use x=\"1465.527344\" xlink:href=\"#Roboto-Medium-80\"/>\r\n     <use x=\"1529.443359\" xlink:href=\"#Roboto-Medium-61\"/>\r\n     <use x=\"1585.400391\" xlink:href=\"#Roboto-Medium-48\"/>\r\n     <use x=\"1642.236328\" xlink:href=\"#Roboto-Medium-46\"/>\r\n     <use x=\"1670.166016\" xlink:href=\"#Roboto-Medium-55\"/>\r\n     <use x=\"1727.001953\" xlink:href=\"#Roboto-Medium-48\"/>\r\n    </g>\r\n   </g>\r\n   <g id=\"legend_1\">\r\n    <g id=\"patch_7\">\r\n     <path d=\"M 46.755 234.64 \r\nL 194.631563 234.64 \r\nQ 196.631563 234.64 196.631563 232.64 \r\nL 196.631563 218.415 \r\nQ 196.631563 216.415 194.631563 216.415 \r\nL 46.755 216.415 \r\nQ 44.755 216.415 44.755 218.415 \r\nL 44.755 232.64 \r\nQ 44.755 234.64 46.755 234.64 \r\nz\r\n\" style=\"fill:#ffffff;opacity:0.8;stroke:#cccccc;stroke-linejoin:miter;\"/>\r\n    </g>\r\n    <g id=\"line2d_14\">\r\n     <path d=\"M 48.755 224.879062 \r\nL 68.755 224.879062 \r\n\" style=\"fill:none;stroke:#0088ed;stroke-linecap:square;stroke-width:1.5;\"/>\r\n    </g>\r\n    <g id=\"line2d_15\"/>\r\n    <g id=\"text_16\">\r\n     <!-- MLPClassifier (AP = 0.78) -->\r\n     <g transform=\"translate(76.755 228.379062)scale(0.1 -0.1)\">\r\n      <defs>\r\n       <path d=\"M 23.25 71.09375 \r\nL 43.75 16.609375 \r\nL 64.203125 71.09375 \r\nL 80.171875 71.09375 \r\nL 80.171875 0 \r\nL 67.875 0 \r\nL 67.875 23.4375 \r\nL 69.09375 54.78125 \r\nL 48.09375 0 \r\nL 39.265625 0 \r\nL 18.3125 54.734375 \r\nL 19.53125 23.4375 \r\nL 19.53125 0 \r\nL 7.234375 0 \r\nL 7.234375 71.09375 \r\nz\r\n\" id=\"Roboto-Medium-77\"/>\r\n       <path d=\"M 19.578125 9.859375 \r\nL 51.859375 9.859375 \r\nL 51.859375 0 \r\nL 7.234375 0 \r\nL 7.234375 71.09375 \r\nL 19.578125 71.09375 \r\nz\r\n\" id=\"Roboto-Medium-76\"/>\r\n       <path d=\"M 61.46875 23.140625 \r\nQ 60.40625 11.765625 53.078125 5.390625 \r\nQ 45.75 -0.984375 33.59375 -0.984375 \r\nQ 25.09375 -0.984375 18.625 3.046875 \r\nQ 12.15625 7.078125 8.640625 14.5 \r\nQ 5.125 21.921875 4.984375 31.734375 \r\nL 4.984375 38.375 \r\nQ 4.984375 48.4375 8.546875 56.09375 \r\nQ 12.109375 63.765625 18.765625 67.921875 \r\nQ 25.4375 72.078125 34.1875 72.078125 \r\nQ 45.953125 72.078125 53.125 65.671875 \r\nQ 60.296875 59.28125 61.46875 47.609375 \r\nL 49.171875 47.609375 \r\nQ 48.296875 55.28125 44.703125 58.671875 \r\nQ 41.109375 62.0625 34.1875 62.0625 \r\nQ 26.125 62.0625 21.796875 56.171875 \r\nQ 17.484375 50.296875 17.390625 38.921875 \r\nL 17.390625 32.625 \r\nQ 17.390625 21.09375 21.515625 15.03125 \r\nQ 25.640625 8.984375 33.59375 8.984375 \r\nQ 40.875 8.984375 44.53125 12.25 \r\nQ 48.1875 15.53125 49.171875 23.140625 \r\nz\r\n\" id=\"Roboto-Medium-67\"/>\r\n       <path d=\"M 10.25 0 \r\nL 10.25 44.046875 \r\nL 2.203125 44.046875 \r\nL 2.203125 52.828125 \r\nL 10.25 52.828125 \r\nL 10.25 57.671875 \r\nQ 10.25 66.453125 15.125 71.234375 \r\nQ 20.015625 76.03125 28.8125 76.03125 \r\nQ 31.9375 76.03125 35.453125 75.140625 \r\nL 35.15625 65.875 \r\nQ 33.203125 66.265625 30.609375 66.265625 \r\nQ 22.125 66.265625 22.125 57.515625 \r\nL 22.125 52.828125 \r\nL 32.859375 52.828125 \r\nL 32.859375 44.046875 \r\nL 22.125 44.046875 \r\nL 22.125 0 \r\nz\r\n\" id=\"Roboto-Medium-102\"/>\r\n      </defs>\r\n      <use xlink:href=\"#Roboto-Medium-77\"/>\r\n      <use x=\"87.548828\" xlink:href=\"#Roboto-Medium-76\"/>\r\n      <use x=\"141.650391\" xlink:href=\"#Roboto-Medium-80\"/>\r\n      <use x=\"205.566406\" xlink:href=\"#Roboto-Medium-67\"/>\r\n      <use x=\"270.849609\" xlink:href=\"#Roboto-Medium-108\"/>\r\n      <use x=\"296.386719\" xlink:href=\"#Roboto-Medium-97\"/>\r\n      <use x=\"350.488281\" xlink:href=\"#Roboto-Medium-115\"/>\r\n      <use x=\"402.099609\" xlink:href=\"#Roboto-Medium-115\"/>\r\n      <use x=\"453.710938\" xlink:href=\"#Roboto-Medium-105\"/>\r\n      <use x=\"479.248047\" xlink:href=\"#Roboto-Medium-102\"/>\r\n      <use x=\"514.697266\" xlink:href=\"#Roboto-Medium-105\"/>\r\n      <use x=\"540.234375\" xlink:href=\"#Roboto-Medium-101\"/>\r\n      <use x=\"593.896484\" xlink:href=\"#Roboto-Medium-114\"/>\r\n      <use x=\"629.052734\" xlink:href=\"#Roboto-Medium-32\"/>\r\n      <use x=\"653.955078\" xlink:href=\"#Roboto-Medium-40\"/>\r\n      <use x=\"688.818359\" xlink:href=\"#Roboto-Medium-65\"/>\r\n      <use x=\"755.371094\" xlink:href=\"#Roboto-Medium-80\"/>\r\n      <use x=\"819.287109\" xlink:href=\"#Roboto-Medium-32\"/>\r\n      <use x=\"844.189453\" xlink:href=\"#Roboto-Medium-61\"/>\r\n      <use x=\"900.146484\" xlink:href=\"#Roboto-Medium-32\"/>\r\n      <use x=\"925.048828\" xlink:href=\"#Roboto-Medium-48\"/>\r\n      <use x=\"981.884766\" xlink:href=\"#Roboto-Medium-46\"/>\r\n      <use x=\"1009.814453\" xlink:href=\"#Roboto-Medium-55\"/>\r\n      <use x=\"1066.650391\" xlink:href=\"#Roboto-Medium-56\"/>\r\n      <use x=\"1123.486328\" xlink:href=\"#Roboto-Medium-41\"/>\r\n     </g>\r\n    </g>\r\n   </g>\r\n  </g>\r\n </g>\r\n <defs>\r\n  <clipPath id=\"p67f8dc7a46\">\r\n   <rect height=\"217.44\" width=\"334.8\" x=\"39.755\" y=\"22.2\"/>\r\n  </clipPath>\r\n </defs>\r\n</svg>\r\n",
      "image/png": "[encoded data removed]"
     },
     "metadata": {}
    }
   ],
   "source": [
    "from sklearn.metrics import precision_recall_curve\n",
    "from sklearn.metrics import plot_precision_recall_curve\n",
    "import matplotlib.pyplot as plt\n",
    "\n",
    "disp = plot_precision_recall_curve(clf, X_test, y_test)\n",
    "disp.ax_.set_title('2-class Precision-Recall curve: '\n",
    "                   'AP={0:0.2f}'.format(average_precision))"
   ]
  }
 ]
}